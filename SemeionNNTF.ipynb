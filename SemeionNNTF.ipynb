{
 "cells": [
  {
   "cell_type": "code",
   "execution_count": 1436,
   "metadata": {},
   "outputs": [
    {
     "name": "stdout",
     "output_type": "stream",
     "text": [
      "2.0.0\n"
     ]
    }
   ],
   "source": [
    "#from google.colab import drive\n",
    "#drive.mount(\"/content/drive/\")\n",
    "\n",
    "#!ls \"/content/drive/My Drive\"\n",
    "\n",
    "# TensorFlow and tf.keras\n",
    "import tensorflow as tf\n",
    "from tensorflow import keras\n",
    "\n",
    "# Helper libraries\n",
    "import numpy as np\n",
    "import matplotlib.pyplot as plt\n",
    "import seaborn as sns\n",
    "import pandas as pd\n",
    "from sklearn.model_selection import train_test_split\n",
    "from sklearn import metrics\n",
    "from sklearn.metrics import mean_squared_error, r2_score, confusion_matrix\n",
    "\n",
    "# Function to transform target values of output layer\n",
    "def set_target(outputlayer):\n",
    "    row_maxes = outputlayer.max(axis=1).reshape(-1, 1)\n",
    "    outputlayer = np.where(outputlayer == row_maxes, .9, .1)\n",
    "    return outputlayer \n",
    "\n",
    "# Function to plot accuracy vs epoch graph\n",
    "\n",
    "def plot_accgraph(evaluation, n):\n",
    "    fig = plt.figure(figsize=(8,5))\n",
    "    plt.subplot(2,1,1)\n",
    "    plt.plot(evaluation.history['accuracy'])\n",
    "    plt.plot(evaluation.history['val_accuracy'])\n",
    "    plt.title('Accuracy vs Epochs with hidden units = ' +str(n) )\n",
    "    plt.ylabel('accuracy')\n",
    "    plt.xlabel('epoch')\n",
    "    plt.legend(['training', 'test'], loc='lower right')\n",
    "\n",
    "#Print TensorFlow version\n",
    "print(tf.__version__)"
   ]
  },
  {
   "cell_type": "code",
   "execution_count": 1437,
   "metadata": {},
   "outputs": [],
   "source": [
    "path = 'data/'\n",
    "filename = 'semeion.data'\n",
    "data = pd.read_csv((path+filename), delimiter = r\"\\s+\", header = None)"
   ]
  },
  {
   "cell_type": "code",
   "execution_count": 1438,
   "metadata": {},
   "outputs": [
    {
     "data": {
      "text/html": [
       "<div>\n",
       "<style scoped>\n",
       "    .dataframe tbody tr th:only-of-type {\n",
       "        vertical-align: middle;\n",
       "    }\n",
       "\n",
       "    .dataframe tbody tr th {\n",
       "        vertical-align: top;\n",
       "    }\n",
       "\n",
       "    .dataframe thead th {\n",
       "        text-align: right;\n",
       "    }\n",
       "</style>\n",
       "<table border=\"1\" class=\"dataframe\">\n",
       "  <thead>\n",
       "    <tr style=\"text-align: right;\">\n",
       "      <th></th>\n",
       "      <th>0</th>\n",
       "      <th>1</th>\n",
       "      <th>2</th>\n",
       "      <th>3</th>\n",
       "      <th>4</th>\n",
       "      <th>5</th>\n",
       "      <th>6</th>\n",
       "      <th>7</th>\n",
       "      <th>8</th>\n",
       "      <th>9</th>\n",
       "      <th>...</th>\n",
       "      <th>256</th>\n",
       "      <th>257</th>\n",
       "      <th>258</th>\n",
       "      <th>259</th>\n",
       "      <th>260</th>\n",
       "      <th>261</th>\n",
       "      <th>262</th>\n",
       "      <th>263</th>\n",
       "      <th>264</th>\n",
       "      <th>265</th>\n",
       "    </tr>\n",
       "  </thead>\n",
       "  <tbody>\n",
       "    <tr>\n",
       "      <th>0</th>\n",
       "      <td>0.0</td>\n",
       "      <td>0.0</td>\n",
       "      <td>0.0</td>\n",
       "      <td>0.0</td>\n",
       "      <td>0.0</td>\n",
       "      <td>0.0</td>\n",
       "      <td>1.0</td>\n",
       "      <td>1.0</td>\n",
       "      <td>1.0</td>\n",
       "      <td>1.0</td>\n",
       "      <td>...</td>\n",
       "      <td>1</td>\n",
       "      <td>0</td>\n",
       "      <td>0</td>\n",
       "      <td>0</td>\n",
       "      <td>0</td>\n",
       "      <td>0</td>\n",
       "      <td>0</td>\n",
       "      <td>0</td>\n",
       "      <td>0</td>\n",
       "      <td>0</td>\n",
       "    </tr>\n",
       "    <tr>\n",
       "      <th>1</th>\n",
       "      <td>0.0</td>\n",
       "      <td>0.0</td>\n",
       "      <td>0.0</td>\n",
       "      <td>0.0</td>\n",
       "      <td>0.0</td>\n",
       "      <td>1.0</td>\n",
       "      <td>1.0</td>\n",
       "      <td>1.0</td>\n",
       "      <td>1.0</td>\n",
       "      <td>1.0</td>\n",
       "      <td>...</td>\n",
       "      <td>1</td>\n",
       "      <td>0</td>\n",
       "      <td>0</td>\n",
       "      <td>0</td>\n",
       "      <td>0</td>\n",
       "      <td>0</td>\n",
       "      <td>0</td>\n",
       "      <td>0</td>\n",
       "      <td>0</td>\n",
       "      <td>0</td>\n",
       "    </tr>\n",
       "    <tr>\n",
       "      <th>2</th>\n",
       "      <td>0.0</td>\n",
       "      <td>0.0</td>\n",
       "      <td>0.0</td>\n",
       "      <td>0.0</td>\n",
       "      <td>0.0</td>\n",
       "      <td>0.0</td>\n",
       "      <td>0.0</td>\n",
       "      <td>0.0</td>\n",
       "      <td>0.0</td>\n",
       "      <td>1.0</td>\n",
       "      <td>...</td>\n",
       "      <td>1</td>\n",
       "      <td>0</td>\n",
       "      <td>0</td>\n",
       "      <td>0</td>\n",
       "      <td>0</td>\n",
       "      <td>0</td>\n",
       "      <td>0</td>\n",
       "      <td>0</td>\n",
       "      <td>0</td>\n",
       "      <td>0</td>\n",
       "    </tr>\n",
       "    <tr>\n",
       "      <th>3</th>\n",
       "      <td>0.0</td>\n",
       "      <td>0.0</td>\n",
       "      <td>0.0</td>\n",
       "      <td>0.0</td>\n",
       "      <td>0.0</td>\n",
       "      <td>0.0</td>\n",
       "      <td>1.0</td>\n",
       "      <td>1.0</td>\n",
       "      <td>1.0</td>\n",
       "      <td>1.0</td>\n",
       "      <td>...</td>\n",
       "      <td>1</td>\n",
       "      <td>0</td>\n",
       "      <td>0</td>\n",
       "      <td>0</td>\n",
       "      <td>0</td>\n",
       "      <td>0</td>\n",
       "      <td>0</td>\n",
       "      <td>0</td>\n",
       "      <td>0</td>\n",
       "      <td>0</td>\n",
       "    </tr>\n",
       "    <tr>\n",
       "      <th>4</th>\n",
       "      <td>0.0</td>\n",
       "      <td>0.0</td>\n",
       "      <td>0.0</td>\n",
       "      <td>0.0</td>\n",
       "      <td>0.0</td>\n",
       "      <td>0.0</td>\n",
       "      <td>0.0</td>\n",
       "      <td>0.0</td>\n",
       "      <td>0.0</td>\n",
       "      <td>1.0</td>\n",
       "      <td>...</td>\n",
       "      <td>1</td>\n",
       "      <td>0</td>\n",
       "      <td>0</td>\n",
       "      <td>0</td>\n",
       "      <td>0</td>\n",
       "      <td>0</td>\n",
       "      <td>0</td>\n",
       "      <td>0</td>\n",
       "      <td>0</td>\n",
       "      <td>0</td>\n",
       "    </tr>\n",
       "    <tr>\n",
       "      <th>...</th>\n",
       "      <td>...</td>\n",
       "      <td>...</td>\n",
       "      <td>...</td>\n",
       "      <td>...</td>\n",
       "      <td>...</td>\n",
       "      <td>...</td>\n",
       "      <td>...</td>\n",
       "      <td>...</td>\n",
       "      <td>...</td>\n",
       "      <td>...</td>\n",
       "      <td>...</td>\n",
       "      <td>...</td>\n",
       "      <td>...</td>\n",
       "      <td>...</td>\n",
       "      <td>...</td>\n",
       "      <td>...</td>\n",
       "      <td>...</td>\n",
       "      <td>...</td>\n",
       "      <td>...</td>\n",
       "      <td>...</td>\n",
       "      <td>...</td>\n",
       "    </tr>\n",
       "    <tr>\n",
       "      <th>1588</th>\n",
       "      <td>0.0</td>\n",
       "      <td>0.0</td>\n",
       "      <td>0.0</td>\n",
       "      <td>1.0</td>\n",
       "      <td>1.0</td>\n",
       "      <td>1.0</td>\n",
       "      <td>1.0</td>\n",
       "      <td>1.0</td>\n",
       "      <td>1.0</td>\n",
       "      <td>1.0</td>\n",
       "      <td>...</td>\n",
       "      <td>0</td>\n",
       "      <td>0</td>\n",
       "      <td>0</td>\n",
       "      <td>0</td>\n",
       "      <td>0</td>\n",
       "      <td>0</td>\n",
       "      <td>0</td>\n",
       "      <td>0</td>\n",
       "      <td>0</td>\n",
       "      <td>1</td>\n",
       "    </tr>\n",
       "    <tr>\n",
       "      <th>1589</th>\n",
       "      <td>0.0</td>\n",
       "      <td>0.0</td>\n",
       "      <td>0.0</td>\n",
       "      <td>1.0</td>\n",
       "      <td>1.0</td>\n",
       "      <td>1.0</td>\n",
       "      <td>1.0</td>\n",
       "      <td>1.0</td>\n",
       "      <td>1.0</td>\n",
       "      <td>1.0</td>\n",
       "      <td>...</td>\n",
       "      <td>0</td>\n",
       "      <td>0</td>\n",
       "      <td>0</td>\n",
       "      <td>0</td>\n",
       "      <td>0</td>\n",
       "      <td>0</td>\n",
       "      <td>0</td>\n",
       "      <td>0</td>\n",
       "      <td>0</td>\n",
       "      <td>1</td>\n",
       "    </tr>\n",
       "    <tr>\n",
       "      <th>1590</th>\n",
       "      <td>0.0</td>\n",
       "      <td>0.0</td>\n",
       "      <td>1.0</td>\n",
       "      <td>1.0</td>\n",
       "      <td>1.0</td>\n",
       "      <td>1.0</td>\n",
       "      <td>1.0</td>\n",
       "      <td>1.0</td>\n",
       "      <td>1.0</td>\n",
       "      <td>1.0</td>\n",
       "      <td>...</td>\n",
       "      <td>0</td>\n",
       "      <td>0</td>\n",
       "      <td>0</td>\n",
       "      <td>0</td>\n",
       "      <td>0</td>\n",
       "      <td>0</td>\n",
       "      <td>0</td>\n",
       "      <td>0</td>\n",
       "      <td>0</td>\n",
       "      <td>1</td>\n",
       "    </tr>\n",
       "    <tr>\n",
       "      <th>1591</th>\n",
       "      <td>0.0</td>\n",
       "      <td>1.0</td>\n",
       "      <td>1.0</td>\n",
       "      <td>1.0</td>\n",
       "      <td>1.0</td>\n",
       "      <td>1.0</td>\n",
       "      <td>1.0</td>\n",
       "      <td>1.0</td>\n",
       "      <td>1.0</td>\n",
       "      <td>1.0</td>\n",
       "      <td>...</td>\n",
       "      <td>0</td>\n",
       "      <td>0</td>\n",
       "      <td>0</td>\n",
       "      <td>0</td>\n",
       "      <td>0</td>\n",
       "      <td>0</td>\n",
       "      <td>0</td>\n",
       "      <td>0</td>\n",
       "      <td>0</td>\n",
       "      <td>1</td>\n",
       "    </tr>\n",
       "    <tr>\n",
       "      <th>1592</th>\n",
       "      <td>0.0</td>\n",
       "      <td>0.0</td>\n",
       "      <td>0.0</td>\n",
       "      <td>0.0</td>\n",
       "      <td>0.0</td>\n",
       "      <td>0.0</td>\n",
       "      <td>1.0</td>\n",
       "      <td>1.0</td>\n",
       "      <td>1.0</td>\n",
       "      <td>1.0</td>\n",
       "      <td>...</td>\n",
       "      <td>0</td>\n",
       "      <td>0</td>\n",
       "      <td>0</td>\n",
       "      <td>0</td>\n",
       "      <td>0</td>\n",
       "      <td>0</td>\n",
       "      <td>0</td>\n",
       "      <td>0</td>\n",
       "      <td>0</td>\n",
       "      <td>1</td>\n",
       "    </tr>\n",
       "  </tbody>\n",
       "</table>\n",
       "<p>1593 rows × 266 columns</p>\n",
       "</div>"
      ],
      "text/plain": [
       "      0    1    2    3    4    5    6    7    8    9    ...  256  257  258  \\\n",
       "0     0.0  0.0  0.0  0.0  0.0  0.0  1.0  1.0  1.0  1.0  ...    1    0    0   \n",
       "1     0.0  0.0  0.0  0.0  0.0  1.0  1.0  1.0  1.0  1.0  ...    1    0    0   \n",
       "2     0.0  0.0  0.0  0.0  0.0  0.0  0.0  0.0  0.0  1.0  ...    1    0    0   \n",
       "3     0.0  0.0  0.0  0.0  0.0  0.0  1.0  1.0  1.0  1.0  ...    1    0    0   \n",
       "4     0.0  0.0  0.0  0.0  0.0  0.0  0.0  0.0  0.0  1.0  ...    1    0    0   \n",
       "...   ...  ...  ...  ...  ...  ...  ...  ...  ...  ...  ...  ...  ...  ...   \n",
       "1588  0.0  0.0  0.0  1.0  1.0  1.0  1.0  1.0  1.0  1.0  ...    0    0    0   \n",
       "1589  0.0  0.0  0.0  1.0  1.0  1.0  1.0  1.0  1.0  1.0  ...    0    0    0   \n",
       "1590  0.0  0.0  1.0  1.0  1.0  1.0  1.0  1.0  1.0  1.0  ...    0    0    0   \n",
       "1591  0.0  1.0  1.0  1.0  1.0  1.0  1.0  1.0  1.0  1.0  ...    0    0    0   \n",
       "1592  0.0  0.0  0.0  0.0  0.0  0.0  1.0  1.0  1.0  1.0  ...    0    0    0   \n",
       "\n",
       "      259  260  261  262  263  264  265  \n",
       "0       0    0    0    0    0    0    0  \n",
       "1       0    0    0    0    0    0    0  \n",
       "2       0    0    0    0    0    0    0  \n",
       "3       0    0    0    0    0    0    0  \n",
       "4       0    0    0    0    0    0    0  \n",
       "...   ...  ...  ...  ...  ...  ...  ...  \n",
       "1588    0    0    0    0    0    0    1  \n",
       "1589    0    0    0    0    0    0    1  \n",
       "1590    0    0    0    0    0    0    1  \n",
       "1591    0    0    0    0    0    0    1  \n",
       "1592    0    0    0    0    0    0    1  \n",
       "\n",
       "[1593 rows x 266 columns]"
      ]
     },
     "execution_count": 1438,
     "metadata": {},
     "output_type": "execute_result"
    }
   ],
   "source": [
    "data"
   ]
  },
  {
   "cell_type": "code",
   "execution_count": 1439,
   "metadata": {},
   "outputs": [
    {
     "name": "stdout",
     "output_type": "stream",
     "text": [
      "(1593, 256)\n"
     ]
    },
    {
     "data": {
      "text/html": [
       "<div>\n",
       "<style scoped>\n",
       "    .dataframe tbody tr th:only-of-type {\n",
       "        vertical-align: middle;\n",
       "    }\n",
       "\n",
       "    .dataframe tbody tr th {\n",
       "        vertical-align: top;\n",
       "    }\n",
       "\n",
       "    .dataframe thead th {\n",
       "        text-align: right;\n",
       "    }\n",
       "</style>\n",
       "<table border=\"1\" class=\"dataframe\">\n",
       "  <thead>\n",
       "    <tr style=\"text-align: right;\">\n",
       "      <th></th>\n",
       "      <th>0</th>\n",
       "      <th>1</th>\n",
       "      <th>2</th>\n",
       "      <th>3</th>\n",
       "      <th>4</th>\n",
       "      <th>5</th>\n",
       "      <th>6</th>\n",
       "      <th>7</th>\n",
       "      <th>8</th>\n",
       "      <th>9</th>\n",
       "      <th>...</th>\n",
       "      <th>246</th>\n",
       "      <th>247</th>\n",
       "      <th>248</th>\n",
       "      <th>249</th>\n",
       "      <th>250</th>\n",
       "      <th>251</th>\n",
       "      <th>252</th>\n",
       "      <th>253</th>\n",
       "      <th>254</th>\n",
       "      <th>255</th>\n",
       "    </tr>\n",
       "  </thead>\n",
       "  <tbody>\n",
       "    <tr>\n",
       "      <th>0</th>\n",
       "      <td>0.0</td>\n",
       "      <td>0.0</td>\n",
       "      <td>0.0</td>\n",
       "      <td>0.0</td>\n",
       "      <td>0.0</td>\n",
       "      <td>0.0</td>\n",
       "      <td>1.0</td>\n",
       "      <td>1.0</td>\n",
       "      <td>1.0</td>\n",
       "      <td>1.0</td>\n",
       "      <td>...</td>\n",
       "      <td>1.0</td>\n",
       "      <td>0.0</td>\n",
       "      <td>0.0</td>\n",
       "      <td>0.0</td>\n",
       "      <td>0.0</td>\n",
       "      <td>0.0</td>\n",
       "      <td>0.0</td>\n",
       "      <td>0.0</td>\n",
       "      <td>0.0</td>\n",
       "      <td>0.0</td>\n",
       "    </tr>\n",
       "    <tr>\n",
       "      <th>1</th>\n",
       "      <td>0.0</td>\n",
       "      <td>0.0</td>\n",
       "      <td>0.0</td>\n",
       "      <td>0.0</td>\n",
       "      <td>0.0</td>\n",
       "      <td>1.0</td>\n",
       "      <td>1.0</td>\n",
       "      <td>1.0</td>\n",
       "      <td>1.0</td>\n",
       "      <td>1.0</td>\n",
       "      <td>...</td>\n",
       "      <td>1.0</td>\n",
       "      <td>1.0</td>\n",
       "      <td>1.0</td>\n",
       "      <td>1.0</td>\n",
       "      <td>1.0</td>\n",
       "      <td>0.0</td>\n",
       "      <td>0.0</td>\n",
       "      <td>0.0</td>\n",
       "      <td>0.0</td>\n",
       "      <td>0.0</td>\n",
       "    </tr>\n",
       "    <tr>\n",
       "      <th>2</th>\n",
       "      <td>0.0</td>\n",
       "      <td>0.0</td>\n",
       "      <td>0.0</td>\n",
       "      <td>0.0</td>\n",
       "      <td>0.0</td>\n",
       "      <td>0.0</td>\n",
       "      <td>0.0</td>\n",
       "      <td>0.0</td>\n",
       "      <td>0.0</td>\n",
       "      <td>1.0</td>\n",
       "      <td>...</td>\n",
       "      <td>1.0</td>\n",
       "      <td>0.0</td>\n",
       "      <td>0.0</td>\n",
       "      <td>0.0</td>\n",
       "      <td>0.0</td>\n",
       "      <td>0.0</td>\n",
       "      <td>0.0</td>\n",
       "      <td>0.0</td>\n",
       "      <td>0.0</td>\n",
       "      <td>0.0</td>\n",
       "    </tr>\n",
       "    <tr>\n",
       "      <th>3</th>\n",
       "      <td>0.0</td>\n",
       "      <td>0.0</td>\n",
       "      <td>0.0</td>\n",
       "      <td>0.0</td>\n",
       "      <td>0.0</td>\n",
       "      <td>0.0</td>\n",
       "      <td>1.0</td>\n",
       "      <td>1.0</td>\n",
       "      <td>1.0</td>\n",
       "      <td>1.0</td>\n",
       "      <td>...</td>\n",
       "      <td>0.0</td>\n",
       "      <td>0.0</td>\n",
       "      <td>0.0</td>\n",
       "      <td>0.0</td>\n",
       "      <td>0.0</td>\n",
       "      <td>0.0</td>\n",
       "      <td>0.0</td>\n",
       "      <td>0.0</td>\n",
       "      <td>0.0</td>\n",
       "      <td>0.0</td>\n",
       "    </tr>\n",
       "    <tr>\n",
       "      <th>4</th>\n",
       "      <td>0.0</td>\n",
       "      <td>0.0</td>\n",
       "      <td>0.0</td>\n",
       "      <td>0.0</td>\n",
       "      <td>0.0</td>\n",
       "      <td>0.0</td>\n",
       "      <td>0.0</td>\n",
       "      <td>0.0</td>\n",
       "      <td>0.0</td>\n",
       "      <td>1.0</td>\n",
       "      <td>...</td>\n",
       "      <td>0.0</td>\n",
       "      <td>0.0</td>\n",
       "      <td>0.0</td>\n",
       "      <td>0.0</td>\n",
       "      <td>0.0</td>\n",
       "      <td>0.0</td>\n",
       "      <td>0.0</td>\n",
       "      <td>0.0</td>\n",
       "      <td>0.0</td>\n",
       "      <td>0.0</td>\n",
       "    </tr>\n",
       "    <tr>\n",
       "      <th>...</th>\n",
       "      <td>...</td>\n",
       "      <td>...</td>\n",
       "      <td>...</td>\n",
       "      <td>...</td>\n",
       "      <td>...</td>\n",
       "      <td>...</td>\n",
       "      <td>...</td>\n",
       "      <td>...</td>\n",
       "      <td>...</td>\n",
       "      <td>...</td>\n",
       "      <td>...</td>\n",
       "      <td>...</td>\n",
       "      <td>...</td>\n",
       "      <td>...</td>\n",
       "      <td>...</td>\n",
       "      <td>...</td>\n",
       "      <td>...</td>\n",
       "      <td>...</td>\n",
       "      <td>...</td>\n",
       "      <td>...</td>\n",
       "      <td>...</td>\n",
       "    </tr>\n",
       "    <tr>\n",
       "      <th>1588</th>\n",
       "      <td>0.0</td>\n",
       "      <td>0.0</td>\n",
       "      <td>0.0</td>\n",
       "      <td>1.0</td>\n",
       "      <td>1.0</td>\n",
       "      <td>1.0</td>\n",
       "      <td>1.0</td>\n",
       "      <td>1.0</td>\n",
       "      <td>1.0</td>\n",
       "      <td>1.0</td>\n",
       "      <td>...</td>\n",
       "      <td>0.0</td>\n",
       "      <td>0.0</td>\n",
       "      <td>0.0</td>\n",
       "      <td>0.0</td>\n",
       "      <td>0.0</td>\n",
       "      <td>0.0</td>\n",
       "      <td>0.0</td>\n",
       "      <td>1.0</td>\n",
       "      <td>1.0</td>\n",
       "      <td>0.0</td>\n",
       "    </tr>\n",
       "    <tr>\n",
       "      <th>1589</th>\n",
       "      <td>0.0</td>\n",
       "      <td>0.0</td>\n",
       "      <td>0.0</td>\n",
       "      <td>1.0</td>\n",
       "      <td>1.0</td>\n",
       "      <td>1.0</td>\n",
       "      <td>1.0</td>\n",
       "      <td>1.0</td>\n",
       "      <td>1.0</td>\n",
       "      <td>1.0</td>\n",
       "      <td>...</td>\n",
       "      <td>1.0</td>\n",
       "      <td>1.0</td>\n",
       "      <td>1.0</td>\n",
       "      <td>1.0</td>\n",
       "      <td>1.0</td>\n",
       "      <td>1.0</td>\n",
       "      <td>1.0</td>\n",
       "      <td>0.0</td>\n",
       "      <td>0.0</td>\n",
       "      <td>0.0</td>\n",
       "    </tr>\n",
       "    <tr>\n",
       "      <th>1590</th>\n",
       "      <td>0.0</td>\n",
       "      <td>0.0</td>\n",
       "      <td>1.0</td>\n",
       "      <td>1.0</td>\n",
       "      <td>1.0</td>\n",
       "      <td>1.0</td>\n",
       "      <td>1.0</td>\n",
       "      <td>1.0</td>\n",
       "      <td>1.0</td>\n",
       "      <td>1.0</td>\n",
       "      <td>...</td>\n",
       "      <td>0.0</td>\n",
       "      <td>0.0</td>\n",
       "      <td>0.0</td>\n",
       "      <td>1.0</td>\n",
       "      <td>1.0</td>\n",
       "      <td>0.0</td>\n",
       "      <td>0.0</td>\n",
       "      <td>0.0</td>\n",
       "      <td>0.0</td>\n",
       "      <td>0.0</td>\n",
       "    </tr>\n",
       "    <tr>\n",
       "      <th>1591</th>\n",
       "      <td>0.0</td>\n",
       "      <td>1.0</td>\n",
       "      <td>1.0</td>\n",
       "      <td>1.0</td>\n",
       "      <td>1.0</td>\n",
       "      <td>1.0</td>\n",
       "      <td>1.0</td>\n",
       "      <td>1.0</td>\n",
       "      <td>1.0</td>\n",
       "      <td>1.0</td>\n",
       "      <td>...</td>\n",
       "      <td>0.0</td>\n",
       "      <td>0.0</td>\n",
       "      <td>0.0</td>\n",
       "      <td>1.0</td>\n",
       "      <td>1.0</td>\n",
       "      <td>0.0</td>\n",
       "      <td>0.0</td>\n",
       "      <td>0.0</td>\n",
       "      <td>0.0</td>\n",
       "      <td>0.0</td>\n",
       "    </tr>\n",
       "    <tr>\n",
       "      <th>1592</th>\n",
       "      <td>0.0</td>\n",
       "      <td>0.0</td>\n",
       "      <td>0.0</td>\n",
       "      <td>0.0</td>\n",
       "      <td>0.0</td>\n",
       "      <td>0.0</td>\n",
       "      <td>1.0</td>\n",
       "      <td>1.0</td>\n",
       "      <td>1.0</td>\n",
       "      <td>1.0</td>\n",
       "      <td>...</td>\n",
       "      <td>1.0</td>\n",
       "      <td>0.0</td>\n",
       "      <td>0.0</td>\n",
       "      <td>0.0</td>\n",
       "      <td>0.0</td>\n",
       "      <td>0.0</td>\n",
       "      <td>0.0</td>\n",
       "      <td>0.0</td>\n",
       "      <td>0.0</td>\n",
       "      <td>0.0</td>\n",
       "    </tr>\n",
       "  </tbody>\n",
       "</table>\n",
       "<p>1593 rows × 256 columns</p>\n",
       "</div>"
      ],
      "text/plain": [
       "      0    1    2    3    4    5    6    7    8    9    ...  246  247  248  \\\n",
       "0     0.0  0.0  0.0  0.0  0.0  0.0  1.0  1.0  1.0  1.0  ...  1.0  0.0  0.0   \n",
       "1     0.0  0.0  0.0  0.0  0.0  1.0  1.0  1.0  1.0  1.0  ...  1.0  1.0  1.0   \n",
       "2     0.0  0.0  0.0  0.0  0.0  0.0  0.0  0.0  0.0  1.0  ...  1.0  0.0  0.0   \n",
       "3     0.0  0.0  0.0  0.0  0.0  0.0  1.0  1.0  1.0  1.0  ...  0.0  0.0  0.0   \n",
       "4     0.0  0.0  0.0  0.0  0.0  0.0  0.0  0.0  0.0  1.0  ...  0.0  0.0  0.0   \n",
       "...   ...  ...  ...  ...  ...  ...  ...  ...  ...  ...  ...  ...  ...  ...   \n",
       "1588  0.0  0.0  0.0  1.0  1.0  1.0  1.0  1.0  1.0  1.0  ...  0.0  0.0  0.0   \n",
       "1589  0.0  0.0  0.0  1.0  1.0  1.0  1.0  1.0  1.0  1.0  ...  1.0  1.0  1.0   \n",
       "1590  0.0  0.0  1.0  1.0  1.0  1.0  1.0  1.0  1.0  1.0  ...  0.0  0.0  0.0   \n",
       "1591  0.0  1.0  1.0  1.0  1.0  1.0  1.0  1.0  1.0  1.0  ...  0.0  0.0  0.0   \n",
       "1592  0.0  0.0  0.0  0.0  0.0  0.0  1.0  1.0  1.0  1.0  ...  1.0  0.0  0.0   \n",
       "\n",
       "      249  250  251  252  253  254  255  \n",
       "0     0.0  0.0  0.0  0.0  0.0  0.0  0.0  \n",
       "1     1.0  1.0  0.0  0.0  0.0  0.0  0.0  \n",
       "2     0.0  0.0  0.0  0.0  0.0  0.0  0.0  \n",
       "3     0.0  0.0  0.0  0.0  0.0  0.0  0.0  \n",
       "4     0.0  0.0  0.0  0.0  0.0  0.0  0.0  \n",
       "...   ...  ...  ...  ...  ...  ...  ...  \n",
       "1588  0.0  0.0  0.0  0.0  1.0  1.0  0.0  \n",
       "1589  1.0  1.0  1.0  1.0  0.0  0.0  0.0  \n",
       "1590  1.0  1.0  0.0  0.0  0.0  0.0  0.0  \n",
       "1591  1.0  1.0  0.0  0.0  0.0  0.0  0.0  \n",
       "1592  0.0  0.0  0.0  0.0  0.0  0.0  0.0  \n",
       "\n",
       "[1593 rows x 256 columns]"
      ]
     },
     "execution_count": 1439,
     "metadata": {},
     "output_type": "execute_result"
    }
   ],
   "source": [
    "# Delineate our image samples (features)\n",
    "X = data.iloc[:,:-10]\n",
    "print(X.shape)\n",
    "X"
   ]
  },
  {
   "cell_type": "code",
   "execution_count": 1440,
   "metadata": {},
   "outputs": [
    {
     "data": {
      "text/plain": [
       "array([[0., 0., 0., ..., 0., 0., 0.],\n",
       "       [0., 0., 0., ..., 0., 0., 0.],\n",
       "       [0., 0., 0., ..., 0., 0., 0.],\n",
       "       ...,\n",
       "       [0., 0., 1., ..., 0., 0., 0.],\n",
       "       [0., 1., 1., ..., 0., 0., 0.],\n",
       "       [0., 0., 0., ..., 0., 0., 0.]])"
      ]
     },
     "execution_count": 1440,
     "metadata": {},
     "output_type": "execute_result"
    }
   ],
   "source": [
    "# Convert to array \n",
    "X = np.asarray(X)\n",
    "X"
   ]
  },
  {
   "cell_type": "code",
   "execution_count": 1441,
   "metadata": {},
   "outputs": [
    {
     "name": "stdout",
     "output_type": "stream",
     "text": [
      "(1593, 10)\n"
     ]
    },
    {
     "data": {
      "text/html": [
       "<div>\n",
       "<style scoped>\n",
       "    .dataframe tbody tr th:only-of-type {\n",
       "        vertical-align: middle;\n",
       "    }\n",
       "\n",
       "    .dataframe tbody tr th {\n",
       "        vertical-align: top;\n",
       "    }\n",
       "\n",
       "    .dataframe thead th {\n",
       "        text-align: right;\n",
       "    }\n",
       "</style>\n",
       "<table border=\"1\" class=\"dataframe\">\n",
       "  <thead>\n",
       "    <tr style=\"text-align: right;\">\n",
       "      <th></th>\n",
       "      <th>256</th>\n",
       "      <th>257</th>\n",
       "      <th>258</th>\n",
       "      <th>259</th>\n",
       "      <th>260</th>\n",
       "      <th>261</th>\n",
       "      <th>262</th>\n",
       "      <th>263</th>\n",
       "      <th>264</th>\n",
       "      <th>265</th>\n",
       "    </tr>\n",
       "  </thead>\n",
       "  <tbody>\n",
       "    <tr>\n",
       "      <th>0</th>\n",
       "      <td>1</td>\n",
       "      <td>0</td>\n",
       "      <td>0</td>\n",
       "      <td>0</td>\n",
       "      <td>0</td>\n",
       "      <td>0</td>\n",
       "      <td>0</td>\n",
       "      <td>0</td>\n",
       "      <td>0</td>\n",
       "      <td>0</td>\n",
       "    </tr>\n",
       "    <tr>\n",
       "      <th>1</th>\n",
       "      <td>1</td>\n",
       "      <td>0</td>\n",
       "      <td>0</td>\n",
       "      <td>0</td>\n",
       "      <td>0</td>\n",
       "      <td>0</td>\n",
       "      <td>0</td>\n",
       "      <td>0</td>\n",
       "      <td>0</td>\n",
       "      <td>0</td>\n",
       "    </tr>\n",
       "    <tr>\n",
       "      <th>2</th>\n",
       "      <td>1</td>\n",
       "      <td>0</td>\n",
       "      <td>0</td>\n",
       "      <td>0</td>\n",
       "      <td>0</td>\n",
       "      <td>0</td>\n",
       "      <td>0</td>\n",
       "      <td>0</td>\n",
       "      <td>0</td>\n",
       "      <td>0</td>\n",
       "    </tr>\n",
       "    <tr>\n",
       "      <th>3</th>\n",
       "      <td>1</td>\n",
       "      <td>0</td>\n",
       "      <td>0</td>\n",
       "      <td>0</td>\n",
       "      <td>0</td>\n",
       "      <td>0</td>\n",
       "      <td>0</td>\n",
       "      <td>0</td>\n",
       "      <td>0</td>\n",
       "      <td>0</td>\n",
       "    </tr>\n",
       "    <tr>\n",
       "      <th>4</th>\n",
       "      <td>1</td>\n",
       "      <td>0</td>\n",
       "      <td>0</td>\n",
       "      <td>0</td>\n",
       "      <td>0</td>\n",
       "      <td>0</td>\n",
       "      <td>0</td>\n",
       "      <td>0</td>\n",
       "      <td>0</td>\n",
       "      <td>0</td>\n",
       "    </tr>\n",
       "    <tr>\n",
       "      <th>...</th>\n",
       "      <td>...</td>\n",
       "      <td>...</td>\n",
       "      <td>...</td>\n",
       "      <td>...</td>\n",
       "      <td>...</td>\n",
       "      <td>...</td>\n",
       "      <td>...</td>\n",
       "      <td>...</td>\n",
       "      <td>...</td>\n",
       "      <td>...</td>\n",
       "    </tr>\n",
       "    <tr>\n",
       "      <th>1588</th>\n",
       "      <td>0</td>\n",
       "      <td>0</td>\n",
       "      <td>0</td>\n",
       "      <td>0</td>\n",
       "      <td>0</td>\n",
       "      <td>0</td>\n",
       "      <td>0</td>\n",
       "      <td>0</td>\n",
       "      <td>0</td>\n",
       "      <td>1</td>\n",
       "    </tr>\n",
       "    <tr>\n",
       "      <th>1589</th>\n",
       "      <td>0</td>\n",
       "      <td>0</td>\n",
       "      <td>0</td>\n",
       "      <td>0</td>\n",
       "      <td>0</td>\n",
       "      <td>0</td>\n",
       "      <td>0</td>\n",
       "      <td>0</td>\n",
       "      <td>0</td>\n",
       "      <td>1</td>\n",
       "    </tr>\n",
       "    <tr>\n",
       "      <th>1590</th>\n",
       "      <td>0</td>\n",
       "      <td>0</td>\n",
       "      <td>0</td>\n",
       "      <td>0</td>\n",
       "      <td>0</td>\n",
       "      <td>0</td>\n",
       "      <td>0</td>\n",
       "      <td>0</td>\n",
       "      <td>0</td>\n",
       "      <td>1</td>\n",
       "    </tr>\n",
       "    <tr>\n",
       "      <th>1591</th>\n",
       "      <td>0</td>\n",
       "      <td>0</td>\n",
       "      <td>0</td>\n",
       "      <td>0</td>\n",
       "      <td>0</td>\n",
       "      <td>0</td>\n",
       "      <td>0</td>\n",
       "      <td>0</td>\n",
       "      <td>0</td>\n",
       "      <td>1</td>\n",
       "    </tr>\n",
       "    <tr>\n",
       "      <th>1592</th>\n",
       "      <td>0</td>\n",
       "      <td>0</td>\n",
       "      <td>0</td>\n",
       "      <td>0</td>\n",
       "      <td>0</td>\n",
       "      <td>0</td>\n",
       "      <td>0</td>\n",
       "      <td>0</td>\n",
       "      <td>0</td>\n",
       "      <td>1</td>\n",
       "    </tr>\n",
       "  </tbody>\n",
       "</table>\n",
       "<p>1593 rows × 10 columns</p>\n",
       "</div>"
      ],
      "text/plain": [
       "      256  257  258  259  260  261  262  263  264  265\n",
       "0       1    0    0    0    0    0    0    0    0    0\n",
       "1       1    0    0    0    0    0    0    0    0    0\n",
       "2       1    0    0    0    0    0    0    0    0    0\n",
       "3       1    0    0    0    0    0    0    0    0    0\n",
       "4       1    0    0    0    0    0    0    0    0    0\n",
       "...   ...  ...  ...  ...  ...  ...  ...  ...  ...  ...\n",
       "1588    0    0    0    0    0    0    0    0    0    1\n",
       "1589    0    0    0    0    0    0    0    0    0    1\n",
       "1590    0    0    0    0    0    0    0    0    0    1\n",
       "1591    0    0    0    0    0    0    0    0    0    1\n",
       "1592    0    0    0    0    0    0    0    0    0    1\n",
       "\n",
       "[1593 rows x 10 columns]"
      ]
     },
     "execution_count": 1441,
     "metadata": {},
     "output_type": "execute_result"
    }
   ],
   "source": [
    "# Delineate labels\n",
    "y = data.iloc[:,-10:]\n",
    "print(y.shape)\n",
    "y"
   ]
  },
  {
   "cell_type": "code",
   "execution_count": 1442,
   "metadata": {},
   "outputs": [
    {
     "data": {
      "text/plain": [
       "array([[1, 0, 0, ..., 0, 0, 0],\n",
       "       [1, 0, 0, ..., 0, 0, 0],\n",
       "       [1, 0, 0, ..., 0, 0, 0],\n",
       "       ...,\n",
       "       [0, 0, 0, ..., 0, 0, 1],\n",
       "       [0, 0, 0, ..., 0, 0, 1],\n",
       "       [0, 0, 0, ..., 0, 0, 1]], dtype=int64)"
      ]
     },
     "execution_count": 1442,
     "metadata": {},
     "output_type": "execute_result"
    }
   ],
   "source": [
    "# Convert to array\n",
    "y = np.asarray(y)\n",
    "y"
   ]
  },
  {
   "cell_type": "code",
   "execution_count": 1443,
   "metadata": {},
   "outputs": [],
   "source": [
    "# Split into training and test sets\n",
    "\n",
    "X_train, X_test, y_train, y_test = train_test_split(X, y, test_size = 0.30, random_state = 10)"
   ]
  },
  {
   "cell_type": "code",
   "execution_count": 1444,
   "metadata": {},
   "outputs": [
    {
     "data": {
      "text/plain": [
       "256"
      ]
     },
     "execution_count": 1444,
     "metadata": {},
     "output_type": "execute_result"
    }
   ],
   "source": [
    "# Number of features in our training set, confirmed\n",
    "X_train.shape[1]"
   ]
  },
  {
   "cell_type": "markdown",
   "metadata": {},
   "source": [
    "<h1> Training with 20 hidden units </h1>"
   ]
  },
  {
   "cell_type": "code",
   "execution_count": 1445,
   "metadata": {},
   "outputs": [],
   "source": [
    "# Clear previous session\n",
    "keras.backend.clear_session()"
   ]
  },
  {
   "cell_type": "code",
   "execution_count": 1446,
   "metadata": {},
   "outputs": [
    {
     "name": "stdout",
     "output_type": "stream",
     "text": [
      "Model: \"sequential\"\n",
      "_________________________________________________________________\n",
      "Layer (type)                 Output Shape              Param #   \n",
      "=================================================================\n",
      "dense (Dense)                (None, 20)                5140      \n",
      "_________________________________________________________________\n",
      "dense_1 (Dense)              (None, 10)                210       \n",
      "=================================================================\n",
      "Total params: 5,350\n",
      "Trainable params: 5,350\n",
      "Non-trainable params: 0\n",
      "_________________________________________________________________\n"
     ]
    }
   ],
   "source": [
    "from tensorflow.python.keras.layers import Dense\n",
    "from tensorflow.python.keras import Sequential\n",
    "from tensorflow.python.keras.callbacks import EarlyStopping\n",
    "\n",
    "# Initiate neural net\n",
    "# Hidden layer contains x number of neurons and both hidden and output layer \n",
    "# utilize sigmoid activation function with bias unit of 1\n",
    "\n",
    "model20 = keras.Sequential([\n",
    "    keras.layers.Dense(20, activation='sigmoid', input_shape = (X_train.shape[1],), use_bias=True, bias_initializer='ones'),\n",
    "    keras.layers.Dense(10, activation='sigmoid', use_bias=True, bias_initializer='ones'),\n",
    "])\n",
    "\n",
    "from tensorflow.python.keras import optimizers\n",
    "\n",
    "# Specify learning rate of 0.1\n",
    "\n",
    "sgd = optimizers.SGD(lr=0.1, momentum=0.0, nesterov=False)\n",
    "\n",
    "# Compile step required before training, set loss function with accuracy metrics\n",
    "model20.compile(loss='categorical_crossentropy', metrics=['accuracy'])\n",
    "\n",
    "#Output summary\n",
    "model20.summary()"
   ]
  },
  {
   "cell_type": "code",
   "execution_count": 1447,
   "metadata": {},
   "outputs": [
    {
     "name": "stdout",
     "output_type": "stream",
     "text": [
      "Train on 1115 samples, validate on 478 samples\n",
      "Epoch 1/50\n",
      "1115/1115 [==============================] - 1s 514us/sample - loss: 2.2773 - accuracy: 0.1139 - val_loss: 2.2213 - val_accuracy: 0.1088\n",
      "Epoch 2/50\n",
      "1115/1115 [==============================] - 0s 141us/sample - loss: 2.1763 - accuracy: 0.1964 - val_loss: 2.1327 - val_accuracy: 0.2741\n",
      "Epoch 3/50\n",
      "1115/1115 [==============================] - 0s 160us/sample - loss: 2.0861 - accuracy: 0.3444 - val_loss: 2.0499 - val_accuracy: 0.3745\n",
      "Epoch 4/50\n",
      "1115/1115 [==============================] - 0s 161us/sample - loss: 1.9972 - accuracy: 0.4538 - val_loss: 1.9630 - val_accuracy: 0.5063\n",
      "Epoch 5/50\n",
      "1115/1115 [==============================] - 0s 146us/sample - loss: 1.9060 - accuracy: 0.5758 - val_loss: 1.8797 - val_accuracy: 0.5523\n",
      "Epoch 6/50\n",
      "1115/1115 [==============================] - 0s 146us/sample - loss: 1.8142 - accuracy: 0.6170 - val_loss: 1.7919 - val_accuracy: 0.6234\n",
      "Epoch 7/50\n",
      "1115/1115 [==============================] - 0s 155us/sample - loss: 1.7225 - accuracy: 0.6906 - val_loss: 1.7081 - val_accuracy: 0.6736\n",
      "Epoch 8/50\n",
      "1115/1115 [==============================] - 0s 158us/sample - loss: 1.6326 - accuracy: 0.7300 - val_loss: 1.6262 - val_accuracy: 0.7008\n",
      "Epoch 9/50\n",
      "1115/1115 [==============================] - 0s 157us/sample - loss: 1.5445 - accuracy: 0.7785 - val_loss: 1.5524 - val_accuracy: 0.7134\n",
      "Epoch 10/50\n",
      "1115/1115 [==============================] - 0s 155us/sample - loss: 1.4623 - accuracy: 0.7982 - val_loss: 1.4752 - val_accuracy: 0.7657\n",
      "Epoch 11/50\n",
      "1115/1115 [==============================] - 0s 155us/sample - loss: 1.3820 - accuracy: 0.8215 - val_loss: 1.4024 - val_accuracy: 0.7782\n",
      "Epoch 12/50\n",
      "1115/1115 [==============================] - 0s 155us/sample - loss: 1.3048 - accuracy: 0.8413 - val_loss: 1.3316 - val_accuracy: 0.8075\n",
      "Epoch 13/50\n",
      "1115/1115 [==============================] - 0s 154us/sample - loss: 1.2321 - accuracy: 0.8592 - val_loss: 1.2688 - val_accuracy: 0.8117\n",
      "Epoch 14/50\n",
      "1115/1115 [==============================] - 0s 157us/sample - loss: 1.1634 - accuracy: 0.8861 - val_loss: 1.2073 - val_accuracy: 0.8222\n",
      "Epoch 15/50\n",
      "1115/1115 [==============================] - 0s 156us/sample - loss: 1.0974 - accuracy: 0.8888 - val_loss: 1.1485 - val_accuracy: 0.8347\n",
      "Epoch 16/50\n",
      "1115/1115 [==============================] - 0s 155us/sample - loss: 1.0356 - accuracy: 0.8987 - val_loss: 1.0937 - val_accuracy: 0.8305\n",
      "Epoch 17/50\n",
      "1115/1115 [==============================] - 0s 157us/sample - loss: 0.9765 - accuracy: 0.9085 - val_loss: 1.0431 - val_accuracy: 0.8326\n",
      "Epoch 18/50\n",
      "1115/1115 [==============================] - 0s 157us/sample - loss: 0.9202 - accuracy: 0.9130 - val_loss: 0.9994 - val_accuracy: 0.8326\n",
      "Epoch 19/50\n",
      "1115/1115 [==============================] - 0s 157us/sample - loss: 0.8682 - accuracy: 0.9193 - val_loss: 0.9467 - val_accuracy: 0.8536\n",
      "Epoch 20/50\n",
      "1115/1115 [==============================] - 0s 155us/sample - loss: 0.8183 - accuracy: 0.9220 - val_loss: 0.9053 - val_accuracy: 0.8473\n",
      "Epoch 21/50\n",
      "1115/1115 [==============================] - 0s 158us/sample - loss: 0.7710 - accuracy: 0.9256 - val_loss: 0.8643 - val_accuracy: 0.8536\n",
      "Epoch 22/50\n",
      "1115/1115 [==============================] - 0s 158us/sample - loss: 0.7267 - accuracy: 0.9345 - val_loss: 0.8235 - val_accuracy: 0.8556\n",
      "Epoch 23/50\n",
      "1115/1115 [==============================] - 0s 155us/sample - loss: 0.6853 - accuracy: 0.9336 - val_loss: 0.7881 - val_accuracy: 0.8640\n",
      "Epoch 24/50\n",
      "1115/1115 [==============================] - 0s 154us/sample - loss: 0.6455 - accuracy: 0.9417 - val_loss: 0.7548 - val_accuracy: 0.8640\n",
      "Epoch 25/50\n",
      "1115/1115 [==============================] - 0s 155us/sample - loss: 0.6091 - accuracy: 0.9462 - val_loss: 0.7221 - val_accuracy: 0.8661\n",
      "Epoch 26/50\n",
      "1115/1115 [==============================] - 0s 157us/sample - loss: 0.5735 - accuracy: 0.9507 - val_loss: 0.6950 - val_accuracy: 0.8640\n",
      "Epoch 27/50\n",
      "1115/1115 [==============================] - 0s 156us/sample - loss: 0.5410 - accuracy: 0.9489 - val_loss: 0.6672 - val_accuracy: 0.8640\n",
      "Epoch 28/50\n",
      "1115/1115 [==============================] - 0s 156us/sample - loss: 0.5100 - accuracy: 0.9534 - val_loss: 0.6358 - val_accuracy: 0.8661\n",
      "Epoch 29/50\n",
      "1115/1115 [==============================] - 0s 157us/sample - loss: 0.4805 - accuracy: 0.9578 - val_loss: 0.6132 - val_accuracy: 0.8661\n",
      "Epoch 30/50\n",
      "1115/1115 [==============================] - 0s 159us/sample - loss: 0.4533 - accuracy: 0.9578 - val_loss: 0.5933 - val_accuracy: 0.8703\n",
      "Epoch 31/50\n",
      "1115/1115 [==============================] - 0s 157us/sample - loss: 0.4273 - accuracy: 0.9605 - val_loss: 0.5660 - val_accuracy: 0.8766\n",
      "Epoch 32/50\n",
      "1115/1115 [==============================] - 0s 157us/sample - loss: 0.4025 - accuracy: 0.9650 - val_loss: 0.5499 - val_accuracy: 0.8724\n",
      "Epoch 33/50\n",
      "1115/1115 [==============================] - 0s 157us/sample - loss: 0.3797 - accuracy: 0.9686 - val_loss: 0.5314 - val_accuracy: 0.8682\n",
      "Epoch 34/50\n",
      "1115/1115 [==============================] - 0s 155us/sample - loss: 0.3583 - accuracy: 0.9668 - val_loss: 0.5162 - val_accuracy: 0.8787\n",
      "Epoch 35/50\n",
      "1115/1115 [==============================] - 0s 157us/sample - loss: 0.3385 - accuracy: 0.9722 - val_loss: 0.4949 - val_accuracy: 0.8849\n",
      "Epoch 36/50\n",
      "1115/1115 [==============================] - 0s 155us/sample - loss: 0.3200 - accuracy: 0.9704 - val_loss: 0.4802 - val_accuracy: 0.8849\n",
      "Epoch 37/50\n",
      "1115/1115 [==============================] - 0s 157us/sample - loss: 0.3020 - accuracy: 0.9722 - val_loss: 0.4670 - val_accuracy: 0.8891\n",
      "Epoch 38/50\n",
      "1115/1115 [==============================] - 0s 152us/sample - loss: 0.2855 - accuracy: 0.9776 - val_loss: 0.4551 - val_accuracy: 0.8828\n",
      "Epoch 39/50\n",
      "1115/1115 [==============================] - 0s 155us/sample - loss: 0.2698 - accuracy: 0.9767 - val_loss: 0.4418 - val_accuracy: 0.8849\n",
      "Epoch 40/50\n",
      "1115/1115 [==============================] - 0s 157us/sample - loss: 0.2551 - accuracy: 0.9794 - val_loss: 0.4323 - val_accuracy: 0.8849\n",
      "Epoch 41/50\n",
      "1115/1115 [==============================] - 0s 157us/sample - loss: 0.2413 - accuracy: 0.9776 - val_loss: 0.4221 - val_accuracy: 0.8891\n",
      "Epoch 42/50\n",
      "1115/1115 [==============================] - 0s 158us/sample - loss: 0.2280 - accuracy: 0.9803 - val_loss: 0.4101 - val_accuracy: 0.8912\n",
      "Epoch 43/50\n",
      "1115/1115 [==============================] - 0s 156us/sample - loss: 0.2159 - accuracy: 0.9821 - val_loss: 0.4015 - val_accuracy: 0.8912\n",
      "Epoch 44/50\n",
      "1115/1115 [==============================] - 0s 155us/sample - loss: 0.2045 - accuracy: 0.9812 - val_loss: 0.3928 - val_accuracy: 0.8891\n",
      "Epoch 45/50\n",
      "1115/1115 [==============================] - 0s 156us/sample - loss: 0.1936 - accuracy: 0.9830 - val_loss: 0.3852 - val_accuracy: 0.8933\n",
      "Epoch 46/50\n",
      "1115/1115 [==============================] - 0s 156us/sample - loss: 0.1836 - accuracy: 0.9821 - val_loss: 0.3811 - val_accuracy: 0.8954\n",
      "Epoch 47/50\n",
      "1115/1115 [==============================] - 0s 155us/sample - loss: 0.1739 - accuracy: 0.9830 - val_loss: 0.3730 - val_accuracy: 0.8954\n",
      "Epoch 48/50\n",
      "1115/1115 [==============================] - 0s 157us/sample - loss: 0.1645 - accuracy: 0.9874 - val_loss: 0.3671 - val_accuracy: 0.8975\n",
      "Epoch 49/50\n",
      "1115/1115 [==============================] - 0s 157us/sample - loss: 0.1565 - accuracy: 0.9857 - val_loss: 0.3619 - val_accuracy: 0.8975\n",
      "Epoch 50/50\n",
      "1115/1115 [==============================] - 0s 156us/sample - loss: 0.1484 - accuracy: 0.9874 - val_loss: 0.3570 - val_accuracy: 0.8954\n"
     ]
    }
   ],
   "source": [
    "# Train the neural net\n",
    "\n",
    "evaluation = model20.fit(X_train, y_train, validation_data=(X_test, y_test), epochs=50)"
   ]
  },
  {
   "cell_type": "code",
   "execution_count": 1448,
   "metadata": {},
   "outputs": [
    {
     "name": "stdout",
     "output_type": "stream",
     "text": [
      "Training accuracy: 0.9874439\n",
      "\n",
      "Test accuracy: 0.8953975\n"
     ]
    }
   ],
   "source": [
    "test_loss, test_acc = model20.evaluate(X_test,  y_test, verbose=0)\n",
    "print('Training accuracy:',max(evaluation.history['accuracy']))\n",
    "print('\\nTest accuracy:', test_acc)"
   ]
  },
  {
   "cell_type": "code",
   "execution_count": 1449,
   "metadata": {},
   "outputs": [
    {
     "name": "stdout",
     "output_type": "stream",
     "text": [
      "(478, 10)\n"
     ]
    },
    {
     "data": {
      "text/plain": [
       "array([[0.1, 0.9, 0.1, ..., 0.1, 0.1, 0.1],\n",
       "       [0.1, 0.1, 0.1, ..., 0.1, 0.1, 0.1],\n",
       "       [0.1, 0.1, 0.1, ..., 0.1, 0.9, 0.1],\n",
       "       ...,\n",
       "       [0.1, 0.1, 0.1, ..., 0.1, 0.9, 0.1],\n",
       "       [0.1, 0.1, 0.1, ..., 0.1, 0.1, 0.9],\n",
       "       [0.1, 0.1, 0.1, ..., 0.1, 0.1, 0.1]])"
      ]
     },
     "execution_count": 1449,
     "metadata": {},
     "output_type": "execute_result"
    }
   ],
   "source": [
    "# Store predictions on test set images\n",
    "predictions = set_target(model20.predict(X_test))\n",
    "\n",
    "# Verify shape and output of predictions\n",
    "print(predictions.shape)\n",
    "predictions"
   ]
  },
  {
   "cell_type": "code",
   "execution_count": 1450,
   "metadata": {},
   "outputs": [
    {
     "name": "stdout",
     "output_type": "stream",
     "text": [
      "(478,)\n"
     ]
    },
    {
     "data": {
      "text/plain": [
       "array([1, 5, 8, 6, 1, 8, 6, 8, 8, 6, 9, 6, 6, 9, 5, 0, 8, 1, 9, 4, 6, 2,\n",
       "       8, 3, 0, 5, 8, 9, 0, 1, 2, 8, 6, 9, 1, 2, 4, 1, 7, 2, 7, 8, 8, 7,\n",
       "       6, 0, 6, 1, 0, 3, 3, 8, 4, 4, 1, 0, 1, 9, 0, 6, 4, 0, 9, 5, 7, 0,\n",
       "       6, 8, 7, 2, 2, 7, 7, 8, 1, 3, 2, 5, 9, 7, 1, 6, 6, 8, 9, 1, 4, 5,\n",
       "       3, 8, 5, 8, 6, 7, 6, 7, 9, 2, 4, 3, 9, 0, 6, 2, 7, 4, 4, 0, 2, 1,\n",
       "       6, 0, 8, 1, 3, 2, 0, 9, 7, 3, 3, 0, 0, 6, 6, 5, 4, 0, 5, 6, 8, 8,\n",
       "       4, 1, 9, 4, 9, 3, 9, 3, 4, 8, 2, 2, 4, 3, 1, 6, 2, 7, 3, 2, 4, 6,\n",
       "       8, 3, 0, 4, 8, 1, 8, 1, 4, 8, 2, 1, 3, 4, 3, 6, 1, 9, 4, 8, 7, 9,\n",
       "       9, 4, 5, 0, 1, 5, 6, 2, 5, 8, 6, 9, 1, 5, 7, 1, 6, 1, 5, 6, 0, 5,\n",
       "       1, 5, 8, 5, 5, 1, 1, 5, 7, 9, 3, 3, 4, 0, 7, 5, 9, 8, 7, 1, 2, 0,\n",
       "       1, 2, 9, 2, 9, 7, 8, 7, 8, 7, 2, 3, 1, 1, 8, 6, 6, 6, 9, 9, 1, 8,\n",
       "       8, 6, 7, 4, 4, 8, 0, 4, 3, 3, 2, 8, 9, 5, 9, 5, 3, 9, 3, 5, 4, 1,\n",
       "       1, 2, 1, 4, 9, 6, 9, 0, 5, 6, 5, 8, 6, 8, 4, 4, 6, 7, 5, 0, 1, 2,\n",
       "       4, 4, 4, 2, 5, 5, 6, 8, 1, 4, 9, 6, 8, 1, 0, 7, 9, 8, 2, 0, 6, 0,\n",
       "       3, 5, 8, 6, 6, 5, 3, 0, 5, 0, 4, 4, 5, 0, 2, 8, 3, 3, 2, 0, 5, 2,\n",
       "       1, 0, 2, 9, 3, 9, 4, 7, 0, 6, 1, 0, 7, 9, 5, 4, 8, 0, 6, 4, 3, 5,\n",
       "       3, 3, 8, 1, 0, 3, 8, 3, 8, 0, 0, 1, 4, 0, 6, 1, 2, 3, 2, 3, 8, 5,\n",
       "       1, 4, 7, 9, 3, 5, 0, 6, 3, 1, 8, 5, 9, 2, 6, 0, 1, 0, 9, 3, 9, 1,\n",
       "       2, 4, 4, 4, 0, 3, 3, 3, 3, 9, 7, 8, 1, 3, 0, 3, 2, 9, 2, 6, 3, 6,\n",
       "       9, 0, 5, 7, 6, 1, 5, 6, 0, 0, 1, 6, 7, 5, 8, 4, 9, 1, 0, 6, 8, 9,\n",
       "       6, 3, 5, 3, 7, 6, 4, 9, 6, 1, 7, 9, 3, 3, 9, 3, 5, 0, 9, 6, 7, 5,\n",
       "       1, 0, 7, 1, 6, 8, 9, 1, 1, 7, 1, 2, 8, 8, 9, 3], dtype=int64)"
      ]
     },
     "execution_count": 1450,
     "metadata": {},
     "output_type": "execute_result"
    }
   ],
   "source": [
    "# Convert predictions to actual digit value\n",
    "\n",
    "predicted = np.argmax(predictions, axis = 1)\n",
    "print(predicted.shape)\n",
    "predicted"
   ]
  },
  {
   "cell_type": "code",
   "execution_count": 1451,
   "metadata": {},
   "outputs": [
    {
     "name": "stdout",
     "output_type": "stream",
     "text": [
      "(478,)\n"
     ]
    },
    {
     "data": {
      "text/plain": [
       "array([1, 5, 8, 6, 1, 8, 6, 8, 8, 6, 1, 6, 6, 9, 5, 0, 8, 1, 5, 4, 6, 2,\n",
       "       7, 3, 0, 1, 8, 9, 0, 1, 2, 8, 7, 9, 1, 2, 4, 1, 7, 2, 7, 8, 8, 7,\n",
       "       6, 0, 6, 1, 0, 3, 9, 8, 4, 4, 1, 0, 1, 9, 0, 6, 4, 0, 9, 5, 7, 0,\n",
       "       6, 8, 1, 2, 2, 7, 7, 8, 1, 9, 2, 5, 9, 7, 1, 6, 6, 8, 9, 1, 8, 5,\n",
       "       3, 8, 5, 8, 6, 7, 6, 7, 9, 2, 1, 3, 5, 0, 6, 2, 7, 4, 4, 6, 2, 1,\n",
       "       6, 9, 8, 1, 3, 2, 0, 9, 7, 3, 3, 0, 0, 6, 6, 3, 4, 0, 5, 6, 8, 8,\n",
       "       1, 1, 9, 4, 9, 3, 9, 3, 4, 8, 2, 2, 4, 3, 1, 6, 2, 7, 3, 2, 7, 2,\n",
       "       8, 3, 0, 4, 8, 1, 8, 1, 4, 8, 2, 4, 3, 4, 3, 6, 1, 9, 4, 8, 7, 9,\n",
       "       9, 4, 5, 0, 1, 5, 6, 2, 5, 8, 6, 4, 1, 5, 7, 1, 6, 1, 5, 6, 0, 5,\n",
       "       1, 5, 8, 5, 5, 7, 1, 5, 7, 9, 3, 3, 4, 0, 7, 5, 9, 8, 7, 3, 2, 0,\n",
       "       1, 2, 8, 2, 9, 7, 8, 7, 7, 7, 2, 3, 1, 1, 9, 6, 6, 6, 9, 9, 1, 8,\n",
       "       8, 6, 7, 4, 4, 8, 0, 4, 3, 3, 2, 8, 9, 5, 8, 5, 9, 9, 3, 5, 4, 1,\n",
       "       1, 8, 1, 4, 9, 0, 9, 0, 5, 6, 5, 8, 6, 8, 4, 9, 6, 7, 5, 0, 3, 2,\n",
       "       4, 4, 4, 1, 5, 5, 6, 8, 1, 4, 9, 6, 8, 1, 0, 2, 7, 8, 2, 0, 6, 0,\n",
       "       3, 5, 8, 6, 2, 5, 3, 0, 5, 0, 4, 4, 5, 0, 2, 8, 3, 3, 2, 0, 5, 2,\n",
       "       1, 0, 2, 9, 3, 9, 4, 7, 0, 6, 2, 0, 7, 9, 5, 4, 8, 0, 6, 4, 3, 5,\n",
       "       3, 3, 8, 1, 0, 9, 8, 3, 8, 0, 0, 4, 4, 0, 6, 1, 2, 3, 2, 3, 8, 5,\n",
       "       1, 4, 7, 9, 3, 5, 0, 6, 3, 1, 9, 5, 9, 3, 6, 0, 1, 9, 9, 3, 9, 1,\n",
       "       1, 4, 9, 0, 0, 3, 3, 3, 3, 9, 7, 8, 8, 3, 0, 3, 2, 9, 2, 6, 3, 6,\n",
       "       9, 0, 5, 7, 6, 1, 5, 6, 0, 0, 1, 6, 7, 5, 8, 4, 1, 1, 0, 6, 8, 9,\n",
       "       6, 9, 5, 3, 7, 6, 4, 9, 6, 1, 3, 8, 3, 5, 9, 3, 5, 0, 9, 6, 7, 5,\n",
       "       1, 0, 7, 1, 6, 8, 9, 1, 1, 7, 1, 2, 2, 8, 9, 3], dtype=int64)"
      ]
     },
     "execution_count": 1451,
     "metadata": {},
     "output_type": "execute_result"
    }
   ],
   "source": [
    "# Convert labels to actual digit value\n",
    "actual = np.argmax(y_test, axis = 1)\n",
    "print(actual.shape)\n",
    "actual"
   ]
  },
  {
   "cell_type": "code",
   "execution_count": 1452,
   "metadata": {},
   "outputs": [
    {
     "name": "stdout",
     "output_type": "stream",
     "text": [
      "Accuracy:\n",
      "0.8954\n",
      "Precision:\n",
      "[0.94       0.87719298 0.89189189 0.88235294 0.84090909 0.95454545\n",
      " 0.92857143 0.91428571 0.90740741 0.82      ]\n",
      "Recall:\n",
      "[0.95918367 0.86206897 0.86842105 0.9        0.925      0.93333333\n",
      " 0.98113208 0.84210526 0.89090909 0.78846154]\n"
     ]
    }
   ],
   "source": [
    "# Calculate accuracy, precision and recall using metrics package\n",
    "print(f\"Accuracy:\\n{round(metrics.accuracy_score(actual,predicted),4)}\")\n",
    "print(f\"Precision:\\n{metrics.precision_score(actual,predicted,average=None)}\")\n",
    "print(f\"Recall:\\n{metrics.recall_score(actual,predicted,average=None)}\")"
   ]
  },
  {
   "cell_type": "code",
   "execution_count": 1453,
   "metadata": {},
   "outputs": [
    {
     "data": {
      "image/png": "[encoded data removed]",
      "text/plain": [
       "<Figure size 360x360 with 2 Axes>"
      ]
     },
     "metadata": {
      "needs_background": "light"
     },
     "output_type": "display_data"
    }
   ],
   "source": [
    "# Heatmapped Confusion Matrix\n",
    "plt.rcParams['figure.figsize'] = (5,5)\n",
    "mat=confusion_matrix(actual,predicted)\n",
    "sns.heatmap(mat.T,square=True,annot=True, fmt='d')\n",
    "plt.xlabel('True Class')\n",
    "plt.ylabel('Predicted Class')\n",
    "plt.show()"
   ]
  },
  {
   "cell_type": "code",
   "execution_count": 1454,
   "metadata": {},
   "outputs": [
    {
     "data": {
      "image/png": "[encoded data removed]",
      "text/plain": [
       "<Figure size 576x360 with 1 Axes>"
      ]
     },
     "metadata": {
      "needs_background": "light"
     },
     "output_type": "display_data"
    }
   ],
   "source": [
    "plot_accgraph(evaluation,20)"
   ]
  },
  {
   "cell_type": "markdown",
   "metadata": {},
   "source": [
    "<h1> Training with 50 hidden units </h1>"
   ]
  },
  {
   "cell_type": "code",
   "execution_count": 1455,
   "metadata": {},
   "outputs": [],
   "source": [
    "# Clear previous session\n",
    "keras.backend.clear_session()"
   ]
  },
  {
   "cell_type": "code",
   "execution_count": 1456,
   "metadata": {},
   "outputs": [
    {
     "name": "stdout",
     "output_type": "stream",
     "text": [
      "Model: \"sequential\"\n",
      "_________________________________________________________________\n",
      "Layer (type)                 Output Shape              Param #   \n",
      "=================================================================\n",
      "dense (Dense)                (None, 50)                12850     \n",
      "_________________________________________________________________\n",
      "dense_1 (Dense)              (None, 10)                510       \n",
      "=================================================================\n",
      "Total params: 13,360\n",
      "Trainable params: 13,360\n",
      "Non-trainable params: 0\n",
      "_________________________________________________________________\n"
     ]
    }
   ],
   "source": [
    "# Initiate neural net\n",
    "# Hidden layer contains x number of neurons and both hidden and output layer \n",
    "# utilize sigmoid activation function with bias unit of 1\n",
    "\n",
    "model50 = keras.Sequential([\n",
    "    keras.layers.Dense(50, activation='sigmoid', input_shape = (X_train.shape[1],), use_bias=True, bias_initializer='ones'),\n",
    "    keras.layers.Dense(10, activation='sigmoid', use_bias=True, bias_initializer='ones'),\n",
    "])\n",
    "\n",
    "from tensorflow.python.keras import optimizers\n",
    "\n",
    "# Specify learning rate of 0.1\n",
    "\n",
    "sgd = optimizers.SGD(lr=0.1, momentum=0.0, nesterov=False)\n",
    "\n",
    "# Compile step required before training, set loss function with accuracy metrics\n",
    "model50.compile(loss='categorical_crossentropy', metrics=['accuracy'])\n",
    "\n",
    "#Output summary\n",
    "model50.summary()"
   ]
  },
  {
   "cell_type": "code",
   "execution_count": 1457,
   "metadata": {},
   "outputs": [
    {
     "name": "stdout",
     "output_type": "stream",
     "text": [
      "Train on 1115 samples, validate on 478 samples\n",
      "Epoch 1/50\n",
      "1115/1115 [==============================] - 1s 508us/sample - loss: 2.2444 - accuracy: 0.1256 - val_loss: 2.1590 - val_accuracy: 0.2531\n",
      "Epoch 2/50\n",
      "1115/1115 [==============================] - 0s 147us/sample - loss: 2.0477 - accuracy: 0.4996 - val_loss: 1.9446 - val_accuracy: 0.6841\n",
      "Epoch 3/50\n",
      "1115/1115 [==============================] - 0s 159us/sample - loss: 1.8216 - accuracy: 0.7641 - val_loss: 1.7231 - val_accuracy: 0.7678\n",
      "Epoch 4/50\n",
      "1115/1115 [==============================] - 0s 155us/sample - loss: 1.5902 - accuracy: 0.8341 - val_loss: 1.5073 - val_accuracy: 0.8243\n",
      "Epoch 5/50\n",
      "1115/1115 [==============================] - 0s 155us/sample - loss: 1.3744 - accuracy: 0.8664 - val_loss: 1.3181 - val_accuracy: 0.8347\n",
      "Epoch 6/50\n",
      "1115/1115 [==============================] - 0s 156us/sample - loss: 1.1885 - accuracy: 0.8843 - val_loss: 1.1615 - val_accuracy: 0.8347\n",
      "Epoch 7/50\n",
      "1115/1115 [==============================] - 0s 154us/sample - loss: 1.0317 - accuracy: 0.8924 - val_loss: 1.0206 - val_accuracy: 0.8598\n",
      "Epoch 8/50\n",
      "1115/1115 [==============================] - 0s 157us/sample - loss: 0.8971 - accuracy: 0.9004 - val_loss: 0.9154 - val_accuracy: 0.8556\n",
      "Epoch 9/50\n",
      "1115/1115 [==============================] - 0s 156us/sample - loss: 0.7857 - accuracy: 0.9094 - val_loss: 0.8139 - val_accuracy: 0.8745\n",
      "Epoch 10/50\n",
      "1115/1115 [==============================] - 0s 156us/sample - loss: 0.6905 - accuracy: 0.9184 - val_loss: 0.7329 - val_accuracy: 0.8808\n",
      "Epoch 11/50\n",
      "1115/1115 [==============================] - 0s 155us/sample - loss: 0.6078 - accuracy: 0.9229 - val_loss: 0.6655 - val_accuracy: 0.8808\n",
      "Epoch 12/50\n",
      "1115/1115 [==============================] - 0s 158us/sample - loss: 0.5381 - accuracy: 0.9309 - val_loss: 0.6091 - val_accuracy: 0.8849\n",
      "Epoch 13/50\n",
      "1115/1115 [==============================] - 0s 156us/sample - loss: 0.4794 - accuracy: 0.9372 - val_loss: 0.5542 - val_accuracy: 0.8933\n",
      "Epoch 14/50\n",
      "1115/1115 [==============================] - 0s 158us/sample - loss: 0.4276 - accuracy: 0.9462 - val_loss: 0.5214 - val_accuracy: 0.8912\n",
      "Epoch 15/50\n",
      "1115/1115 [==============================] - 0s 155us/sample - loss: 0.3843 - accuracy: 0.9516 - val_loss: 0.4846 - val_accuracy: 0.8996\n",
      "Epoch 16/50\n",
      "1115/1115 [==============================] - 0s 161us/sample - loss: 0.3460 - accuracy: 0.9561 - val_loss: 0.4536 - val_accuracy: 0.8954\n",
      "Epoch 17/50\n",
      "1115/1115 [==============================] - 0s 159us/sample - loss: 0.3131 - accuracy: 0.9605 - val_loss: 0.4271 - val_accuracy: 0.8954\n",
      "Epoch 18/50\n",
      "1115/1115 [==============================] - 0s 155us/sample - loss: 0.2828 - accuracy: 0.9677 - val_loss: 0.4117 - val_accuracy: 0.9017\n",
      "Epoch 19/50\n",
      "1115/1115 [==============================] - 0s 156us/sample - loss: 0.2581 - accuracy: 0.9713 - val_loss: 0.3904 - val_accuracy: 0.8996\n",
      "Epoch 20/50\n",
      "1115/1115 [==============================] - 0s 156us/sample - loss: 0.2348 - accuracy: 0.9722 - val_loss: 0.3788 - val_accuracy: 0.8912\n",
      "Epoch 21/50\n",
      "1115/1115 [==============================] - 0s 156us/sample - loss: 0.2143 - accuracy: 0.9758 - val_loss: 0.3665 - val_accuracy: 0.8933\n",
      "Epoch 22/50\n",
      "1115/1115 [==============================] - 0s 157us/sample - loss: 0.1964 - accuracy: 0.9812 - val_loss: 0.3495 - val_accuracy: 0.9100\n",
      "Epoch 23/50\n",
      "1115/1115 [==============================] - 0s 157us/sample - loss: 0.1790 - accuracy: 0.9839 - val_loss: 0.3360 - val_accuracy: 0.9121\n",
      "Epoch 24/50\n",
      "1115/1115 [==============================] - 0s 158us/sample - loss: 0.1632 - accuracy: 0.9848 - val_loss: 0.3255 - val_accuracy: 0.9079\n",
      "Epoch 25/50\n",
      "1115/1115 [==============================] - 0s 158us/sample - loss: 0.1516 - accuracy: 0.9883 - val_loss: 0.3253 - val_accuracy: 0.8996\n",
      "Epoch 26/50\n",
      "1115/1115 [==============================] - 0s 161us/sample - loss: 0.1381 - accuracy: 0.9901 - val_loss: 0.3093 - val_accuracy: 0.9142\n",
      "Epoch 27/50\n",
      "1115/1115 [==============================] - 0s 156us/sample - loss: 0.1267 - accuracy: 0.9910 - val_loss: 0.3044 - val_accuracy: 0.9079\n",
      "Epoch 28/50\n",
      "1115/1115 [==============================] - 0s 157us/sample - loss: 0.1172 - accuracy: 0.9919 - val_loss: 0.3007 - val_accuracy: 0.9038\n",
      "Epoch 29/50\n",
      "1115/1115 [==============================] - 0s 157us/sample - loss: 0.1082 - accuracy: 0.9928 - val_loss: 0.2964 - val_accuracy: 0.9100\n",
      "Epoch 30/50\n",
      "1115/1115 [==============================] - 0s 156us/sample - loss: 0.0982 - accuracy: 0.9946 - val_loss: 0.2910 - val_accuracy: 0.9121\n",
      "Epoch 31/50\n",
      "1115/1115 [==============================] - 0s 155us/sample - loss: 0.0905 - accuracy: 0.9973 - val_loss: 0.2865 - val_accuracy: 0.9059\n",
      "Epoch 32/50\n",
      "1115/1115 [==============================] - 0s 154us/sample - loss: 0.0828 - accuracy: 0.9964 - val_loss: 0.2855 - val_accuracy: 0.9038\n",
      "Epoch 33/50\n",
      "1115/1115 [==============================] - 0s 158us/sample - loss: 0.0763 - accuracy: 0.9964 - val_loss: 0.2840 - val_accuracy: 0.9017\n",
      "Epoch 34/50\n",
      "1115/1115 [==============================] - 0s 155us/sample - loss: 0.0694 - accuracy: 0.9973 - val_loss: 0.2848 - val_accuracy: 0.8996\n",
      "Epoch 35/50\n",
      "1115/1115 [==============================] - 0s 156us/sample - loss: 0.0639 - accuracy: 0.9982 - val_loss: 0.2772 - val_accuracy: 0.9038\n",
      "Epoch 36/50\n",
      "1115/1115 [==============================] - 0s 157us/sample - loss: 0.0587 - accuracy: 0.9973 - val_loss: 0.2781 - val_accuracy: 0.9038\n",
      "Epoch 37/50\n",
      "1115/1115 [==============================] - 0s 158us/sample - loss: 0.0534 - accuracy: 0.9982 - val_loss: 0.2751 - val_accuracy: 0.9017\n",
      "Epoch 38/50\n",
      "1115/1115 [==============================] - 0s 155us/sample - loss: 0.0488 - accuracy: 0.9991 - val_loss: 0.2773 - val_accuracy: 0.9100\n",
      "Epoch 39/50\n",
      "1115/1115 [==============================] - 0s 155us/sample - loss: 0.0446 - accuracy: 0.9991 - val_loss: 0.2704 - val_accuracy: 0.9079\n",
      "Epoch 40/50\n",
      "1115/1115 [==============================] - 0s 155us/sample - loss: 0.0409 - accuracy: 0.9991 - val_loss: 0.2693 - val_accuracy: 0.9079\n",
      "Epoch 41/50\n",
      "1115/1115 [==============================] - 0s 156us/sample - loss: 0.0375 - accuracy: 0.9991 - val_loss: 0.2693 - val_accuracy: 0.9017\n",
      "Epoch 42/50\n",
      "1115/1115 [==============================] - 0s 157us/sample - loss: 0.0340 - accuracy: 0.9991 - val_loss: 0.2705 - val_accuracy: 0.9038\n",
      "Epoch 43/50\n",
      "1115/1115 [==============================] - 0s 155us/sample - loss: 0.0312 - accuracy: 0.9991 - val_loss: 0.2671 - val_accuracy: 0.9100\n",
      "Epoch 44/50\n",
      "1115/1115 [==============================] - 0s 156us/sample - loss: 0.0283 - accuracy: 0.9991 - val_loss: 0.2694 - val_accuracy: 0.9100\n",
      "Epoch 45/50\n",
      "1115/1115 [==============================] - 0s 155us/sample - loss: 0.0255 - accuracy: 1.0000 - val_loss: 0.2707 - val_accuracy: 0.9121\n",
      "Epoch 46/50\n",
      "1115/1115 [==============================] - 0s 156us/sample - loss: 0.0229 - accuracy: 1.0000 - val_loss: 0.2657 - val_accuracy: 0.9079\n",
      "Epoch 47/50\n",
      "1115/1115 [==============================] - 0s 156us/sample - loss: 0.0210 - accuracy: 1.0000 - val_loss: 0.2684 - val_accuracy: 0.9059\n",
      "Epoch 48/50\n",
      "1115/1115 [==============================] - 0s 163us/sample - loss: 0.0191 - accuracy: 1.0000 - val_loss: 0.2706 - val_accuracy: 0.9059\n",
      "Epoch 49/50\n",
      "1115/1115 [==============================] - 0s 154us/sample - loss: 0.0173 - accuracy: 1.0000 - val_loss: 0.2689 - val_accuracy: 0.9079\n",
      "Epoch 50/50\n",
      "1115/1115 [==============================] - 0s 156us/sample - loss: 0.0157 - accuracy: 1.0000 - val_loss: 0.2797 - val_accuracy: 0.9017\n"
     ]
    }
   ],
   "source": [
    "# Train the neural net\n",
    "\n",
    "evaluation = model50.fit(X_train, y_train, validation_data=(X_test, y_test), epochs=50)"
   ]
  },
  {
   "cell_type": "code",
   "execution_count": 1458,
   "metadata": {},
   "outputs": [
    {
     "name": "stdout",
     "output_type": "stream",
     "text": [
      "Training accuracy: 1.0\n",
      "\n",
      "Test accuracy: 0.9016736\n"
     ]
    }
   ],
   "source": [
    "test_loss, test_acc = model50.evaluate(X_test,  y_test, verbose=0)\n",
    "print('Training accuracy:',max(evaluation.history['accuracy']))\n",
    "print('\\nTest accuracy:', test_acc)"
   ]
  },
  {
   "cell_type": "code",
   "execution_count": 1459,
   "metadata": {},
   "outputs": [
    {
     "name": "stdout",
     "output_type": "stream",
     "text": [
      "(478, 10)\n"
     ]
    },
    {
     "data": {
      "text/plain": [
       "array([[0.1, 0.9, 0.1, ..., 0.1, 0.1, 0.1],\n",
       "       [0.1, 0.1, 0.1, ..., 0.1, 0.1, 0.1],\n",
       "       [0.1, 0.1, 0.1, ..., 0.1, 0.9, 0.1],\n",
       "       ...,\n",
       "       [0.1, 0.1, 0.1, ..., 0.1, 0.9, 0.1],\n",
       "       [0.1, 0.1, 0.1, ..., 0.1, 0.1, 0.9],\n",
       "       [0.1, 0.1, 0.1, ..., 0.1, 0.1, 0.1]])"
      ]
     },
     "execution_count": 1459,
     "metadata": {},
     "output_type": "execute_result"
    }
   ],
   "source": [
    "# Store predictions on test set images\n",
    "predictions = set_target(model50.predict(X_test))\n",
    "\n",
    "# Verify shape and output of predictions\n",
    "print(predictions.shape)\n",
    "predictions"
   ]
  },
  {
   "cell_type": "code",
   "execution_count": 1460,
   "metadata": {},
   "outputs": [
    {
     "name": "stdout",
     "output_type": "stream",
     "text": [
      "(478,)\n"
     ]
    },
    {
     "data": {
      "text/plain": [
       "array([1, 5, 8, 6, 1, 8, 6, 8, 8, 6, 1, 6, 6, 9, 5, 0, 8, 1, 5, 4, 6, 2,\n",
       "       8, 3, 0, 5, 8, 9, 0, 1, 2, 8, 6, 9, 1, 2, 4, 1, 7, 2, 7, 8, 8, 7,\n",
       "       6, 0, 6, 1, 0, 3, 4, 8, 4, 4, 1, 0, 1, 9, 0, 6, 4, 0, 9, 5, 7, 0,\n",
       "       6, 8, 7, 2, 2, 7, 7, 8, 1, 3, 2, 5, 9, 7, 1, 6, 6, 8, 9, 1, 2, 5,\n",
       "       3, 8, 5, 8, 6, 7, 6, 7, 9, 2, 4, 3, 9, 0, 6, 2, 7, 4, 4, 0, 2, 1,\n",
       "       6, 4, 8, 1, 3, 2, 0, 9, 7, 3, 3, 0, 0, 6, 6, 5, 4, 0, 5, 4, 8, 8,\n",
       "       4, 1, 3, 4, 9, 3, 9, 3, 4, 8, 2, 2, 4, 3, 1, 6, 2, 7, 3, 2, 8, 6,\n",
       "       8, 3, 0, 4, 2, 1, 8, 1, 4, 8, 2, 1, 3, 4, 3, 6, 1, 9, 4, 8, 7, 9,\n",
       "       9, 4, 5, 0, 1, 5, 6, 2, 5, 8, 6, 4, 1, 5, 7, 1, 6, 1, 5, 6, 0, 5,\n",
       "       1, 5, 8, 5, 5, 1, 1, 5, 7, 9, 3, 3, 4, 0, 7, 5, 9, 8, 7, 3, 2, 0,\n",
       "       1, 2, 9, 2, 9, 7, 8, 7, 8, 7, 2, 3, 1, 1, 8, 6, 6, 6, 9, 9, 1, 8,\n",
       "       8, 6, 7, 4, 4, 8, 0, 4, 3, 3, 2, 8, 9, 5, 9, 5, 3, 9, 3, 5, 4, 1,\n",
       "       1, 2, 1, 4, 9, 0, 9, 0, 5, 6, 5, 8, 6, 8, 4, 9, 6, 7, 5, 0, 1, 2,\n",
       "       4, 4, 4, 2, 5, 5, 6, 8, 1, 4, 9, 6, 8, 1, 0, 0, 9, 8, 2, 0, 6, 0,\n",
       "       3, 5, 8, 6, 6, 5, 3, 0, 5, 0, 4, 4, 5, 0, 2, 8, 3, 3, 2, 0, 4, 2,\n",
       "       1, 0, 2, 9, 3, 9, 4, 7, 0, 6, 9, 0, 7, 9, 5, 4, 8, 0, 6, 4, 3, 5,\n",
       "       3, 3, 8, 1, 0, 3, 8, 3, 8, 0, 0, 1, 4, 0, 6, 1, 2, 3, 2, 3, 8, 5,\n",
       "       1, 4, 7, 9, 3, 5, 0, 6, 3, 1, 0, 5, 9, 2, 6, 0, 1, 9, 9, 3, 9, 1,\n",
       "       1, 4, 4, 8, 0, 3, 3, 3, 3, 9, 7, 8, 8, 3, 0, 3, 2, 9, 2, 6, 3, 6,\n",
       "       9, 0, 5, 7, 6, 1, 5, 6, 0, 0, 1, 6, 7, 5, 8, 4, 9, 1, 0, 6, 8, 1,\n",
       "       6, 3, 5, 3, 4, 6, 4, 9, 6, 1, 7, 8, 3, 5, 9, 3, 5, 0, 9, 6, 7, 5,\n",
       "       1, 0, 7, 1, 6, 8, 1, 1, 1, 7, 7, 2, 8, 8, 9, 3], dtype=int64)"
      ]
     },
     "execution_count": 1460,
     "metadata": {},
     "output_type": "execute_result"
    }
   ],
   "source": [
    "# Convert predictions to actual digit value\n",
    "\n",
    "predicted = np.argmax(predictions, axis = 1)\n",
    "print(predicted.shape)\n",
    "predicted"
   ]
  },
  {
   "cell_type": "code",
   "execution_count": 1461,
   "metadata": {},
   "outputs": [
    {
     "name": "stdout",
     "output_type": "stream",
     "text": [
      "(478,)\n"
     ]
    },
    {
     "data": {
      "text/plain": [
       "array([1, 5, 8, 6, 1, 8, 6, 8, 8, 6, 1, 6, 6, 9, 5, 0, 8, 1, 5, 4, 6, 2,\n",
       "       7, 3, 0, 1, 8, 9, 0, 1, 2, 8, 7, 9, 1, 2, 4, 1, 7, 2, 7, 8, 8, 7,\n",
       "       6, 0, 6, 1, 0, 3, 9, 8, 4, 4, 1, 0, 1, 9, 0, 6, 4, 0, 9, 5, 7, 0,\n",
       "       6, 8, 1, 2, 2, 7, 7, 8, 1, 9, 2, 5, 9, 7, 1, 6, 6, 8, 9, 1, 8, 5,\n",
       "       3, 8, 5, 8, 6, 7, 6, 7, 9, 2, 1, 3, 5, 0, 6, 2, 7, 4, 4, 6, 2, 1,\n",
       "       6, 9, 8, 1, 3, 2, 0, 9, 7, 3, 3, 0, 0, 6, 6, 3, 4, 0, 5, 6, 8, 8,\n",
       "       1, 1, 9, 4, 9, 3, 9, 3, 4, 8, 2, 2, 4, 3, 1, 6, 2, 7, 3, 2, 7, 2,\n",
       "       8, 3, 0, 4, 8, 1, 8, 1, 4, 8, 2, 4, 3, 4, 3, 6, 1, 9, 4, 8, 7, 9,\n",
       "       9, 4, 5, 0, 1, 5, 6, 2, 5, 8, 6, 4, 1, 5, 7, 1, 6, 1, 5, 6, 0, 5,\n",
       "       1, 5, 8, 5, 5, 7, 1, 5, 7, 9, 3, 3, 4, 0, 7, 5, 9, 8, 7, 3, 2, 0,\n",
       "       1, 2, 8, 2, 9, 7, 8, 7, 7, 7, 2, 3, 1, 1, 9, 6, 6, 6, 9, 9, 1, 8,\n",
       "       8, 6, 7, 4, 4, 8, 0, 4, 3, 3, 2, 8, 9, 5, 8, 5, 9, 9, 3, 5, 4, 1,\n",
       "       1, 8, 1, 4, 9, 0, 9, 0, 5, 6, 5, 8, 6, 8, 4, 9, 6, 7, 5, 0, 3, 2,\n",
       "       4, 4, 4, 1, 5, 5, 6, 8, 1, 4, 9, 6, 8, 1, 0, 2, 7, 8, 2, 0, 6, 0,\n",
       "       3, 5, 8, 6, 2, 5, 3, 0, 5, 0, 4, 4, 5, 0, 2, 8, 3, 3, 2, 0, 5, 2,\n",
       "       1, 0, 2, 9, 3, 9, 4, 7, 0, 6, 2, 0, 7, 9, 5, 4, 8, 0, 6, 4, 3, 5,\n",
       "       3, 3, 8, 1, 0, 9, 8, 3, 8, 0, 0, 4, 4, 0, 6, 1, 2, 3, 2, 3, 8, 5,\n",
       "       1, 4, 7, 9, 3, 5, 0, 6, 3, 1, 9, 5, 9, 3, 6, 0, 1, 9, 9, 3, 9, 1,\n",
       "       1, 4, 9, 0, 0, 3, 3, 3, 3, 9, 7, 8, 8, 3, 0, 3, 2, 9, 2, 6, 3, 6,\n",
       "       9, 0, 5, 7, 6, 1, 5, 6, 0, 0, 1, 6, 7, 5, 8, 4, 1, 1, 0, 6, 8, 9,\n",
       "       6, 9, 5, 3, 7, 6, 4, 9, 6, 1, 3, 8, 3, 5, 9, 3, 5, 0, 9, 6, 7, 5,\n",
       "       1, 0, 7, 1, 6, 8, 9, 1, 1, 7, 1, 2, 2, 8, 9, 3], dtype=int64)"
      ]
     },
     "execution_count": 1461,
     "metadata": {},
     "output_type": "execute_result"
    }
   ],
   "source": [
    "# Convert labels to actual digit value\n",
    "actual = np.argmax(y_test, axis = 1)\n",
    "print(actual.shape)\n",
    "actual"
   ]
  },
  {
   "cell_type": "code",
   "execution_count": 1462,
   "metadata": {},
   "outputs": [
    {
     "name": "stdout",
     "output_type": "stream",
     "text": [
      "Accuracy:\n",
      "0.9017\n",
      "Precision:\n",
      "[0.94117647 0.89473684 0.86842105 0.90196078 0.82608696 0.95555556\n",
      " 0.94444444 0.91176471 0.89285714 0.86956522]\n",
      "Recall:\n",
      "[0.97959184 0.87931034 0.86842105 0.92       0.95       0.95555556\n",
      " 0.96226415 0.81578947 0.90909091 0.76923077]\n"
     ]
    }
   ],
   "source": [
    "# Calculate accuracy, precision and recall using metrics package\n",
    "print(f\"Accuracy:\\n{round(metrics.accuracy_score(actual,predicted),4)}\")\n",
    "print(f\"Precision:\\n{metrics.precision_score(actual,predicted,average=None)}\")\n",
    "print(f\"Recall:\\n{metrics.recall_score(actual,predicted,average=None)}\")"
   ]
  },
  {
   "cell_type": "code",
   "execution_count": 1463,
   "metadata": {},
   "outputs": [
    {
     "data": {
      "image/png": "[encoded data removed]",
      "text/plain": [
       "<Figure size 360x360 with 2 Axes>"
      ]
     },
     "metadata": {
      "needs_background": "light"
     },
     "output_type": "display_data"
    }
   ],
   "source": [
    "# Heatmapped Confusion Matrix\n",
    "plt.rcParams['figure.figsize'] = (5,5)\n",
    "mat=confusion_matrix(actual,predicted)\n",
    "sns.heatmap(mat.T,square=True,annot=True, fmt='d')\n",
    "plt.xlabel('True Class')\n",
    "plt.ylabel('Predicted Class')\n",
    "plt.show()"
   ]
  },
  {
   "cell_type": "code",
   "execution_count": 1464,
   "metadata": {},
   "outputs": [
    {
     "data": {
      "image/png": "[encoded data removed]",
      "text/plain": [
       "<Figure size 576x360 with 1 Axes>"
      ]
     },
     "metadata": {
      "needs_background": "light"
     },
     "output_type": "display_data"
    }
   ],
   "source": [
    "plot_accgraph(evaluation,50)"
   ]
  },
  {
   "cell_type": "markdown",
   "metadata": {},
   "source": [
    "<h1> Training with 100 hidden units </h1>"
   ]
  },
  {
   "cell_type": "code",
   "execution_count": 1465,
   "metadata": {},
   "outputs": [],
   "source": [
    "# Clear previous session\n",
    "keras.backend.clear_session()"
   ]
  },
  {
   "cell_type": "code",
   "execution_count": 1466,
   "metadata": {},
   "outputs": [
    {
     "name": "stdout",
     "output_type": "stream",
     "text": [
      "Model: \"sequential\"\n",
      "_________________________________________________________________\n",
      "Layer (type)                 Output Shape              Param #   \n",
      "=================================================================\n",
      "dense (Dense)                (None, 100)               25700     \n",
      "_________________________________________________________________\n",
      "dense_1 (Dense)              (None, 10)                1010      \n",
      "=================================================================\n",
      "Total params: 26,710\n",
      "Trainable params: 26,710\n",
      "Non-trainable params: 0\n",
      "_________________________________________________________________\n"
     ]
    }
   ],
   "source": [
    "# Initiate neural net\n",
    "# Hidden layer contains x number of neurons and both hidden and output layer \n",
    "# utilize sigmoid activation function with bias unit of 1\n",
    "\n",
    "model100 = keras.Sequential([\n",
    "    keras.layers.Dense(100, activation='sigmoid', input_shape = (X_train.shape[1],), use_bias=True, bias_initializer='ones'),\n",
    "    keras.layers.Dense(10, activation='sigmoid', use_bias=True, bias_initializer='ones'),\n",
    "])\n",
    "\n",
    "from tensorflow.python.keras import optimizers\n",
    "\n",
    "# Specify learning rate of 0.1\n",
    "\n",
    "sgd = optimizers.SGD(lr=0.1, momentum=0.0, nesterov=False)\n",
    "\n",
    "# Compile step required before training, set loss function with accuracy metrics\n",
    "model100.compile(loss='categorical_crossentropy', metrics=['accuracy'])\n",
    "\n",
    "#Output summary\n",
    "model100.summary()"
   ]
  },
  {
   "cell_type": "code",
   "execution_count": 1467,
   "metadata": {},
   "outputs": [
    {
     "name": "stdout",
     "output_type": "stream",
     "text": [
      "Train on 1115 samples, validate on 478 samples\n",
      "Epoch 1/50\n",
      "1115/1115 [==============================] - 1s 979us/sample - loss: 2.1346 - accuracy: 0.3973 - val_loss: 1.9167 - val_accuracy: 0.6674\n",
      "Epoch 2/50\n",
      "1115/1115 [==============================] - 0s 168us/sample - loss: 1.6608 - accuracy: 0.7848 - val_loss: 1.4865 - val_accuracy: 0.7741\n",
      "Epoch 3/50\n",
      "1115/1115 [==============================] - 0s 162us/sample - loss: 1.2925 - accuracy: 0.8386 - val_loss: 1.1866 - val_accuracy: 0.8410\n",
      "Epoch 4/50\n",
      "1115/1115 [==============================] - 0s 159us/sample - loss: 1.0202 - accuracy: 0.8691 - val_loss: 0.9689 - val_accuracy: 0.8577\n",
      "Epoch 5/50\n",
      "1115/1115 [==============================] - 0s 162us/sample - loss: 0.8186 - accuracy: 0.8861 - val_loss: 0.8025 - val_accuracy: 0.8640\n",
      "Epoch 6/50\n",
      "1115/1115 [==============================] - 0s 157us/sample - loss: 0.6651 - accuracy: 0.9049 - val_loss: 0.6826 - val_accuracy: 0.8745\n",
      "Epoch 7/50\n",
      "1115/1115 [==============================] - 0s 166us/sample - loss: 0.5539 - accuracy: 0.9130 - val_loss: 0.5950 - val_accuracy: 0.8891\n",
      "Epoch 8/50\n",
      "1115/1115 [==============================] - 0s 165us/sample - loss: 0.4656 - accuracy: 0.9291 - val_loss: 0.5411 - val_accuracy: 0.8787\n",
      "Epoch 9/50\n",
      "1115/1115 [==============================] - 0s 160us/sample - loss: 0.3998 - accuracy: 0.9390 - val_loss: 0.4725 - val_accuracy: 0.8933\n",
      "Epoch 10/50\n",
      "1115/1115 [==============================] - 0s 160us/sample - loss: 0.3433 - accuracy: 0.9444 - val_loss: 0.4383 - val_accuracy: 0.8996\n",
      "Epoch 11/50\n",
      "1115/1115 [==============================] - 0s 160us/sample - loss: 0.3012 - accuracy: 0.9552 - val_loss: 0.4028 - val_accuracy: 0.9017\n",
      "Epoch 12/50\n",
      "1115/1115 [==============================] - 0s 163us/sample - loss: 0.2636 - accuracy: 0.9623 - val_loss: 0.3775 - val_accuracy: 0.9017\n",
      "Epoch 13/50\n",
      "1115/1115 [==============================] - 0s 162us/sample - loss: 0.2324 - accuracy: 0.9650 - val_loss: 0.3627 - val_accuracy: 0.8996\n",
      "Epoch 14/50\n",
      "1115/1115 [==============================] - 0s 159us/sample - loss: 0.2062 - accuracy: 0.9740 - val_loss: 0.3547 - val_accuracy: 0.9079\n",
      "Epoch 15/50\n",
      "1115/1115 [==============================] - 0s 160us/sample - loss: 0.1837 - accuracy: 0.9803 - val_loss: 0.3258 - val_accuracy: 0.9017\n",
      "Epoch 16/50\n",
      "1115/1115 [==============================] - 0s 165us/sample - loss: 0.1644 - accuracy: 0.9812 - val_loss: 0.3189 - val_accuracy: 0.9079\n",
      "Epoch 17/50\n",
      "1115/1115 [==============================] - 0s 167us/sample - loss: 0.1486 - accuracy: 0.9848 - val_loss: 0.3093 - val_accuracy: 0.9079\n",
      "Epoch 18/50\n",
      "1115/1115 [==============================] - 0s 160us/sample - loss: 0.1317 - accuracy: 0.9883 - val_loss: 0.2992 - val_accuracy: 0.9121\n",
      "Epoch 19/50\n",
      "1115/1115 [==============================] - 0s 164us/sample - loss: 0.1175 - accuracy: 0.9901 - val_loss: 0.2903 - val_accuracy: 0.9059\n",
      "Epoch 20/50\n",
      "1115/1115 [==============================] - 0s 165us/sample - loss: 0.1058 - accuracy: 0.9910 - val_loss: 0.2949 - val_accuracy: 0.9017\n",
      "Epoch 21/50\n",
      "1115/1115 [==============================] - 0s 158us/sample - loss: 0.0946 - accuracy: 0.9937 - val_loss: 0.2814 - val_accuracy: 0.9059\n",
      "Epoch 22/50\n",
      "1115/1115 [==============================] - 0s 161us/sample - loss: 0.0842 - accuracy: 0.9955 - val_loss: 0.2706 - val_accuracy: 0.9121\n",
      "Epoch 23/50\n",
      "1115/1115 [==============================] - 0s 159us/sample - loss: 0.0753 - accuracy: 0.9955 - val_loss: 0.2781 - val_accuracy: 0.9059\n",
      "Epoch 24/50\n",
      "1115/1115 [==============================] - 0s 159us/sample - loss: 0.0664 - accuracy: 0.9964 - val_loss: 0.2669 - val_accuracy: 0.9038\n",
      "Epoch 25/50\n",
      "1115/1115 [==============================] - 0s 160us/sample - loss: 0.0594 - accuracy: 0.9973 - val_loss: 0.2653 - val_accuracy: 0.9079\n",
      "Epoch 26/50\n",
      "1115/1115 [==============================] - 0s 158us/sample - loss: 0.0531 - accuracy: 0.9982 - val_loss: 0.2596 - val_accuracy: 0.9100\n",
      "Epoch 27/50\n",
      "1115/1115 [==============================] - 0s 159us/sample - loss: 0.0469 - accuracy: 0.9982 - val_loss: 0.2537 - val_accuracy: 0.9079\n",
      "Epoch 28/50\n",
      "1115/1115 [==============================] - 0s 160us/sample - loss: 0.0418 - accuracy: 0.9991 - val_loss: 0.2712 - val_accuracy: 0.8996\n",
      "Epoch 29/50\n",
      "1115/1115 [==============================] - 0s 161us/sample - loss: 0.0370 - accuracy: 0.9982 - val_loss: 0.2549 - val_accuracy: 0.9142\n",
      "Epoch 30/50\n",
      "1115/1115 [==============================] - 0s 160us/sample - loss: 0.0323 - accuracy: 0.9991 - val_loss: 0.2560 - val_accuracy: 0.9121\n",
      "Epoch 31/50\n",
      "1115/1115 [==============================] - 0s 158us/sample - loss: 0.0285 - accuracy: 1.0000 - val_loss: 0.2547 - val_accuracy: 0.9121\n",
      "Epoch 32/50\n",
      "1115/1115 [==============================] - 0s 164us/sample - loss: 0.0253 - accuracy: 1.0000 - val_loss: 0.2502 - val_accuracy: 0.9163\n",
      "Epoch 33/50\n",
      "1115/1115 [==============================] - 0s 158us/sample - loss: 0.0221 - accuracy: 1.0000 - val_loss: 0.2611 - val_accuracy: 0.9121\n",
      "Epoch 34/50\n",
      "1115/1115 [==============================] - 0s 160us/sample - loss: 0.0198 - accuracy: 1.0000 - val_loss: 0.2638 - val_accuracy: 0.9059\n",
      "Epoch 35/50\n",
      "1115/1115 [==============================] - 0s 163us/sample - loss: 0.0172 - accuracy: 1.0000 - val_loss: 0.2588 - val_accuracy: 0.9142\n",
      "Epoch 36/50\n",
      "1115/1115 [==============================] - 0s 161us/sample - loss: 0.0150 - accuracy: 1.0000 - val_loss: 0.2580 - val_accuracy: 0.9163\n",
      "Epoch 37/50\n",
      "1115/1115 [==============================] - 0s 163us/sample - loss: 0.0129 - accuracy: 1.0000 - val_loss: 0.2620 - val_accuracy: 0.9184\n",
      "Epoch 38/50\n",
      "1115/1115 [==============================] - 0s 160us/sample - loss: 0.0116 - accuracy: 1.0000 - val_loss: 0.2607 - val_accuracy: 0.9163\n",
      "Epoch 39/50\n",
      "1115/1115 [==============================] - 0s 159us/sample - loss: 0.0098 - accuracy: 1.0000 - val_loss: 0.2664 - val_accuracy: 0.9121\n",
      "Epoch 40/50\n",
      "1115/1115 [==============================] - 0s 171us/sample - loss: 0.0086 - accuracy: 1.0000 - val_loss: 0.2673 - val_accuracy: 0.9163\n",
      "Epoch 41/50\n",
      "1115/1115 [==============================] - 0s 157us/sample - loss: 0.0076 - accuracy: 1.0000 - val_loss: 0.2766 - val_accuracy: 0.9142\n",
      "Epoch 42/50\n",
      "1115/1115 [==============================] - 0s 156us/sample - loss: 0.0066 - accuracy: 1.0000 - val_loss: 0.2663 - val_accuracy: 0.9163\n",
      "Epoch 43/50\n",
      "1115/1115 [==============================] - 0s 159us/sample - loss: 0.0057 - accuracy: 1.0000 - val_loss: 0.2684 - val_accuracy: 0.9163\n",
      "Epoch 44/50\n",
      "1115/1115 [==============================] - 0s 168us/sample - loss: 0.0050 - accuracy: 1.0000 - val_loss: 0.2675 - val_accuracy: 0.9142\n",
      "Epoch 45/50\n",
      "1115/1115 [==============================] - 0s 163us/sample - loss: 0.0043 - accuracy: 1.0000 - val_loss: 0.2707 - val_accuracy: 0.9142\n",
      "Epoch 46/50\n",
      "1115/1115 [==============================] - ETA: 0s - loss: 0.0038 - accuracy: 1.00 - 0s 161us/sample - loss: 0.0037 - accuracy: 1.0000 - val_loss: 0.2815 - val_accuracy: 0.9142\n",
      "Epoch 47/50\n",
      "1115/1115 [==============================] - 0s 160us/sample - loss: 0.0032 - accuracy: 1.0000 - val_loss: 0.2863 - val_accuracy: 0.9163\n",
      "Epoch 48/50\n",
      "1115/1115 [==============================] - 0s 155us/sample - loss: 0.0027 - accuracy: 1.0000 - val_loss: 0.2787 - val_accuracy: 0.9121\n",
      "Epoch 49/50\n",
      "1115/1115 [==============================] - 0s 165us/sample - loss: 0.0023 - accuracy: 1.0000 - val_loss: 0.2907 - val_accuracy: 0.9163\n",
      "Epoch 50/50\n",
      "1115/1115 [==============================] - 0s 168us/sample - loss: 0.0020 - accuracy: 1.0000 - val_loss: 0.2895 - val_accuracy: 0.9163\n"
     ]
    }
   ],
   "source": [
    "# Train the neural net\n",
    "\n",
    "evaluation = model100.fit(X_train, y_train, validation_data=(X_test, y_test), epochs=50)"
   ]
  },
  {
   "cell_type": "code",
   "execution_count": 1468,
   "metadata": {},
   "outputs": [
    {
     "name": "stdout",
     "output_type": "stream",
     "text": [
      "Training accuracy: 1.0\n",
      "\n",
      "Test accuracy: 0.916318\n"
     ]
    }
   ],
   "source": [
    "test_loss, test_acc = model100.evaluate(X_test,  y_test, verbose=0)\n",
    "print('Training accuracy:',max(evaluation.history['accuracy']))\n",
    "print('\\nTest accuracy:', test_acc)"
   ]
  },
  {
   "cell_type": "code",
   "execution_count": 1469,
   "metadata": {},
   "outputs": [
    {
     "name": "stdout",
     "output_type": "stream",
     "text": [
      "(478, 10)\n"
     ]
    },
    {
     "data": {
      "text/plain": [
       "array([[0.1, 0.9, 0.1, ..., 0.1, 0.1, 0.1],\n",
       "       [0.1, 0.1, 0.1, ..., 0.1, 0.1, 0.1],\n",
       "       [0.1, 0.1, 0.1, ..., 0.1, 0.9, 0.1],\n",
       "       ...,\n",
       "       [0.1, 0.1, 0.1, ..., 0.1, 0.9, 0.1],\n",
       "       [0.1, 0.1, 0.1, ..., 0.1, 0.1, 0.9],\n",
       "       [0.1, 0.1, 0.1, ..., 0.1, 0.1, 0.1]])"
      ]
     },
     "execution_count": 1469,
     "metadata": {},
     "output_type": "execute_result"
    }
   ],
   "source": [
    "# Store predictions on test set images\n",
    "predictions = set_target(model100.predict(X_test))\n",
    "\n",
    "# Verify shape and output of predictions\n",
    "print(predictions.shape)\n",
    "predictions"
   ]
  },
  {
   "cell_type": "code",
   "execution_count": 1470,
   "metadata": {},
   "outputs": [
    {
     "name": "stdout",
     "output_type": "stream",
     "text": [
      "(478,)\n"
     ]
    },
    {
     "data": {
      "text/plain": [
       "array([1, 5, 8, 6, 1, 8, 6, 8, 8, 6, 1, 6, 6, 9, 5, 0, 8, 1, 5, 4, 6, 2,\n",
       "       8, 3, 0, 5, 8, 9, 0, 1, 2, 8, 6, 9, 1, 2, 4, 1, 7, 2, 7, 8, 8, 7,\n",
       "       6, 0, 6, 1, 0, 3, 3, 8, 4, 4, 1, 0, 1, 9, 0, 6, 4, 0, 9, 5, 7, 0,\n",
       "       6, 8, 7, 2, 2, 7, 7, 8, 1, 3, 2, 5, 9, 7, 1, 6, 6, 8, 9, 1, 8, 5,\n",
       "       3, 8, 5, 8, 6, 7, 6, 7, 9, 2, 4, 3, 9, 0, 6, 2, 7, 4, 4, 0, 2, 1,\n",
       "       6, 9, 8, 1, 3, 2, 0, 9, 7, 7, 3, 0, 0, 6, 6, 5, 4, 0, 5, 4, 8, 8,\n",
       "       4, 1, 9, 4, 9, 3, 9, 3, 4, 8, 2, 2, 4, 3, 1, 6, 2, 7, 3, 2, 8, 6,\n",
       "       8, 3, 0, 4, 8, 1, 8, 1, 4, 8, 2, 1, 3, 4, 3, 6, 1, 9, 4, 8, 7, 9,\n",
       "       9, 4, 5, 0, 1, 5, 6, 2, 5, 8, 6, 4, 1, 5, 7, 1, 6, 1, 5, 6, 0, 5,\n",
       "       1, 5, 8, 5, 5, 1, 1, 5, 7, 9, 3, 3, 4, 0, 7, 5, 9, 8, 7, 3, 2, 0,\n",
       "       1, 2, 9, 2, 9, 7, 8, 7, 9, 7, 2, 3, 1, 1, 8, 6, 6, 6, 9, 9, 1, 8,\n",
       "       8, 6, 7, 4, 4, 8, 0, 4, 3, 3, 2, 8, 9, 5, 8, 5, 3, 9, 3, 5, 4, 1,\n",
       "       1, 2, 1, 4, 9, 0, 9, 0, 5, 6, 5, 8, 6, 8, 4, 9, 5, 7, 5, 0, 1, 2,\n",
       "       4, 4, 4, 2, 5, 5, 6, 8, 1, 4, 9, 6, 8, 1, 0, 2, 3, 8, 2, 0, 6, 0,\n",
       "       3, 5, 8, 6, 2, 5, 3, 0, 5, 0, 4, 4, 5, 0, 2, 8, 3, 3, 2, 0, 5, 2,\n",
       "       1, 0, 2, 9, 3, 9, 4, 7, 0, 6, 9, 0, 7, 9, 5, 4, 8, 0, 6, 4, 3, 5,\n",
       "       3, 3, 8, 1, 0, 3, 8, 3, 8, 0, 0, 1, 4, 0, 6, 1, 2, 3, 2, 3, 8, 5,\n",
       "       1, 4, 7, 9, 3, 5, 0, 6, 3, 1, 9, 5, 9, 2, 6, 0, 1, 9, 9, 3, 9, 1,\n",
       "       1, 4, 4, 8, 0, 3, 3, 3, 3, 9, 7, 8, 1, 3, 0, 3, 2, 9, 2, 6, 3, 6,\n",
       "       9, 0, 5, 7, 6, 1, 5, 6, 0, 0, 1, 6, 7, 5, 8, 4, 1, 1, 0, 6, 8, 9,\n",
       "       6, 3, 5, 3, 4, 6, 4, 9, 6, 1, 7, 9, 3, 5, 9, 3, 5, 0, 9, 6, 7, 5,\n",
       "       1, 0, 7, 1, 6, 8, 1, 1, 1, 7, 7, 2, 8, 8, 9, 3], dtype=int64)"
      ]
     },
     "execution_count": 1470,
     "metadata": {},
     "output_type": "execute_result"
    }
   ],
   "source": [
    "# Convert predictions to actual digit value\n",
    "\n",
    "predicted = np.argmax(predictions, axis = 1)\n",
    "print(predicted.shape)\n",
    "predicted"
   ]
  },
  {
   "cell_type": "code",
   "execution_count": 1471,
   "metadata": {},
   "outputs": [
    {
     "name": "stdout",
     "output_type": "stream",
     "text": [
      "(478,)\n"
     ]
    },
    {
     "data": {
      "text/plain": [
       "array([1, 5, 8, 6, 1, 8, 6, 8, 8, 6, 1, 6, 6, 9, 5, 0, 8, 1, 5, 4, 6, 2,\n",
       "       7, 3, 0, 1, 8, 9, 0, 1, 2, 8, 7, 9, 1, 2, 4, 1, 7, 2, 7, 8, 8, 7,\n",
       "       6, 0, 6, 1, 0, 3, 9, 8, 4, 4, 1, 0, 1, 9, 0, 6, 4, 0, 9, 5, 7, 0,\n",
       "       6, 8, 1, 2, 2, 7, 7, 8, 1, 9, 2, 5, 9, 7, 1, 6, 6, 8, 9, 1, 8, 5,\n",
       "       3, 8, 5, 8, 6, 7, 6, 7, 9, 2, 1, 3, 5, 0, 6, 2, 7, 4, 4, 6, 2, 1,\n",
       "       6, 9, 8, 1, 3, 2, 0, 9, 7, 3, 3, 0, 0, 6, 6, 3, 4, 0, 5, 6, 8, 8,\n",
       "       1, 1, 9, 4, 9, 3, 9, 3, 4, 8, 2, 2, 4, 3, 1, 6, 2, 7, 3, 2, 7, 2,\n",
       "       8, 3, 0, 4, 8, 1, 8, 1, 4, 8, 2, 4, 3, 4, 3, 6, 1, 9, 4, 8, 7, 9,\n",
       "       9, 4, 5, 0, 1, 5, 6, 2, 5, 8, 6, 4, 1, 5, 7, 1, 6, 1, 5, 6, 0, 5,\n",
       "       1, 5, 8, 5, 5, 7, 1, 5, 7, 9, 3, 3, 4, 0, 7, 5, 9, 8, 7, 3, 2, 0,\n",
       "       1, 2, 8, 2, 9, 7, 8, 7, 7, 7, 2, 3, 1, 1, 9, 6, 6, 6, 9, 9, 1, 8,\n",
       "       8, 6, 7, 4, 4, 8, 0, 4, 3, 3, 2, 8, 9, 5, 8, 5, 9, 9, 3, 5, 4, 1,\n",
       "       1, 8, 1, 4, 9, 0, 9, 0, 5, 6, 5, 8, 6, 8, 4, 9, 6, 7, 5, 0, 3, 2,\n",
       "       4, 4, 4, 1, 5, 5, 6, 8, 1, 4, 9, 6, 8, 1, 0, 2, 7, 8, 2, 0, 6, 0,\n",
       "       3, 5, 8, 6, 2, 5, 3, 0, 5, 0, 4, 4, 5, 0, 2, 8, 3, 3, 2, 0, 5, 2,\n",
       "       1, 0, 2, 9, 3, 9, 4, 7, 0, 6, 2, 0, 7, 9, 5, 4, 8, 0, 6, 4, 3, 5,\n",
       "       3, 3, 8, 1, 0, 9, 8, 3, 8, 0, 0, 4, 4, 0, 6, 1, 2, 3, 2, 3, 8, 5,\n",
       "       1, 4, 7, 9, 3, 5, 0, 6, 3, 1, 9, 5, 9, 3, 6, 0, 1, 9, 9, 3, 9, 1,\n",
       "       1, 4, 9, 0, 0, 3, 3, 3, 3, 9, 7, 8, 8, 3, 0, 3, 2, 9, 2, 6, 3, 6,\n",
       "       9, 0, 5, 7, 6, 1, 5, 6, 0, 0, 1, 6, 7, 5, 8, 4, 1, 1, 0, 6, 8, 9,\n",
       "       6, 9, 5, 3, 7, 6, 4, 9, 6, 1, 3, 8, 3, 5, 9, 3, 5, 0, 9, 6, 7, 5,\n",
       "       1, 0, 7, 1, 6, 8, 9, 1, 1, 7, 1, 2, 2, 8, 9, 3], dtype=int64)"
      ]
     },
     "execution_count": 1471,
     "metadata": {},
     "output_type": "execute_result"
    }
   ],
   "source": [
    "# Convert labels to actual digit value\n",
    "actual = np.argmax(y_test, axis = 1)\n",
    "print(actual.shape)\n",
    "actual"
   ]
  },
  {
   "cell_type": "code",
   "execution_count": 1472,
   "metadata": {},
   "outputs": [
    {
     "name": "stdout",
     "output_type": "stream",
     "text": [
      "Accuracy:\n",
      "0.9163\n",
      "Precision:\n",
      "[0.97959184 0.89655172 0.92105263 0.88235294 0.88372093 0.93617021\n",
      " 0.96153846 0.88571429 0.91071429 0.89795918]\n",
      "Recall:\n",
      "[0.97959184 0.89655172 0.92105263 0.9        0.95       0.97777778\n",
      " 0.94339623 0.81578947 0.92727273 0.84615385]\n"
     ]
    }
   ],
   "source": [
    "# Calculate accuracy, precision and recall using metrics package\n",
    "print(f\"Accuracy:\\n{round(metrics.accuracy_score(actual,predicted),4)}\")\n",
    "print(f\"Precision:\\n{metrics.precision_score(actual,predicted,average=None)}\")\n",
    "print(f\"Recall:\\n{metrics.recall_score(actual,predicted,average=None)}\")"
   ]
  },
  {
   "cell_type": "code",
   "execution_count": 1473,
   "metadata": {},
   "outputs": [
    {
     "data": {
      "image/png": "[encoded data removed]",
      "text/plain": [
       "<Figure size 360x360 with 2 Axes>"
      ]
     },
     "metadata": {
      "needs_background": "light"
     },
     "output_type": "display_data"
    }
   ],
   "source": [
    "# Heatmapped Confusion Matrix\n",
    "plt.rcParams['figure.figsize'] = (5,5)\n",
    "mat=confusion_matrix(actual,predicted)\n",
    "sns.heatmap(mat.T,square=True,annot=True, fmt='d')\n",
    "plt.xlabel('True Class')\n",
    "plt.ylabel('Predicted Class')\n",
    "plt.show()"
   ]
  },
  {
   "cell_type": "code",
   "execution_count": 1474,
   "metadata": {},
   "outputs": [
    {
     "data": {
      "image/png": "[encoded data removed]",
      "text/plain": [
       "<Figure size 576x360 with 1 Axes>"
      ]
     },
     "metadata": {
      "needs_background": "light"
     },
     "output_type": "display_data"
    }
   ],
   "source": [
    "plot_accgraph(evaluation,100)"
   ]
  },
  {
   "cell_type": "markdown",
   "metadata": {},
   "source": [
    "<h1> Effect of Hidden Units on Convergence </h1>"
   ]
  },
  {
   "cell_type": "code",
   "execution_count": 1475,
   "metadata": {},
   "outputs": [],
   "source": [
    "# Split into training and test sets\n",
    "\n",
    "X_train, X_test, y_train, y_test = train_test_split(X, y, test_size = 0.30, random_state = 10)"
   ]
  },
  {
   "cell_type": "markdown",
   "metadata": {},
   "source": [
    "<h2> 20 hidden units </h2>"
   ]
  },
  {
   "cell_type": "code",
   "execution_count": 1476,
   "metadata": {},
   "outputs": [
    {
     "name": "stdout",
     "output_type": "stream",
     "text": [
      "Train on 780 samples, validate on 335 samples\n",
      "Epoch 1/500\n",
      "780/780 [==============================] - 1s 830us/sample - loss: 2.2905 - accuracy: 0.0859 - val_loss: 2.2576 - val_accuracy: 0.0985\n",
      "Epoch 2/500\n",
      "780/780 [==============================] - 0s 161us/sample - loss: 2.2403 - accuracy: 0.0859 - val_loss: 2.2091 - val_accuracy: 0.0985\n",
      "Epoch 3/500\n",
      "780/780 [==============================] - 0s 172us/sample - loss: 2.1890 - accuracy: 0.1038 - val_loss: 2.1555 - val_accuracy: 0.1582\n",
      "Epoch 4/500\n",
      "780/780 [==============================] - 0s 167us/sample - loss: 2.1370 - accuracy: 0.2090 - val_loss: 2.1040 - val_accuracy: 0.2955\n",
      "Epoch 5/500\n",
      "780/780 [==============================] - ETA: 0s - loss: 2.0945 - accuracy: 0.33 - 0s 166us/sample - loss: 2.0844 - accuracy: 0.3603 - val_loss: 2.0520 - val_accuracy: 0.4418\n",
      "Epoch 6/500\n",
      "780/780 [==============================] - 0s 163us/sample - loss: 2.0277 - accuracy: 0.4962 - val_loss: 1.9929 - val_accuracy: 0.4896\n",
      "Epoch 7/500\n",
      "780/780 [==============================] - 0s 166us/sample - loss: 1.9669 - accuracy: 0.5705 - val_loss: 1.9337 - val_accuracy: 0.6627\n",
      "Epoch 8/500\n",
      "780/780 [==============================] - 0s 164us/sample - loss: 1.9036 - accuracy: 0.6718 - val_loss: 1.8713 - val_accuracy: 0.7373\n",
      "Epoch 9/500\n",
      "780/780 [==============================] - 0s 167us/sample - loss: 1.8373 - accuracy: 0.7462 - val_loss: 1.8060 - val_accuracy: 0.7731\n",
      "Epoch 10/500\n",
      "780/780 [==============================] - 0s 166us/sample - loss: 1.7702 - accuracy: 0.8026 - val_loss: 1.7379 - val_accuracy: 0.8179\n",
      "Epoch 11/500\n",
      "780/780 [==============================] - 0s 170us/sample - loss: 1.7011 - accuracy: 0.8269 - val_loss: 1.6749 - val_accuracy: 0.8328\n",
      "Epoch 12/500\n",
      "780/780 [==============================] - 0s 160us/sample - loss: 1.6319 - accuracy: 0.8449 - val_loss: 1.6088 - val_accuracy: 0.8478\n",
      "Epoch 13/500\n",
      "780/780 [==============================] - 0s 164us/sample - loss: 1.5632 - accuracy: 0.8641 - val_loss: 1.5415 - val_accuracy: 0.8478\n",
      "Epoch 14/500\n",
      "780/780 [==============================] - ETA: 0s - loss: 1.5145 - accuracy: 0.86 - 0s 167us/sample - loss: 1.4941 - accuracy: 0.8705 - val_loss: 1.4765 - val_accuracy: 0.8597\n",
      "Epoch 15/500\n",
      "780/780 [==============================] - 0s 167us/sample - loss: 1.4301 - accuracy: 0.8769 - val_loss: 1.4173 - val_accuracy: 0.8627\n",
      "Epoch 16/500\n",
      "780/780 [==============================] - 0s 166us/sample - loss: 1.3675 - accuracy: 0.8872 - val_loss: 1.3601 - val_accuracy: 0.8597\n",
      "Epoch 17/500\n",
      "780/780 [==============================] - 0s 167us/sample - loss: 1.3077 - accuracy: 0.8872 - val_loss: 1.3029 - val_accuracy: 0.8716\n",
      "Epoch 18/500\n",
      "780/780 [==============================] - 0s 166us/sample - loss: 1.2506 - accuracy: 0.8923 - val_loss: 1.2480 - val_accuracy: 0.8716\n",
      "Epoch 19/500\n",
      "780/780 [==============================] - 0s 165us/sample - loss: 1.1958 - accuracy: 0.9064 - val_loss: 1.1985 - val_accuracy: 0.8776\n",
      "Epoch 20/500\n",
      "780/780 [==============================] - 0s 165us/sample - loss: 1.1434 - accuracy: 0.9128 - val_loss: 1.1526 - val_accuracy: 0.8806\n",
      "Epoch 21/500\n",
      "780/780 [==============================] - 0s 166us/sample - loss: 1.0928 - accuracy: 0.9218 - val_loss: 1.1060 - val_accuracy: 0.8806\n",
      "Epoch 22/500\n",
      "780/780 [==============================] - 0s 168us/sample - loss: 1.0442 - accuracy: 0.9244 - val_loss: 1.0629 - val_accuracy: 0.8925\n",
      "Epoch 23/500\n",
      "780/780 [==============================] - 0s 161us/sample - loss: 0.9967 - accuracy: 0.9269 - val_loss: 1.0184 - val_accuracy: 0.9015\n",
      "Epoch 24/500\n",
      "780/780 [==============================] - 0s 174us/sample - loss: 0.9517 - accuracy: 0.9282 - val_loss: 0.9758 - val_accuracy: 0.8925\n",
      "Epoch 25/500\n",
      "780/780 [==============================] - 0s 170us/sample - loss: 0.9074 - accuracy: 0.9321 - val_loss: 0.9381 - val_accuracy: 0.8866\n",
      "Epoch 26/500\n",
      "780/780 [==============================] - 0s 167us/sample - loss: 0.8664 - accuracy: 0.9321 - val_loss: 0.8988 - val_accuracy: 0.8985\n",
      "Epoch 27/500\n",
      "780/780 [==============================] - 0s 173us/sample - loss: 0.8264 - accuracy: 0.9385 - val_loss: 0.8654 - val_accuracy: 0.8955\n",
      "Epoch 28/500\n",
      "780/780 [==============================] - 0s 173us/sample - loss: 0.7885 - accuracy: 0.9397 - val_loss: 0.8278 - val_accuracy: 0.9104\n",
      "Epoch 29/500\n",
      "780/780 [==============================] - 0s 167us/sample - loss: 0.7515 - accuracy: 0.9436 - val_loss: 0.7995 - val_accuracy: 0.8955\n",
      "Epoch 30/500\n",
      "780/780 [==============================] - 0s 176us/sample - loss: 0.7168 - accuracy: 0.9462 - val_loss: 0.7650 - val_accuracy: 0.9104\n",
      "Epoch 31/500\n",
      "780/780 [==============================] - 0s 169us/sample - loss: 0.6842 - accuracy: 0.9462 - val_loss: 0.7377 - val_accuracy: 0.9045\n",
      "Epoch 32/500\n",
      "780/780 [==============================] - 0s 164us/sample - loss: 0.6531 - accuracy: 0.9487 - val_loss: 0.7090 - val_accuracy: 0.9045\n",
      "Epoch 33/500\n",
      "780/780 [==============================] - 0s 166us/sample - loss: 0.6231 - accuracy: 0.9564 - val_loss: 0.6849 - val_accuracy: 0.9015\n",
      "Epoch 34/500\n",
      "780/780 [==============================] - 0s 174us/sample - loss: 0.5939 - accuracy: 0.9590 - val_loss: 0.6579 - val_accuracy: 0.9075\n",
      "Epoch 35/500\n",
      "780/780 [==============================] - 0s 167us/sample - loss: 0.5664 - accuracy: 0.9590 - val_loss: 0.6353 - val_accuracy: 0.9075\n",
      "Epoch 36/500\n",
      "780/780 [==============================] - 0s 167us/sample - loss: 0.5386 - accuracy: 0.9590 - val_loss: 0.6147 - val_accuracy: 0.9075\n",
      "Epoch 37/500\n",
      "780/780 [==============================] - 0s 172us/sample - loss: 0.5131 - accuracy: 0.9628 - val_loss: 0.5917 - val_accuracy: 0.9104\n",
      "Epoch 38/500\n",
      "780/780 [==============================] - 0s 168us/sample - loss: 0.4892 - accuracy: 0.9628 - val_loss: 0.5715 - val_accuracy: 0.9134\n",
      "Epoch 39/500\n",
      "780/780 [==============================] - 0s 163us/sample - loss: 0.4661 - accuracy: 0.9641 - val_loss: 0.5543 - val_accuracy: 0.9075\n",
      "Epoch 40/500\n",
      "780/780 [==============================] - 0s 173us/sample - loss: 0.4442 - accuracy: 0.9590 - val_loss: 0.5366 - val_accuracy: 0.9075\n",
      "Epoch 41/500\n",
      "780/780 [==============================] - 0s 168us/sample - loss: 0.4239 - accuracy: 0.9679 - val_loss: 0.5157 - val_accuracy: 0.9254\n",
      "Epoch 42/500\n",
      "780/780 [==============================] - 0s 163us/sample - loss: 0.4043 - accuracy: 0.9667 - val_loss: 0.5012 - val_accuracy: 0.9194\n",
      "Epoch 43/500\n",
      "780/780 [==============================] - 0s 166us/sample - loss: 0.3854 - accuracy: 0.9692 - val_loss: 0.4876 - val_accuracy: 0.9194\n",
      "Epoch 44/500\n",
      "780/780 [==============================] - 0s 164us/sample - loss: 0.3669 - accuracy: 0.9731 - val_loss: 0.4736 - val_accuracy: 0.9224\n",
      "Epoch 45/500\n",
      "780/780 [==============================] - 0s 164us/sample - loss: 0.3503 - accuracy: 0.9718 - val_loss: 0.4584 - val_accuracy: 0.9194\n",
      "Epoch 46/500\n",
      "780/780 [==============================] - ETA: 0s - loss: 0.3779 - accuracy: 0.93 - ETA: 0s - loss: 0.3477 - accuracy: 0.96 - 0s 170us/sample - loss: 0.3340 - accuracy: 0.9731 - val_loss: 0.4465 - val_accuracy: 0.9224\n",
      "Epoch 47/500\n",
      "780/780 [==============================] - 0s 169us/sample - loss: 0.3185 - accuracy: 0.9782 - val_loss: 0.4346 - val_accuracy: 0.9224\n",
      "Epoch 48/500\n",
      "780/780 [==============================] - 0s 164us/sample - loss: 0.3044 - accuracy: 0.9756 - val_loss: 0.4242 - val_accuracy: 0.9284\n",
      "Epoch 49/500\n",
      "780/780 [==============================] - 0s 169us/sample - loss: 0.2896 - accuracy: 0.9821 - val_loss: 0.4107 - val_accuracy: 0.9284\n",
      "Epoch 50/500\n",
      "780/780 [==============================] - 0s 165us/sample - loss: 0.2770 - accuracy: 0.9821 - val_loss: 0.4029 - val_accuracy: 0.9224\n",
      "Epoch 51/500\n",
      "780/780 [==============================] - 0s 148us/sample - loss: 0.2637 - accuracy: 0.9833 - val_loss: 0.3920 - val_accuracy: 0.9284\n",
      "Epoch 52/500\n",
      "780/780 [==============================] - 0s 161us/sample - loss: 0.2524 - accuracy: 0.9833 - val_loss: 0.3842 - val_accuracy: 0.9254\n",
      "Epoch 53/500\n",
      "780/780 [==============================] - 0s 165us/sample - loss: 0.2408 - accuracy: 0.9872 - val_loss: 0.3743 - val_accuracy: 0.9284\n",
      "Epoch 54/500\n",
      "780/780 [==============================] - 0s 173us/sample - loss: 0.2292 - accuracy: 0.9897 - val_loss: 0.3689 - val_accuracy: 0.9224\n"
     ]
    },
    {
     "name": "stdout",
     "output_type": "stream",
     "text": [
      "Epoch 55/500\n",
      "780/780 [==============================] - 0s 164us/sample - loss: 0.2194 - accuracy: 0.9897 - val_loss: 0.3609 - val_accuracy: 0.9194\n",
      "Epoch 56/500\n",
      "780/780 [==============================] - 0s 161us/sample - loss: 0.2093 - accuracy: 0.9872 - val_loss: 0.3516 - val_accuracy: 0.9254\n",
      "Epoch 57/500\n",
      "780/780 [==============================] - 0s 165us/sample - loss: 0.2001 - accuracy: 0.9910 - val_loss: 0.3491 - val_accuracy: 0.9224\n",
      "Epoch 58/500\n",
      "780/780 [==============================] - 0s 164us/sample - loss: 0.1912 - accuracy: 0.9923 - val_loss: 0.3430 - val_accuracy: 0.9224\n",
      "Epoch 59/500\n",
      "780/780 [==============================] - 0s 162us/sample - loss: 0.1831 - accuracy: 0.9923 - val_loss: 0.3374 - val_accuracy: 0.9224\n",
      "Epoch 60/500\n",
      "780/780 [==============================] - 0s 163us/sample - loss: 0.1751 - accuracy: 0.9936 - val_loss: 0.3282 - val_accuracy: 0.9194\n",
      "Epoch 61/500\n",
      "780/780 [==============================] - 0s 165us/sample - loss: 0.1674 - accuracy: 0.9923 - val_loss: 0.3239 - val_accuracy: 0.9224\n",
      "Epoch 62/500\n",
      "780/780 [==============================] - 0s 165us/sample - loss: 0.1599 - accuracy: 0.9923 - val_loss: 0.3179 - val_accuracy: 0.9284\n",
      "Epoch 63/500\n",
      "780/780 [==============================] - 0s 170us/sample - loss: 0.1528 - accuracy: 0.9936 - val_loss: 0.3126 - val_accuracy: 0.9254\n",
      "Epoch 64/500\n",
      "780/780 [==============================] - 0s 170us/sample - loss: 0.1462 - accuracy: 0.9936 - val_loss: 0.3104 - val_accuracy: 0.9194\n",
      "Epoch 65/500\n",
      "780/780 [==============================] - 0s 161us/sample - loss: 0.1397 - accuracy: 0.9936 - val_loss: 0.3061 - val_accuracy: 0.9224\n",
      "Epoch 66/500\n",
      "780/780 [==============================] - 0s 162us/sample - loss: 0.1338 - accuracy: 0.9936 - val_loss: 0.3008 - val_accuracy: 0.9224\n",
      "Epoch 67/500\n",
      "780/780 [==============================] - 0s 164us/sample - loss: 0.1276 - accuracy: 0.9936 - val_loss: 0.3000 - val_accuracy: 0.9254\n",
      "Epoch 68/500\n",
      "780/780 [==============================] - 0s 162us/sample - loss: 0.1222 - accuracy: 0.9936 - val_loss: 0.2935 - val_accuracy: 0.9224\n",
      "Epoch 69/500\n",
      "780/780 [==============================] - 0s 163us/sample - loss: 0.1173 - accuracy: 0.9949 - val_loss: 0.2963 - val_accuracy: 0.9224\n",
      "Epoch 70/500\n",
      "780/780 [==============================] - 0s 163us/sample - loss: 0.1122 - accuracy: 0.9949 - val_loss: 0.2895 - val_accuracy: 0.9224\n",
      "Epoch 71/500\n",
      "780/780 [==============================] - 0s 160us/sample - loss: 0.1072 - accuracy: 0.9936 - val_loss: 0.2833 - val_accuracy: 0.9224\n",
      "Epoch 72/500\n",
      "780/780 [==============================] - 0s 170us/sample - loss: 0.1024 - accuracy: 0.9949 - val_loss: 0.2849 - val_accuracy: 0.9224\n",
      "Epoch 73/500\n",
      "780/780 [==============================] - 0s 174us/sample - loss: 0.0986 - accuracy: 0.9936 - val_loss: 0.2832 - val_accuracy: 0.9254\n",
      "Epoch 74/500\n",
      "780/780 [==============================] - 0s 163us/sample - loss: 0.0937 - accuracy: 0.9949 - val_loss: 0.2808 - val_accuracy: 0.9254\n",
      "Epoch 75/500\n",
      "780/780 [==============================] - 0s 164us/sample - loss: 0.0900 - accuracy: 0.9949 - val_loss: 0.2782 - val_accuracy: 0.9254\n",
      "Epoch 76/500\n",
      "780/780 [==============================] - 0s 171us/sample - loss: 0.0857 - accuracy: 0.9962 - val_loss: 0.2710 - val_accuracy: 0.9284\n",
      "Epoch 77/500\n",
      "780/780 [==============================] - 0s 168us/sample - loss: 0.0820 - accuracy: 0.9949 - val_loss: 0.2747 - val_accuracy: 0.9313\n",
      "Epoch 78/500\n",
      "780/780 [==============================] - 0s 164us/sample - loss: 0.0789 - accuracy: 0.9962 - val_loss: 0.2716 - val_accuracy: 0.9313\n",
      "Epoch 79/500\n",
      "780/780 [==============================] - 0s 167us/sample - loss: 0.0752 - accuracy: 0.9962 - val_loss: 0.2681 - val_accuracy: 0.9284\n",
      "Epoch 80/500\n",
      "780/780 [==============================] - 0s 170us/sample - loss: 0.0720 - accuracy: 0.9962 - val_loss: 0.2683 - val_accuracy: 0.9284\n",
      "Epoch 81/500\n",
      "780/780 [==============================] - 0s 168us/sample - loss: 0.0688 - accuracy: 0.9962 - val_loss: 0.2679 - val_accuracy: 0.9224\n",
      "Epoch 82/500\n",
      "780/780 [==============================] - 0s 164us/sample - loss: 0.0658 - accuracy: 0.9962 - val_loss: 0.2654 - val_accuracy: 0.9284\n",
      "Epoch 83/500\n",
      "780/780 [==============================] - 0s 171us/sample - loss: 0.0627 - accuracy: 0.9974 - val_loss: 0.2634 - val_accuracy: 0.9284\n",
      "Epoch 84/500\n",
      "780/780 [==============================] - 0s 175us/sample - loss: 0.0600 - accuracy: 0.9974 - val_loss: 0.2634 - val_accuracy: 0.9254\n",
      "Epoch 85/500\n",
      "780/780 [==============================] - 0s 164us/sample - loss: 0.0574 - accuracy: 0.9974 - val_loss: 0.2616 - val_accuracy: 0.9254\n",
      "Epoch 86/500\n",
      "780/780 [==============================] - 0s 166us/sample - loss: 0.0549 - accuracy: 0.9974 - val_loss: 0.2581 - val_accuracy: 0.9284\n",
      "Epoch 87/500\n",
      "780/780 [==============================] - 0s 171us/sample - loss: 0.0525 - accuracy: 0.9974 - val_loss: 0.2589 - val_accuracy: 0.9284\n",
      "Epoch 88/500\n",
      "780/780 [==============================] - 0s 169us/sample - loss: 0.0501 - accuracy: 0.9974 - val_loss: 0.2592 - val_accuracy: 0.9284\n",
      "Epoch 89/500\n",
      "780/780 [==============================] - 0s 161us/sample - loss: 0.0480 - accuracy: 0.9974 - val_loss: 0.2564 - val_accuracy: 0.9254\n",
      "Epoch 90/500\n",
      "780/780 [==============================] - 0s 170us/sample - loss: 0.0460 - accuracy: 0.9974 - val_loss: 0.2580 - val_accuracy: 0.9224\n",
      "Epoch 91/500\n",
      "780/780 [==============================] - 0s 167us/sample - loss: 0.0439 - accuracy: 0.9987 - val_loss: 0.2579 - val_accuracy: 0.9284\n",
      "Epoch 92/500\n",
      "780/780 [==============================] - 0s 165us/sample - loss: 0.0420 - accuracy: 1.0000 - val_loss: 0.2530 - val_accuracy: 0.9313\n",
      "Epoch 93/500\n",
      "780/780 [==============================] - 0s 163us/sample - loss: 0.0403 - accuracy: 1.0000 - val_loss: 0.2511 - val_accuracy: 0.9313\n",
      "Epoch 94/500\n",
      "780/780 [==============================] - ETA: 0s - loss: 0.0299 - accuracy: 1.00 - ETA: 0s - loss: 0.0397 - accuracy: 1.00 - 0s 163us/sample - loss: 0.0382 - accuracy: 1.0000 - val_loss: 0.2544 - val_accuracy: 0.9254\n",
      "Epoch 95/500\n",
      "780/780 [==============================] - ETA: 0s - loss: 0.0345 - accuracy: 1.00 - 0s 163us/sample - loss: 0.0366 - accuracy: 1.0000 - val_loss: 0.2509 - val_accuracy: 0.9254\n",
      "Epoch 96/500\n",
      "780/780 [==============================] - 0s 162us/sample - loss: 0.0349 - accuracy: 1.0000 - val_loss: 0.2516 - val_accuracy: 0.9284\n",
      "Epoch 97/500\n",
      "780/780 [==============================] - 0s 164us/sample - loss: 0.0333 - accuracy: 1.0000 - val_loss: 0.2555 - val_accuracy: 0.9313\n",
      "Epoch 98/500\n",
      "780/780 [==============================] - 0s 162us/sample - loss: 0.0318 - accuracy: 1.0000 - val_loss: 0.2536 - val_accuracy: 0.9284\n",
      "Epoch 00098: early stopping\n"
     ]
    }
   ],
   "source": [
    "# Clear previous session\n",
    "keras.backend.clear_session()\n",
    "\n",
    "# Initiate neural net\n",
    "# Hidden layer contains x number of neurons and both hidden and output layer \n",
    "# utilize sigmoid activation function with bias unit of 1\n",
    "\n",
    "model20conv = keras.Sequential([\n",
    "    keras.layers.Dense(20, activation='sigmoid', input_shape = (X_train.shape[1],), use_bias=True, bias_initializer='ones'),\n",
    "    keras.layers.Dense(10, activation='sigmoid', use_bias=True, bias_initializer='ones'),\n",
    "])\n",
    "\n",
    "from tensorflow.python.keras import optimizers\n",
    "\n",
    "# Specify learning rate of 0.1\n",
    "\n",
    "sgd = optimizers.SGD(lr=0.1, momentum=0.0, nesterov=False)\n",
    "\n",
    "# Compile step required before training, set loss function with accuracy metrics\n",
    "model20conv.compile(loss='categorical_crossentropy', metrics=['accuracy'])\n",
    "\n",
    "# Stop iterating when model converges \n",
    "es = EarlyStopping(monitor='val_loss', mode='min', verbose=1, patience=3)\n",
    "\n",
    "# Train model using 20 hidden units and stop at convergence\n",
    "\n",
    "evaluation = model20conv.fit(X_train, y_train, validation_split=0.3, epochs=500, callbacks=[es])"
   ]
  },
  {
   "cell_type": "markdown",
   "metadata": {},
   "source": [
    "<h2> 50 hidden units </h2>"
   ]
  },
  {
   "cell_type": "code",
   "execution_count": 1477,
   "metadata": {},
   "outputs": [
    {
     "name": "stdout",
     "output_type": "stream",
     "text": [
      "Train on 780 samples, validate on 335 samples\n",
      "Epoch 1/500\n",
      "780/780 [==============================] - ETA: 0s - loss: 2.2892 - accuracy: 0.07 - 1s 709us/sample - loss: 2.2622 - accuracy: 0.0897 - val_loss: 2.1748 - val_accuracy: 0.1254\n",
      "Epoch 2/500\n",
      "780/780 [==============================] - 0s 162us/sample - loss: 2.1229 - accuracy: 0.1295 - val_loss: 2.0225 - val_accuracy: 0.4149\n",
      "Epoch 3/500\n",
      "780/780 [==============================] - 0s 162us/sample - loss: 1.9541 - accuracy: 0.5949 - val_loss: 1.8459 - val_accuracy: 0.7284\n",
      "Epoch 4/500\n",
      "780/780 [==============================] - ETA: 0s - loss: 1.8108 - accuracy: 0.72 - 0s 169us/sample - loss: 1.7769 - accuracy: 0.7449 - val_loss: 1.6761 - val_accuracy: 0.8090\n",
      "Epoch 5/500\n",
      "780/780 [==============================] - 0s 168us/sample - loss: 1.6116 - accuracy: 0.8051 - val_loss: 1.5166 - val_accuracy: 0.8507\n",
      "Epoch 6/500\n",
      "780/780 [==============================] - 0s 170us/sample - loss: 1.4531 - accuracy: 0.8385 - val_loss: 1.3733 - val_accuracy: 0.8448\n",
      "Epoch 7/500\n",
      "780/780 [==============================] - 0s 172us/sample - loss: 1.3107 - accuracy: 0.8551 - val_loss: 1.2421 - val_accuracy: 0.8627\n",
      "Epoch 8/500\n",
      "780/780 [==============================] - 0s 167us/sample - loss: 1.1832 - accuracy: 0.8769 - val_loss: 1.1160 - val_accuracy: 0.8687\n",
      "Epoch 9/500\n",
      "780/780 [==============================] - 0s 167us/sample - loss: 1.0713 - accuracy: 0.8718 - val_loss: 1.0231 - val_accuracy: 0.8746\n",
      "Epoch 10/500\n",
      "780/780 [==============================] - 0s 169us/sample - loss: 0.9720 - accuracy: 0.8974 - val_loss: 0.9358 - val_accuracy: 0.8866\n",
      "Epoch 11/500\n",
      "780/780 [==============================] - 0s 171us/sample - loss: 0.8837 - accuracy: 0.9000 - val_loss: 0.8545 - val_accuracy: 0.8806\n",
      "Epoch 12/500\n",
      "780/780 [==============================] - ETA: 0s - loss: 0.8399 - accuracy: 0.88 - 0s 168us/sample - loss: 0.8035 - accuracy: 0.9064 - val_loss: 0.7831 - val_accuracy: 0.9075\n",
      "Epoch 13/500\n",
      "780/780 [==============================] - 0s 165us/sample - loss: 0.7314 - accuracy: 0.9179 - val_loss: 0.7217 - val_accuracy: 0.8925\n",
      "Epoch 14/500\n",
      "780/780 [==============================] - ETA: 0s - loss: 0.6827 - accuracy: 0.92 - 0s 165us/sample - loss: 0.6654 - accuracy: 0.9218 - val_loss: 0.6669 - val_accuracy: 0.8985\n",
      "Epoch 15/500\n",
      "780/780 [==============================] - 0s 166us/sample - loss: 0.6064 - accuracy: 0.9308 - val_loss: 0.6163 - val_accuracy: 0.9015\n",
      "Epoch 16/500\n",
      "780/780 [==============================] - 0s 167us/sample - loss: 0.5535 - accuracy: 0.9333 - val_loss: 0.5623 - val_accuracy: 0.9224\n",
      "Epoch 17/500\n",
      "780/780 [==============================] - 0s 165us/sample - loss: 0.5046 - accuracy: 0.9385 - val_loss: 0.5209 - val_accuracy: 0.9284\n",
      "Epoch 18/500\n",
      "780/780 [==============================] - 0s 163us/sample - loss: 0.4619 - accuracy: 0.9449 - val_loss: 0.4937 - val_accuracy: 0.9254\n",
      "Epoch 19/500\n",
      "780/780 [==============================] - 0s 172us/sample - loss: 0.4232 - accuracy: 0.9538 - val_loss: 0.4570 - val_accuracy: 0.9254\n",
      "Epoch 20/500\n",
      "780/780 [==============================] - 0s 162us/sample - loss: 0.3874 - accuracy: 0.9577 - val_loss: 0.4297 - val_accuracy: 0.9254\n",
      "Epoch 21/500\n",
      "780/780 [==============================] - 0s 166us/sample - loss: 0.3566 - accuracy: 0.9628 - val_loss: 0.4079 - val_accuracy: 0.9254\n",
      "Epoch 22/500\n",
      "780/780 [==============================] - 0s 166us/sample - loss: 0.3262 - accuracy: 0.9705 - val_loss: 0.3935 - val_accuracy: 0.9313\n",
      "Epoch 23/500\n",
      "780/780 [==============================] - 0s 169us/sample - loss: 0.3001 - accuracy: 0.9731 - val_loss: 0.3674 - val_accuracy: 0.9224\n",
      "Epoch 24/500\n",
      "780/780 [==============================] - 0s 165us/sample - loss: 0.2783 - accuracy: 0.9731 - val_loss: 0.3462 - val_accuracy: 0.9313\n",
      "Epoch 25/500\n",
      "780/780 [==============================] - 0s 163us/sample - loss: 0.2557 - accuracy: 0.9756 - val_loss: 0.3403 - val_accuracy: 0.9254\n",
      "Epoch 26/500\n",
      "780/780 [==============================] - 0s 165us/sample - loss: 0.2359 - accuracy: 0.9795 - val_loss: 0.3178 - val_accuracy: 0.9284\n",
      "Epoch 27/500\n",
      "780/780 [==============================] - 0s 167us/sample - loss: 0.2175 - accuracy: 0.9795 - val_loss: 0.3043 - val_accuracy: 0.9343\n",
      "Epoch 28/500\n",
      "780/780 [==============================] - ETA: 0s - loss: 0.1985 - accuracy: 0.99 - 0s 166us/sample - loss: 0.2009 - accuracy: 0.9859 - val_loss: 0.2967 - val_accuracy: 0.9284\n",
      "Epoch 29/500\n",
      "780/780 [==============================] - 0s 166us/sample - loss: 0.1846 - accuracy: 0.9897 - val_loss: 0.2862 - val_accuracy: 0.9343\n",
      "Epoch 30/500\n",
      "780/780 [==============================] - 0s 173us/sample - loss: 0.1707 - accuracy: 0.9923 - val_loss: 0.2760 - val_accuracy: 0.9343\n",
      "Epoch 31/500\n",
      "780/780 [==============================] - 0s 171us/sample - loss: 0.1562 - accuracy: 0.9923 - val_loss: 0.2742 - val_accuracy: 0.9313\n",
      "Epoch 32/500\n",
      "780/780 [==============================] - 0s 166us/sample - loss: 0.1450 - accuracy: 0.9923 - val_loss: 0.2559 - val_accuracy: 0.9343\n",
      "Epoch 33/500\n",
      "780/780 [==============================] - 0s 167us/sample - loss: 0.1340 - accuracy: 0.9936 - val_loss: 0.2547 - val_accuracy: 0.9313\n",
      "Epoch 34/500\n",
      "780/780 [==============================] - 0s 177us/sample - loss: 0.1227 - accuracy: 0.9962 - val_loss: 0.2541 - val_accuracy: 0.9284\n",
      "Epoch 35/500\n",
      "780/780 [==============================] - 0s 175us/sample - loss: 0.1141 - accuracy: 0.9949 - val_loss: 0.2396 - val_accuracy: 0.9343\n",
      "Epoch 36/500\n",
      "780/780 [==============================] - 0s 169us/sample - loss: 0.1050 - accuracy: 0.9962 - val_loss: 0.2334 - val_accuracy: 0.9403\n",
      "Epoch 37/500\n",
      "780/780 [==============================] - 0s 167us/sample - loss: 0.0968 - accuracy: 0.9962 - val_loss: 0.2346 - val_accuracy: 0.9343\n",
      "Epoch 38/500\n",
      "780/780 [==============================] - 0s 164us/sample - loss: 0.0887 - accuracy: 0.9962 - val_loss: 0.2251 - val_accuracy: 0.9373\n",
      "Epoch 39/500\n",
      "780/780 [==============================] - 0s 164us/sample - loss: 0.0825 - accuracy: 0.9962 - val_loss: 0.2288 - val_accuracy: 0.9313\n",
      "Epoch 40/500\n",
      "780/780 [==============================] - 0s 169us/sample - loss: 0.0753 - accuracy: 0.9962 - val_loss: 0.2134 - val_accuracy: 0.9373\n",
      "Epoch 41/500\n",
      "780/780 [==============================] - 0s 176us/sample - loss: 0.0699 - accuracy: 0.9974 - val_loss: 0.2166 - val_accuracy: 0.9373\n",
      "Epoch 42/500\n",
      "780/780 [==============================] - 0s 169us/sample - loss: 0.0639 - accuracy: 0.9974 - val_loss: 0.2132 - val_accuracy: 0.9343\n",
      "Epoch 43/500\n",
      "780/780 [==============================] - 0s 167us/sample - loss: 0.0589 - accuracy: 0.9987 - val_loss: 0.2075 - val_accuracy: 0.9343\n",
      "Epoch 44/500\n",
      "780/780 [==============================] - 0s 164us/sample - loss: 0.0537 - accuracy: 1.0000 - val_loss: 0.2179 - val_accuracy: 0.9343\n",
      "Epoch 45/500\n",
      "780/780 [==============================] - 0s 165us/sample - loss: 0.0495 - accuracy: 0.9987 - val_loss: 0.2101 - val_accuracy: 0.9313\n",
      "Epoch 46/500\n",
      "780/780 [==============================] - 0s 178us/sample - loss: 0.0455 - accuracy: 1.0000 - val_loss: 0.2062 - val_accuracy: 0.9343\n",
      "Epoch 47/500\n",
      "780/780 [==============================] - 0s 168us/sample - loss: 0.0416 - accuracy: 1.0000 - val_loss: 0.2112 - val_accuracy: 0.9284\n",
      "Epoch 48/500\n",
      "780/780 [==============================] - 0s 166us/sample - loss: 0.0383 - accuracy: 1.0000 - val_loss: 0.2049 - val_accuracy: 0.9313\n",
      "Epoch 49/500\n",
      "780/780 [==============================] - 0s 178us/sample - loss: 0.0349 - accuracy: 1.0000 - val_loss: 0.2010 - val_accuracy: 0.9343\n",
      "Epoch 50/500\n",
      "780/780 [==============================] - 0s 165us/sample - loss: 0.0320 - accuracy: 1.0000 - val_loss: 0.2044 - val_accuracy: 0.9403\n",
      "Epoch 51/500\n",
      "780/780 [==============================] - 0s 166us/sample - loss: 0.0291 - accuracy: 1.0000 - val_loss: 0.1989 - val_accuracy: 0.9313\n",
      "Epoch 52/500\n",
      "780/780 [==============================] - 0s 175us/sample - loss: 0.0267 - accuracy: 1.0000 - val_loss: 0.2072 - val_accuracy: 0.9343\n",
      "Epoch 53/500\n",
      "780/780 [==============================] - 0s 167us/sample - loss: 0.0245 - accuracy: 1.0000 - val_loss: 0.1972 - val_accuracy: 0.9284\n",
      "Epoch 54/500\n",
      "780/780 [==============================] - 0s 167us/sample - loss: 0.0223 - accuracy: 1.0000 - val_loss: 0.1995 - val_accuracy: 0.9373\n"
     ]
    },
    {
     "name": "stdout",
     "output_type": "stream",
     "text": [
      "Epoch 55/500\n",
      "780/780 [==============================] - 0s 175us/sample - loss: 0.0203 - accuracy: 1.0000 - val_loss: 0.1999 - val_accuracy: 0.9313\n",
      "Epoch 56/500\n",
      "780/780 [==============================] - 0s 166us/sample - loss: 0.0186 - accuracy: 1.0000 - val_loss: 0.1955 - val_accuracy: 0.9373\n",
      "Epoch 57/500\n",
      "780/780 [==============================] - 0s 168us/sample - loss: 0.0167 - accuracy: 1.0000 - val_loss: 0.1969 - val_accuracy: 0.9373\n",
      "Epoch 58/500\n",
      "780/780 [==============================] - 0s 175us/sample - loss: 0.0154 - accuracy: 1.0000 - val_loss: 0.1927 - val_accuracy: 0.9373\n",
      "Epoch 59/500\n",
      "780/780 [==============================] - 0s 165us/sample - loss: 0.0139 - accuracy: 1.0000 - val_loss: 0.1973 - val_accuracy: 0.9373\n",
      "Epoch 60/500\n",
      "780/780 [==============================] - 0s 164us/sample - loss: 0.0126 - accuracy: 1.0000 - val_loss: 0.1904 - val_accuracy: 0.9373\n",
      "Epoch 61/500\n",
      "780/780 [==============================] - 0s 175us/sample - loss: 0.0115 - accuracy: 1.0000 - val_loss: 0.1954 - val_accuracy: 0.9373\n",
      "Epoch 62/500\n",
      "780/780 [==============================] - 0s 169us/sample - loss: 0.0105 - accuracy: 1.0000 - val_loss: 0.1927 - val_accuracy: 0.9373\n",
      "Epoch 63/500\n",
      "780/780 [==============================] - 0s 163us/sample - loss: 0.0094 - accuracy: 1.0000 - val_loss: 0.2018 - val_accuracy: 0.9313\n",
      "Epoch 00063: early stopping\n"
     ]
    }
   ],
   "source": [
    "# Clear previous session\n",
    "keras.backend.clear_session()\n",
    "\n",
    "# Initiate neural net\n",
    "# Hidden layer contains x number of neurons and both hidden and output layer \n",
    "# utilize sigmoid activation function with bias unit of 1\n",
    "\n",
    "model50conv = keras.Sequential([\n",
    "    keras.layers.Dense(50, activation='sigmoid', input_shape = (X_train.shape[1],), use_bias=True, bias_initializer='ones'),\n",
    "    keras.layers.Dense(10, activation='sigmoid', use_bias=True, bias_initializer='ones'),\n",
    "])\n",
    "\n",
    "from tensorflow.python.keras import optimizers\n",
    "\n",
    "# Specify learning rate of 0.1\n",
    "\n",
    "sgd = optimizers.SGD(lr=0.1, momentum=0.0, nesterov=False)\n",
    "\n",
    "# Compile step required before training, set loss function with accuracy metrics\n",
    "model50conv.compile(loss='categorical_crossentropy', metrics=['accuracy'])\n",
    "\n",
    "# Stop iterating when model converges \n",
    "es = EarlyStopping(monitor='val_loss', mode='min', verbose=1, patience=3)\n",
    "\n",
    "# Train model using 50 hidden units and stop at convergence\n",
    "\n",
    "evaluation = model50conv.fit(X_train, y_train, validation_split=0.3, epochs=500, callbacks=[es])"
   ]
  },
  {
   "cell_type": "markdown",
   "metadata": {},
   "source": [
    "<h2> 100 hidden units </h2>"
   ]
  },
  {
   "cell_type": "code",
   "execution_count": 1478,
   "metadata": {},
   "outputs": [
    {
     "name": "stdout",
     "output_type": "stream",
     "text": [
      "Train on 780 samples, validate on 335 samples\n",
      "Epoch 1/500\n",
      "780/780 [==============================] - 1s 713us/sample - loss: 2.2385 - accuracy: 0.1577 - val_loss: 2.1152 - val_accuracy: 0.1851\n",
      "Epoch 2/500\n",
      "780/780 [==============================] - 0s 168us/sample - loss: 1.9591 - accuracy: 0.4756 - val_loss: 1.7465 - val_accuracy: 0.7910\n",
      "Epoch 3/500\n",
      "780/780 [==============================] - 0s 173us/sample - loss: 1.6166 - accuracy: 0.7872 - val_loss: 1.4385 - val_accuracy: 0.8537\n",
      "Epoch 4/500\n",
      "780/780 [==============================] - 0s 178us/sample - loss: 1.3482 - accuracy: 0.8269 - val_loss: 1.2216 - val_accuracy: 0.8239\n",
      "Epoch 5/500\n",
      "780/780 [==============================] - 0s 167us/sample - loss: 1.1321 - accuracy: 0.8462 - val_loss: 1.0265 - val_accuracy: 0.8687\n",
      "Epoch 6/500\n",
      "780/780 [==============================] - 0s 174us/sample - loss: 0.9584 - accuracy: 0.8667 - val_loss: 0.8858 - val_accuracy: 0.8746\n",
      "Epoch 7/500\n",
      "780/780 [==============================] - 0s 165us/sample - loss: 0.8212 - accuracy: 0.8808 - val_loss: 0.7658 - val_accuracy: 0.8716\n",
      "Epoch 8/500\n",
      "780/780 [==============================] - 0s 167us/sample - loss: 0.7080 - accuracy: 0.8949 - val_loss: 0.6733 - val_accuracy: 0.8955\n",
      "Epoch 9/500\n",
      "780/780 [==============================] - ETA: 0s - loss: 0.6435 - accuracy: 0.90 - 0s 167us/sample - loss: 0.6173 - accuracy: 0.9154 - val_loss: 0.5958 - val_accuracy: 0.9104\n",
      "Epoch 10/500\n",
      "780/780 [==============================] - 0s 177us/sample - loss: 0.5388 - accuracy: 0.9205 - val_loss: 0.5443 - val_accuracy: 0.9104\n",
      "Epoch 11/500\n",
      "780/780 [==============================] - 0s 170us/sample - loss: 0.4766 - accuracy: 0.9295 - val_loss: 0.5014 - val_accuracy: 0.8985\n",
      "Epoch 12/500\n",
      "780/780 [==============================] - 0s 172us/sample - loss: 0.4217 - accuracy: 0.9372 - val_loss: 0.4402 - val_accuracy: 0.9313\n",
      "Epoch 13/500\n",
      "780/780 [==============================] - 0s 180us/sample - loss: 0.3748 - accuracy: 0.9436 - val_loss: 0.4124 - val_accuracy: 0.9313\n",
      "Epoch 14/500\n",
      "780/780 [==============================] - 0s 170us/sample - loss: 0.3334 - accuracy: 0.9564 - val_loss: 0.3752 - val_accuracy: 0.9224\n",
      "Epoch 15/500\n",
      "780/780 [==============================] - 0s 167us/sample - loss: 0.2956 - accuracy: 0.9667 - val_loss: 0.3524 - val_accuracy: 0.9373\n",
      "Epoch 16/500\n",
      "780/780 [==============================] - 0s 175us/sample - loss: 0.2664 - accuracy: 0.9692 - val_loss: 0.3335 - val_accuracy: 0.9254\n",
      "Epoch 17/500\n",
      "780/780 [==============================] - 0s 168us/sample - loss: 0.2379 - accuracy: 0.9795 - val_loss: 0.3157 - val_accuracy: 0.9313\n",
      "Epoch 18/500\n",
      "780/780 [==============================] - 0s 168us/sample - loss: 0.2159 - accuracy: 0.9808 - val_loss: 0.2931 - val_accuracy: 0.9403\n",
      "Epoch 19/500\n",
      "780/780 [==============================] - 0s 177us/sample - loss: 0.1920 - accuracy: 0.9821 - val_loss: 0.2869 - val_accuracy: 0.9433\n",
      "Epoch 20/500\n",
      "780/780 [==============================] - 0s 170us/sample - loss: 0.1743 - accuracy: 0.9821 - val_loss: 0.2710 - val_accuracy: 0.9373\n",
      "Epoch 21/500\n",
      "780/780 [==============================] - 0s 166us/sample - loss: 0.1584 - accuracy: 0.9872 - val_loss: 0.2574 - val_accuracy: 0.9463\n",
      "Epoch 22/500\n",
      "780/780 [==============================] - 0s 175us/sample - loss: 0.1407 - accuracy: 0.9910 - val_loss: 0.2588 - val_accuracy: 0.9313\n",
      "Epoch 23/500\n",
      "780/780 [==============================] - 0s 168us/sample - loss: 0.1274 - accuracy: 0.9897 - val_loss: 0.2537 - val_accuracy: 0.9313\n",
      "Epoch 24/500\n",
      "780/780 [==============================] - 0s 168us/sample - loss: 0.1144 - accuracy: 0.9936 - val_loss: 0.2330 - val_accuracy: 0.9403\n",
      "Epoch 25/500\n",
      "780/780 [==============================] - 0s 171us/sample - loss: 0.1035 - accuracy: 0.9949 - val_loss: 0.2284 - val_accuracy: 0.9403\n",
      "Epoch 26/500\n",
      "780/780 [==============================] - 0s 168us/sample - loss: 0.0918 - accuracy: 0.9962 - val_loss: 0.2306 - val_accuracy: 0.9373\n",
      "Epoch 27/500\n",
      "780/780 [==============================] - 0s 164us/sample - loss: 0.0836 - accuracy: 0.9962 - val_loss: 0.2213 - val_accuracy: 0.9403\n",
      "Epoch 28/500\n",
      "780/780 [==============================] - 0s 168us/sample - loss: 0.0750 - accuracy: 0.9974 - val_loss: 0.2187 - val_accuracy: 0.9403\n",
      "Epoch 29/500\n",
      "780/780 [==============================] - 0s 178us/sample - loss: 0.0675 - accuracy: 0.9974 - val_loss: 0.2237 - val_accuracy: 0.9343\n",
      "Epoch 30/500\n",
      "780/780 [==============================] - 0s 169us/sample - loss: 0.0603 - accuracy: 0.9987 - val_loss: 0.2103 - val_accuracy: 0.9373\n",
      "Epoch 31/500\n",
      "780/780 [==============================] - 0s 167us/sample - loss: 0.0542 - accuracy: 0.9987 - val_loss: 0.2151 - val_accuracy: 0.9313\n",
      "Epoch 32/500\n",
      "780/780 [==============================] - 0s 172us/sample - loss: 0.0480 - accuracy: 0.9987 - val_loss: 0.2107 - val_accuracy: 0.9373\n",
      "Epoch 33/500\n",
      "780/780 [==============================] - 0s 174us/sample - loss: 0.0429 - accuracy: 0.9987 - val_loss: 0.2154 - val_accuracy: 0.9343\n",
      "Epoch 00033: early stopping\n"
     ]
    }
   ],
   "source": [
    "# Clear previous session\n",
    "keras.backend.clear_session()\n",
    "\n",
    "# Initiate neural net\n",
    "# Hidden layer contains x number of neurons and both hidden and output layer \n",
    "# utilize sigmoid activation function with bias unit of 1\n",
    "\n",
    "model100conv = keras.Sequential([\n",
    "    keras.layers.Dense(100, activation='sigmoid', input_shape = (X_train.shape[1],), use_bias=True, bias_initializer='ones'),\n",
    "    keras.layers.Dense(10, activation='sigmoid', use_bias=True, bias_initializer='ones'),\n",
    "])\n",
    "\n",
    "from tensorflow.python.keras import optimizers\n",
    "\n",
    "# Specify learning rate of 0.1\n",
    "\n",
    "sgd = optimizers.SGD(lr=0.1, momentum=0.0, nesterov=False)\n",
    "\n",
    "# Compile step required before training, set loss function with accuracy metrics\n",
    "model100conv.compile(loss='categorical_crossentropy', metrics=['accuracy'])\n",
    "\n",
    "# Stop iterating when model converges \n",
    "es = EarlyStopping(monitor='val_loss', mode='min', verbose=1, patience=3)\n",
    "\n",
    "# Train model using 100 hidden units and stop at convergence\n",
    "\n",
    "evaluation = model100conv.fit(X_train, y_train, validation_split=0.3, epochs=500, callbacks=[es])"
   ]
  },
  {
   "cell_type": "markdown",
   "metadata": {},
   "source": [
    "<h3> Discuss your results. How does number of hidden units affect the final accuracy on the test data? </h3>\n",
    "    \n",
    "<p1>In general, as the number of hidden units increases, the final accuracy on the test data increases slightly, to a point. We should very likely see an increase in final accuracy going from 20 hidden units to 100 hidden units. However, it is possible given how the data gets split, that 50 hidden units may have slightly higher accuracy than 100 hidden units, or 20 hidden units may have slightly higher accuracy than 50 hidden units. Also, we cannot continually increase test accuracy by simply increasing the number of hidden units, as accuracy eventually plateaus or decreases. The ideal number of hidden units (taking into account efficient use of computing power as well) should be somewhere between the size of the input and output layers and requires testing. A rule of thumb is 2/3 of the input layer plus the output layer. </p1>"
   ]
  },
  {
   "cell_type": "markdown",
   "metadata": {},
   "source": [
    "<h3> Discuss your results. How does number of hidden units affect number of epochs needed for training to converge?</h3>\n",
    "\n",
    "<p1> In general, as the number of hidden units increases, less epochs are needed for training to converge. This was observed in the above convergence tests. </p1>"
   ]
  },
  {
   "cell_type": "markdown",
   "metadata": {},
   "source": [
    "<h3> Is there any evidence that any of your networks overfit to the training data? If so, what is the evidence? </h3>\n",
    "\n",
    "<p1> Yes - all networks are overfit. This can be seen from the accuracy vs epochs plots -- our final training accuracy is higher than final test accuracy. </p1>"
   ]
  },
  {
   "cell_type": "markdown",
   "metadata": {},
   "source": [
    "<h1> Training using a quarter of the data <h1>"
   ]
  },
  {
   "cell_type": "code",
   "execution_count": 1479,
   "metadata": {},
   "outputs": [
    {
     "data": {
      "text/plain": [
       "1593"
      ]
     },
     "execution_count": 1479,
     "metadata": {},
     "output_type": "execute_result"
    }
   ],
   "source": [
    "# 1,593 total images and corresponding label in our data set\n",
    "len(y)"
   ]
  },
  {
   "cell_type": "code",
   "execution_count": 1480,
   "metadata": {},
   "outputs": [
    {
     "data": {
      "text/plain": [
       "array([0.10106717, 0.10169492, 0.09981168, 0.09981168, 0.10106717,\n",
       "       0.09981168, 0.10106717, 0.09918393, 0.09730069, 0.09918393])"
      ]
     },
     "execution_count": 1480,
     "metadata": {},
     "output_type": "execute_result"
    }
   ],
   "source": [
    "# We can see that the spread of the data over all 1,593 observations is already quite balanced among the 10 classes\n",
    "# of digits. \n",
    "sum(y)/len(y)"
   ]
  },
  {
   "cell_type": "code",
   "execution_count": 1481,
   "metadata": {},
   "outputs": [],
   "source": [
    "# Split into training and test sets, but with training data consisting of 25% and stratified wrt class\n",
    "X_train, X_test, y_train, y_test = train_test_split(X, y, stratify = y, train_size = 0.25, random_state = 10)"
   ]
  },
  {
   "cell_type": "code",
   "execution_count": 1482,
   "metadata": {},
   "outputs": [
    {
     "data": {
      "text/plain": [
       "398"
      ]
     },
     "execution_count": 1482,
     "metadata": {},
     "output_type": "execute_result"
    }
   ],
   "source": [
    "# How many samples in our training set? 1,593 x .25\n",
    "len(y_train)"
   ]
  },
  {
   "cell_type": "code",
   "execution_count": 1483,
   "metadata": {},
   "outputs": [
    {
     "data": {
      "text/plain": [
       "array([0.10050251, 0.10050251, 0.10050251, 0.10050251, 0.10050251,\n",
       "       0.10050251, 0.10050251, 0.10050251, 0.09798995, 0.09798995])"
      ]
     },
     "execution_count": 1483,
     "metadata": {},
     "output_type": "execute_result"
    }
   ],
   "source": [
    "# We confirm roughly equal splits among the 10 classes in training set\n",
    "sum(y_train)/len(y_train)"
   ]
  },
  {
   "cell_type": "code",
   "execution_count": 1484,
   "metadata": {},
   "outputs": [],
   "source": [
    "# Clear previous session\n",
    "keras.backend.clear_session()"
   ]
  },
  {
   "cell_type": "code",
   "execution_count": 1485,
   "metadata": {},
   "outputs": [
    {
     "name": "stdout",
     "output_type": "stream",
     "text": [
      "Model: \"sequential\"\n",
      "_________________________________________________________________\n",
      "Layer (type)                 Output Shape              Param #   \n",
      "=================================================================\n",
      "dense (Dense)                (None, 100)               25700     \n",
      "_________________________________________________________________\n",
      "dense_1 (Dense)              (None, 10)                1010      \n",
      "=================================================================\n",
      "Total params: 26,710\n",
      "Trainable params: 26,710\n",
      "Non-trainable params: 0\n",
      "_________________________________________________________________\n"
     ]
    }
   ],
   "source": [
    "# Initiate neural net\n",
    "# Hidden layer contains x number of neurons and both hidden and output layer \n",
    "# utilize sigmoid activation function with bias unit of 1\n",
    "\n",
    "modelqtr = keras.Sequential([\n",
    "    keras.layers.Dense(100, activation='sigmoid', input_shape = (X_train.shape[1],), use_bias=True, bias_initializer='ones'),\n",
    "    keras.layers.Dense(10, activation='sigmoid', use_bias=True, bias_initializer='ones'),\n",
    "])\n",
    "\n",
    "from tensorflow.python.keras import optimizers\n",
    "\n",
    "# Specify learning rate of 0.1\n",
    "\n",
    "sgd = optimizers.SGD(lr=0.1, momentum=0.0, nesterov=False)\n",
    "\n",
    "# Compile step required before training, set loss function with accuracy metrics\n",
    "modelqtr.compile(loss='categorical_crossentropy', metrics=['accuracy'])\n",
    "\n",
    "#Output summary\n",
    "modelqtr.summary()"
   ]
  },
  {
   "cell_type": "code",
   "execution_count": 1486,
   "metadata": {},
   "outputs": [
    {
     "name": "stdout",
     "output_type": "stream",
     "text": [
      "Train on 398 samples, validate on 1195 samples\n",
      "Epoch 1/50\n",
      "398/398 [==============================] - ETA: 4s - loss: 2.3206 - accuracy: 0.09 - 1s 1ms/sample - loss: 2.2354 - accuracy: 0.2889 - val_loss: 2.1332 - val_accuracy: 0.3707\n",
      "Epoch 2/50\n",
      "398/398 [==============================] - 0s 362us/sample - loss: 2.0303 - accuracy: 0.5452 - val_loss: 1.9519 - val_accuracy: 0.5992\n",
      "Epoch 3/50\n",
      "398/398 [==============================] - 0s 394us/sample - loss: 1.8195 - accuracy: 0.7462 - val_loss: 1.7637 - val_accuracy: 0.7063\n",
      "Epoch 4/50\n",
      "398/398 [==============================] - 0s 395us/sample - loss: 1.6238 - accuracy: 0.8040 - val_loss: 1.6028 - val_accuracy: 0.7665\n",
      "Epoch 5/50\n",
      "398/398 [==============================] - 0s 395us/sample - loss: 1.4524 - accuracy: 0.8593 - val_loss: 1.4632 - val_accuracy: 0.7732\n",
      "Epoch 6/50\n",
      "398/398 [==============================] - 0s 393us/sample - loss: 1.3015 - accuracy: 0.8668 - val_loss: 1.3427 - val_accuracy: 0.8092\n",
      "Epoch 7/50\n",
      "398/398 [==============================] - 0s 392us/sample - loss: 1.1681 - accuracy: 0.8819 - val_loss: 1.2380 - val_accuracy: 0.7891\n",
      "Epoch 8/50\n",
      "398/398 [==============================] - 0s 390us/sample - loss: 1.0549 - accuracy: 0.8693 - val_loss: 1.1456 - val_accuracy: 0.8117\n",
      "Epoch 9/50\n",
      "398/398 [==============================] - 0s 391us/sample - loss: 0.9482 - accuracy: 0.9070 - val_loss: 1.0585 - val_accuracy: 0.8184\n",
      "Epoch 10/50\n",
      "398/398 [==============================] - 0s 392us/sample - loss: 0.8578 - accuracy: 0.8995 - val_loss: 0.9831 - val_accuracy: 0.8318\n",
      "Epoch 11/50\n",
      "398/398 [==============================] - 0s 391us/sample - loss: 0.7729 - accuracy: 0.9271 - val_loss: 0.9218 - val_accuracy: 0.8310\n",
      "Epoch 12/50\n",
      "398/398 [==============================] - 0s 395us/sample - loss: 0.7002 - accuracy: 0.9296 - val_loss: 0.8584 - val_accuracy: 0.8477\n",
      "Epoch 13/50\n",
      "398/398 [==============================] - 0s 390us/sample - loss: 0.6342 - accuracy: 0.9372 - val_loss: 0.8050 - val_accuracy: 0.8552\n",
      "Epoch 14/50\n",
      "398/398 [==============================] - 0s 392us/sample - loss: 0.5749 - accuracy: 0.9397 - val_loss: 0.7619 - val_accuracy: 0.8519\n",
      "Epoch 15/50\n",
      "398/398 [==============================] - 0s 399us/sample - loss: 0.5226 - accuracy: 0.9422 - val_loss: 0.7222 - val_accuracy: 0.8494\n",
      "Epoch 16/50\n",
      "398/398 [==============================] - 0s 400us/sample - loss: 0.4749 - accuracy: 0.9573 - val_loss: 0.6849 - val_accuracy: 0.8636\n",
      "Epoch 17/50\n",
      "398/398 [==============================] - 0s 395us/sample - loss: 0.4310 - accuracy: 0.9523 - val_loss: 0.6482 - val_accuracy: 0.8561\n",
      "Epoch 18/50\n",
      "398/398 [==============================] - 0s 392us/sample - loss: 0.3934 - accuracy: 0.9673 - val_loss: 0.6173 - val_accuracy: 0.8653\n",
      "Epoch 19/50\n",
      "398/398 [==============================] - 0s 406us/sample - loss: 0.3569 - accuracy: 0.9598 - val_loss: 0.5902 - val_accuracy: 0.8695\n",
      "Epoch 20/50\n",
      "398/398 [==============================] - 0s 407us/sample - loss: 0.3276 - accuracy: 0.9749 - val_loss: 0.5663 - val_accuracy: 0.8678\n",
      "Epoch 21/50\n",
      "398/398 [==============================] - 0s 421us/sample - loss: 0.2965 - accuracy: 0.9799 - val_loss: 0.5460 - val_accuracy: 0.8711\n",
      "Epoch 22/50\n",
      "398/398 [==============================] - 0s 421us/sample - loss: 0.2700 - accuracy: 0.9774 - val_loss: 0.5304 - val_accuracy: 0.8695\n",
      "Epoch 23/50\n",
      "398/398 [==============================] - 0s 403us/sample - loss: 0.2475 - accuracy: 0.9774 - val_loss: 0.5047 - val_accuracy: 0.8753\n",
      "Epoch 24/50\n",
      "398/398 [==============================] - 0s 392us/sample - loss: 0.2258 - accuracy: 0.9849 - val_loss: 0.4865 - val_accuracy: 0.8787\n",
      "Epoch 25/50\n",
      "398/398 [==============================] - 0s 394us/sample - loss: 0.2050 - accuracy: 0.9899 - val_loss: 0.4778 - val_accuracy: 0.8778\n",
      "Epoch 26/50\n",
      "398/398 [==============================] - 0s 420us/sample - loss: 0.1863 - accuracy: 0.9950 - val_loss: 0.4602 - val_accuracy: 0.8762\n",
      "Epoch 27/50\n",
      "398/398 [==============================] - 0s 403us/sample - loss: 0.1702 - accuracy: 0.9950 - val_loss: 0.4584 - val_accuracy: 0.8795\n",
      "Epoch 28/50\n",
      "398/398 [==============================] - 0s 390us/sample - loss: 0.1537 - accuracy: 0.9950 - val_loss: 0.4435 - val_accuracy: 0.8803\n",
      "Epoch 29/50\n",
      "398/398 [==============================] - 0s 397us/sample - loss: 0.1397 - accuracy: 0.9975 - val_loss: 0.4336 - val_accuracy: 0.8787\n",
      "Epoch 30/50\n",
      "398/398 [==============================] - 0s 405us/sample - loss: 0.1269 - accuracy: 0.9950 - val_loss: 0.4239 - val_accuracy: 0.8812\n",
      "Epoch 31/50\n",
      "398/398 [==============================] - 0s 396us/sample - loss: 0.1143 - accuracy: 0.9950 - val_loss: 0.4179 - val_accuracy: 0.8778\n",
      "Epoch 32/50\n",
      "398/398 [==============================] - 0s 393us/sample - loss: 0.1044 - accuracy: 1.0000 - val_loss: 0.4033 - val_accuracy: 0.8795\n",
      "Epoch 33/50\n",
      "398/398 [==============================] - 0s 390us/sample - loss: 0.0936 - accuracy: 1.0000 - val_loss: 0.4055 - val_accuracy: 0.8845\n",
      "Epoch 34/50\n",
      "398/398 [==============================] - 0s 387us/sample - loss: 0.0852 - accuracy: 1.0000 - val_loss: 0.3929 - val_accuracy: 0.8803\n",
      "Epoch 35/50\n",
      "398/398 [==============================] - 0s 393us/sample - loss: 0.0753 - accuracy: 1.0000 - val_loss: 0.3848 - val_accuracy: 0.8854\n",
      "Epoch 36/50\n",
      "398/398 [==============================] - 0s 390us/sample - loss: 0.0693 - accuracy: 1.0000 - val_loss: 0.3885 - val_accuracy: 0.8854\n",
      "Epoch 37/50\n",
      "398/398 [==============================] - 0s 413us/sample - loss: 0.0623 - accuracy: 1.0000 - val_loss: 0.3775 - val_accuracy: 0.8837\n",
      "Epoch 38/50\n",
      "398/398 [==============================] - 0s 406us/sample - loss: 0.0569 - accuracy: 1.0000 - val_loss: 0.3739 - val_accuracy: 0.8879\n",
      "Epoch 39/50\n",
      "398/398 [==============================] - 0s 387us/sample - loss: 0.0513 - accuracy: 1.0000 - val_loss: 0.3690 - val_accuracy: 0.8854\n",
      "Epoch 40/50\n",
      "398/398 [==============================] - 0s 391us/sample - loss: 0.0450 - accuracy: 1.0000 - val_loss: 0.3666 - val_accuracy: 0.8895\n",
      "Epoch 41/50\n",
      "398/398 [==============================] - 0s 391us/sample - loss: 0.0408 - accuracy: 1.0000 - val_loss: 0.3644 - val_accuracy: 0.8870\n",
      "Epoch 42/50\n",
      "398/398 [==============================] - 0s 400us/sample - loss: 0.0359 - accuracy: 1.0000 - val_loss: 0.3689 - val_accuracy: 0.8845\n",
      "Epoch 43/50\n",
      "398/398 [==============================] - 0s 387us/sample - loss: 0.0325 - accuracy: 1.0000 - val_loss: 0.3575 - val_accuracy: 0.8870\n",
      "Epoch 44/50\n",
      "398/398 [==============================] - 0s 385us/sample - loss: 0.0289 - accuracy: 1.0000 - val_loss: 0.3565 - val_accuracy: 0.8904\n",
      "Epoch 45/50\n",
      "398/398 [==============================] - 0s 392us/sample - loss: 0.0257 - accuracy: 1.0000 - val_loss: 0.3526 - val_accuracy: 0.8895\n",
      "Epoch 46/50\n",
      "398/398 [==============================] - 0s 411us/sample - loss: 0.0232 - accuracy: 1.0000 - val_loss: 0.3521 - val_accuracy: 0.8887\n",
      "Epoch 47/50\n",
      "398/398 [==============================] - 0s 410us/sample - loss: 0.0206 - accuracy: 1.0000 - val_loss: 0.3525 - val_accuracy: 0.8937\n",
      "Epoch 48/50\n",
      "398/398 [==============================] - 0s 393us/sample - loss: 0.0188 - accuracy: 1.0000 - val_loss: 0.3489 - val_accuracy: 0.8895\n",
      "Epoch 49/50\n",
      "398/398 [==============================] - 0s 385us/sample - loss: 0.0164 - accuracy: 1.0000 - val_loss: 0.3538 - val_accuracy: 0.8904\n",
      "Epoch 50/50\n",
      "398/398 [==============================] - 0s 401us/sample - loss: 0.0147 - accuracy: 1.0000 - val_loss: 0.3534 - val_accuracy: 0.8904\n"
     ]
    }
   ],
   "source": [
    "# Train the neural net\n",
    "\n",
    "evaluation = modelqtr.fit(X_train, y_train, validation_data=(X_test, y_test), epochs=50)"
   ]
  },
  {
   "cell_type": "code",
   "execution_count": 1487,
   "metadata": {},
   "outputs": [
    {
     "name": "stdout",
     "output_type": "stream",
     "text": [
      "Training accuracy: 1.0\n",
      "\n",
      "Test accuracy: 0.89037657\n"
     ]
    }
   ],
   "source": [
    "test_loss, test_acc = modelqtr.evaluate(X_test,  y_test, verbose=0)\n",
    "print('Training accuracy:',max(evaluation.history['accuracy']))\n",
    "print('\\nTest accuracy:', test_acc)"
   ]
  },
  {
   "cell_type": "code",
   "execution_count": 1488,
   "metadata": {},
   "outputs": [
    {
     "name": "stdout",
     "output_type": "stream",
     "text": [
      "(1195, 10)\n"
     ]
    },
    {
     "data": {
      "text/plain": [
       "array([[0.1, 0.1, 0.1, ..., 0.1, 0.1, 0.1],\n",
       "       [0.1, 0.1, 0.1, ..., 0.1, 0.1, 0.1],\n",
       "       [0.1, 0.1, 0.1, ..., 0.1, 0.1, 0.1],\n",
       "       ...,\n",
       "       [0.1, 0.1, 0.1, ..., 0.1, 0.9, 0.1],\n",
       "       [0.1, 0.1, 0.1, ..., 0.1, 0.9, 0.1],\n",
       "       [0.1, 0.1, 0.1, ..., 0.1, 0.1, 0.1]])"
      ]
     },
     "execution_count": 1488,
     "metadata": {},
     "output_type": "execute_result"
    }
   ],
   "source": [
    "# Store predictions on test set images\n",
    "predictions = set_target(modelqtr.predict(X_test))\n",
    "\n",
    "# Verify shape and output of predictions\n",
    "print(predictions.shape)\n",
    "predictions"
   ]
  },
  {
   "cell_type": "code",
   "execution_count": 1489,
   "metadata": {},
   "outputs": [
    {
     "name": "stdout",
     "output_type": "stream",
     "text": [
      "(1195,)\n"
     ]
    },
    {
     "data": {
      "text/plain": [
       "array([5, 5, 3, ..., 8, 8, 6], dtype=int64)"
      ]
     },
     "execution_count": 1489,
     "metadata": {},
     "output_type": "execute_result"
    }
   ],
   "source": [
    "# Convert predictions to actual digit value\n",
    "\n",
    "predicted = np.argmax(predictions, axis = 1)\n",
    "print(predicted.shape)\n",
    "predicted"
   ]
  },
  {
   "cell_type": "code",
   "execution_count": 1490,
   "metadata": {},
   "outputs": [
    {
     "name": "stdout",
     "output_type": "stream",
     "text": [
      "(1195,)\n"
     ]
    },
    {
     "data": {
      "text/plain": [
       "array([5, 5, 3, ..., 8, 8, 6], dtype=int64)"
      ]
     },
     "execution_count": 1490,
     "metadata": {},
     "output_type": "execute_result"
    }
   ],
   "source": [
    "# Convert labels to actual digit value\n",
    "actual = np.argmax(y_test, axis = 1)\n",
    "print(actual.shape)\n",
    "actual"
   ]
  },
  {
   "cell_type": "code",
   "execution_count": 1491,
   "metadata": {},
   "outputs": [
    {
     "name": "stdout",
     "output_type": "stream",
     "text": [
      "Accuracy:\n",
      "0.8904\n",
      "Precision:\n",
      "[0.98305085 0.80434783 0.87603306 0.94642857 0.85483871 0.95535714\n",
      " 0.94871795 0.86290323 0.86666667 0.83064516]\n",
      "Recall:\n",
      "[0.95867769 0.90983607 0.8907563  0.8907563  0.87603306 0.89915966\n",
      " 0.91735537 0.90677966 0.78448276 0.86554622]\n"
     ]
    }
   ],
   "source": [
    "# Calculate accuracy, precision and recall using metrics package\n",
    "print(f\"Accuracy:\\n{round(metrics.accuracy_score(actual,predicted),4)}\")\n",
    "print(f\"Precision:\\n{metrics.precision_score(actual,predicted,average=None)}\")\n",
    "print(f\"Recall:\\n{metrics.recall_score(actual,predicted,average=None)}\")"
   ]
  },
  {
   "cell_type": "code",
   "execution_count": 1492,
   "metadata": {},
   "outputs": [
    {
     "data": {
      "image/png": "[encoded data removed]",
      "text/plain": [
       "<Figure size 360x360 with 2 Axes>"
      ]
     },
     "metadata": {
      "needs_background": "light"
     },
     "output_type": "display_data"
    }
   ],
   "source": [
    "# Heatmapped Confusion Matrix\n",
    "plt.rcParams['figure.figsize'] = (5,5)\n",
    "mat=confusion_matrix(actual,predicted)\n",
    "sns.heatmap(mat.T,square=True,annot=True, fmt='d')\n",
    "plt.xlabel('True Class')\n",
    "plt.ylabel('Predicted Class')\n",
    "plt.show()"
   ]
  },
  {
   "cell_type": "code",
   "execution_count": 1493,
   "metadata": {},
   "outputs": [
    {
     "data": {
      "image/png": "[encoded data removed]",
      "text/plain": [
       "<Figure size 576x360 with 1 Axes>"
      ]
     },
     "metadata": {
      "needs_background": "light"
     },
     "output_type": "display_data"
    }
   ],
   "source": [
    "plot_accgraph(evaluation,100)"
   ]
  },
  {
   "cell_type": "markdown",
   "metadata": {},
   "source": [
    "<h1> Training using half of the data <h1>"
   ]
  },
  {
   "cell_type": "code",
   "execution_count": 1494,
   "metadata": {},
   "outputs": [],
   "source": [
    "# Split into training and test sets, but with training data consisting of 50% and stratified wrt class\n",
    "X_train, X_test, y_train, y_test = train_test_split(X, y, stratify = y, train_size = 0.50, random_state = 10)"
   ]
  },
  {
   "cell_type": "code",
   "execution_count": 1495,
   "metadata": {},
   "outputs": [
    {
     "data": {
      "text/plain": [
       "796"
      ]
     },
     "execution_count": 1495,
     "metadata": {},
     "output_type": "execute_result"
    }
   ],
   "source": [
    "# How many samples in our training set? 1,593 x .50\n",
    "len(y_train)"
   ]
  },
  {
   "cell_type": "code",
   "execution_count": 1496,
   "metadata": {},
   "outputs": [
    {
     "data": {
      "text/plain": [
       "array([0.10050251, 0.10175879, 0.10050251, 0.09924623, 0.10050251,\n",
       "       0.10050251, 0.10050251, 0.09924623, 0.09798995, 0.09924623])"
      ]
     },
     "execution_count": 1496,
     "metadata": {},
     "output_type": "execute_result"
    }
   ],
   "source": [
    "# We confirm roughly equal splits among the 10 classes in training set\n",
    "sum(y_train)/len(y_train)"
   ]
  },
  {
   "cell_type": "code",
   "execution_count": 1497,
   "metadata": {},
   "outputs": [],
   "source": [
    "# Clear previous session\n",
    "keras.backend.clear_session()"
   ]
  },
  {
   "cell_type": "code",
   "execution_count": 1498,
   "metadata": {},
   "outputs": [
    {
     "name": "stdout",
     "output_type": "stream",
     "text": [
      "Model: \"sequential\"\n",
      "_________________________________________________________________\n",
      "Layer (type)                 Output Shape              Param #   \n",
      "=================================================================\n",
      "dense (Dense)                (None, 100)               25700     \n",
      "_________________________________________________________________\n",
      "dense_1 (Dense)              (None, 10)                1010      \n",
      "=================================================================\n",
      "Total params: 26,710\n",
      "Trainable params: 26,710\n",
      "Non-trainable params: 0\n",
      "_________________________________________________________________\n"
     ]
    }
   ],
   "source": [
    "# Initiate neural net\n",
    "# Hidden layer contains x number of neurons and both hidden and output layer \n",
    "# utilize sigmoid activation function with bias unit of 1\n",
    "\n",
    "modelhalf = keras.Sequential([\n",
    "    keras.layers.Dense(100, activation='sigmoid', input_shape = (X_train.shape[1],), use_bias=True, bias_initializer='ones'),\n",
    "    keras.layers.Dense(10, activation='sigmoid', use_bias=True, bias_initializer='ones'),\n",
    "])\n",
    "\n",
    "from tensorflow.python.keras import optimizers\n",
    "\n",
    "# Specify learning rate of 0.1\n",
    "\n",
    "sgd = optimizers.SGD(lr=0.1, momentum=0.0, nesterov=False)\n",
    "\n",
    "# Compile step required before training, set loss function with accuracy metrics\n",
    "modelhalf.compile(loss='categorical_crossentropy', metrics=['accuracy'])\n",
    "\n",
    "#Output summary\n",
    "modelhalf.summary()"
   ]
  },
  {
   "cell_type": "code",
   "execution_count": 1499,
   "metadata": {},
   "outputs": [
    {
     "name": "stdout",
     "output_type": "stream",
     "text": [
      "Train on 796 samples, validate on 797 samples\n",
      "Epoch 1/50\n",
      "796/796 [==============================] - 1s 1ms/sample - loss: 2.2347 - accuracy: 0.1633 - val_loss: 2.0481 - val_accuracy: 0.4956\n",
      "Epoch 2/50\n",
      "796/796 [==============================] - 0s 217us/sample - loss: 1.8797 - accuracy: 0.6872 - val_loss: 1.7301 - val_accuracy: 0.6989\n",
      "Epoch 3/50\n",
      "796/796 [==============================] - 0s 209us/sample - loss: 1.5727 - accuracy: 0.7889 - val_loss: 1.4651 - val_accuracy: 0.7804\n",
      "Epoch 4/50\n",
      "796/796 [==============================] - 0s 207us/sample - loss: 1.3203 - accuracy: 0.8405 - val_loss: 1.2529 - val_accuracy: 0.8093\n",
      "Epoch 5/50\n",
      "796/796 [==============================] - 0s 211us/sample - loss: 1.1121 - accuracy: 0.8656 - val_loss: 1.0790 - val_accuracy: 0.8344\n",
      "Epoch 6/50\n",
      "796/796 [==============================] - 0s 210us/sample - loss: 0.9395 - accuracy: 0.8819 - val_loss: 0.9393 - val_accuracy: 0.8356\n",
      "Epoch 7/50\n",
      "796/796 [==============================] - 0s 213us/sample - loss: 0.8024 - accuracy: 0.8957 - val_loss: 0.8194 - val_accuracy: 0.8519\n",
      "Epoch 8/50\n",
      "796/796 [==============================] - 0s 208us/sample - loss: 0.6890 - accuracy: 0.9083 - val_loss: 0.7254 - val_accuracy: 0.8607\n",
      "Epoch 9/50\n",
      "796/796 [==============================] - 0s 209us/sample - loss: 0.5974 - accuracy: 0.9146 - val_loss: 0.6497 - val_accuracy: 0.8670\n",
      "Epoch 10/50\n",
      "796/796 [==============================] - 0s 207us/sample - loss: 0.5189 - accuracy: 0.9309 - val_loss: 0.5954 - val_accuracy: 0.8645\n",
      "Epoch 11/50\n",
      "796/796 [==============================] - 0s 209us/sample - loss: 0.4542 - accuracy: 0.9347 - val_loss: 0.5454 - val_accuracy: 0.8758\n",
      "Epoch 12/50\n",
      "796/796 [==============================] - 0s 226us/sample - loss: 0.4045 - accuracy: 0.9422 - val_loss: 0.4982 - val_accuracy: 0.8720\n",
      "Epoch 13/50\n",
      "796/796 [==============================] - 0s 208us/sample - loss: 0.3572 - accuracy: 0.9497 - val_loss: 0.4709 - val_accuracy: 0.8846\n",
      "Epoch 14/50\n",
      "796/796 [==============================] - 0s 210us/sample - loss: 0.3196 - accuracy: 0.9560 - val_loss: 0.4319 - val_accuracy: 0.8846\n",
      "Epoch 15/50\n",
      "796/796 [==============================] - ETA: 0s - loss: 0.2849 - accuracy: 0.96 - 0s 219us/sample - loss: 0.2862 - accuracy: 0.9636 - val_loss: 0.4055 - val_accuracy: 0.8971\n",
      "Epoch 16/50\n",
      "796/796 [==============================] - 0s 221us/sample - loss: 0.2561 - accuracy: 0.9711 - val_loss: 0.3803 - val_accuracy: 0.8984\n",
      "Epoch 17/50\n",
      "796/796 [==============================] - 0s 209us/sample - loss: 0.2309 - accuracy: 0.9736 - val_loss: 0.3634 - val_accuracy: 0.8984\n",
      "Epoch 18/50\n",
      "796/796 [==============================] - 0s 216us/sample - loss: 0.2070 - accuracy: 0.9724 - val_loss: 0.3524 - val_accuracy: 0.9097\n",
      "Epoch 19/50\n",
      "796/796 [==============================] - 0s 216us/sample - loss: 0.1867 - accuracy: 0.9774 - val_loss: 0.3366 - val_accuracy: 0.9084\n",
      "Epoch 20/50\n",
      "796/796 [==============================] - 0s 211us/sample - loss: 0.1709 - accuracy: 0.9849 - val_loss: 0.3296 - val_accuracy: 0.9072\n",
      "Epoch 21/50\n",
      "796/796 [==============================] - 0s 217us/sample - loss: 0.1517 - accuracy: 0.9824 - val_loss: 0.3181 - val_accuracy: 0.9097\n",
      "Epoch 22/50\n",
      "796/796 [==============================] - 0s 211us/sample - loss: 0.1373 - accuracy: 0.9887 - val_loss: 0.3063 - val_accuracy: 0.9147\n",
      "Epoch 23/50\n",
      "796/796 [==============================] - 0s 210us/sample - loss: 0.1248 - accuracy: 0.9912 - val_loss: 0.2994 - val_accuracy: 0.9109\n",
      "Epoch 24/50\n",
      "796/796 [==============================] - 0s 210us/sample - loss: 0.1114 - accuracy: 0.9950 - val_loss: 0.2932 - val_accuracy: 0.9147\n",
      "Epoch 25/50\n",
      "796/796 [==============================] - 0s 208us/sample - loss: 0.0995 - accuracy: 0.9950 - val_loss: 0.2975 - val_accuracy: 0.9097\n",
      "Epoch 26/50\n",
      "796/796 [==============================] - 0s 211us/sample - loss: 0.0900 - accuracy: 0.9937 - val_loss: 0.2787 - val_accuracy: 0.9197\n",
      "Epoch 27/50\n",
      "796/796 [==============================] - 0s 208us/sample - loss: 0.0819 - accuracy: 0.9962 - val_loss: 0.2741 - val_accuracy: 0.9210\n",
      "Epoch 28/50\n",
      "796/796 [==============================] - 0s 209us/sample - loss: 0.0729 - accuracy: 0.9975 - val_loss: 0.2674 - val_accuracy: 0.9184\n",
      "Epoch 29/50\n",
      "796/796 [==============================] - 0s 207us/sample - loss: 0.0657 - accuracy: 0.9975 - val_loss: 0.2694 - val_accuracy: 0.9172\n",
      "Epoch 30/50\n",
      "796/796 [==============================] - 0s 215us/sample - loss: 0.0590 - accuracy: 0.9987 - val_loss: 0.2581 - val_accuracy: 0.9159\n",
      "Epoch 31/50\n",
      "796/796 [==============================] - 0s 217us/sample - loss: 0.0524 - accuracy: 0.9987 - val_loss: 0.2617 - val_accuracy: 0.9134\n",
      "Epoch 32/50\n",
      "796/796 [==============================] - 0s 209us/sample - loss: 0.0468 - accuracy: 0.9987 - val_loss: 0.2592 - val_accuracy: 0.9197\n",
      "Epoch 33/50\n",
      "796/796 [==============================] - 0s 208us/sample - loss: 0.0423 - accuracy: 0.9987 - val_loss: 0.2554 - val_accuracy: 0.9172\n",
      "Epoch 34/50\n",
      "796/796 [==============================] - 0s 209us/sample - loss: 0.0371 - accuracy: 0.9987 - val_loss: 0.2445 - val_accuracy: 0.9247\n",
      "Epoch 35/50\n",
      "796/796 [==============================] - 0s 211us/sample - loss: 0.0336 - accuracy: 0.9987 - val_loss: 0.2598 - val_accuracy: 0.9197\n",
      "Epoch 36/50\n",
      "796/796 [==============================] - 0s 211us/sample - loss: 0.0294 - accuracy: 1.0000 - val_loss: 0.2518 - val_accuracy: 0.9172\n",
      "Epoch 37/50\n",
      "796/796 [==============================] - 0s 215us/sample - loss: 0.0259 - accuracy: 1.0000 - val_loss: 0.2543 - val_accuracy: 0.9197\n",
      "Epoch 38/50\n",
      "796/796 [==============================] - 0s 209us/sample - loss: 0.0232 - accuracy: 1.0000 - val_loss: 0.2551 - val_accuracy: 0.9184\n",
      "Epoch 39/50\n",
      "796/796 [==============================] - 0s 204us/sample - loss: 0.0206 - accuracy: 1.0000 - val_loss: 0.2484 - val_accuracy: 0.9159\n",
      "Epoch 40/50\n",
      "796/796 [==============================] - 0s 207us/sample - loss: 0.0185 - accuracy: 1.0000 - val_loss: 0.2501 - val_accuracy: 0.9172\n",
      "Epoch 41/50\n",
      "796/796 [==============================] - 0s 204us/sample - loss: 0.0160 - accuracy: 1.0000 - val_loss: 0.2491 - val_accuracy: 0.9159\n",
      "Epoch 42/50\n",
      "796/796 [==============================] - 0s 209us/sample - loss: 0.0143 - accuracy: 1.0000 - val_loss: 0.2450 - val_accuracy: 0.9184\n",
      "Epoch 43/50\n",
      "796/796 [==============================] - 0s 206us/sample - loss: 0.0125 - accuracy: 1.0000 - val_loss: 0.2479 - val_accuracy: 0.9147\n",
      "Epoch 44/50\n",
      "796/796 [==============================] - 0s 209us/sample - loss: 0.0109 - accuracy: 1.0000 - val_loss: 0.2485 - val_accuracy: 0.9172\n",
      "Epoch 45/50\n",
      "796/796 [==============================] - 0s 210us/sample - loss: 0.0096 - accuracy: 1.0000 - val_loss: 0.2494 - val_accuracy: 0.9147\n",
      "Epoch 46/50\n",
      "796/796 [==============================] - 0s 208us/sample - loss: 0.0085 - accuracy: 1.0000 - val_loss: 0.2535 - val_accuracy: 0.9197\n",
      "Epoch 47/50\n",
      "796/796 [==============================] - 0s 206us/sample - loss: 0.0073 - accuracy: 1.0000 - val_loss: 0.2559 - val_accuracy: 0.9210\n",
      "Epoch 48/50\n",
      "796/796 [==============================] - 0s 207us/sample - loss: 0.0065 - accuracy: 1.0000 - val_loss: 0.2513 - val_accuracy: 0.9222\n",
      "Epoch 49/50\n",
      "796/796 [==============================] - 0s 206us/sample - loss: 0.0057 - accuracy: 1.0000 - val_loss: 0.2497 - val_accuracy: 0.9210\n",
      "Epoch 50/50\n",
      "796/796 [==============================] - 0s 207us/sample - loss: 0.0049 - accuracy: 1.0000 - val_loss: 0.2538 - val_accuracy: 0.9210\n"
     ]
    }
   ],
   "source": [
    "# Train the neural net\n",
    "\n",
    "evaluation = modelhalf.fit(X_train, y_train, validation_data=(X_test, y_test), epochs=50)"
   ]
  },
  {
   "cell_type": "code",
   "execution_count": 1500,
   "metadata": {},
   "outputs": [
    {
     "name": "stdout",
     "output_type": "stream",
     "text": [
      "Training accuracy: 1.0\n",
      "\n",
      "Test accuracy: 0.9209536\n"
     ]
    }
   ],
   "source": [
    "test_loss, test_acc = modelhalf.evaluate(X_test,  y_test, verbose=0)\n",
    "print('Training accuracy:',max(evaluation.history['accuracy']))\n",
    "print('\\nTest accuracy:', test_acc)"
   ]
  },
  {
   "cell_type": "code",
   "execution_count": 1501,
   "metadata": {},
   "outputs": [
    {
     "name": "stdout",
     "output_type": "stream",
     "text": [
      "(797, 10)\n"
     ]
    },
    {
     "data": {
      "text/plain": [
       "array([[0.9, 0.1, 0.1, ..., 0.1, 0.1, 0.1],\n",
       "       [0.1, 0.1, 0.9, ..., 0.1, 0.1, 0.1],\n",
       "       [0.9, 0.1, 0.1, ..., 0.1, 0.1, 0.1],\n",
       "       ...,\n",
       "       [0.1, 0.1, 0.1, ..., 0.1, 0.1, 0.9],\n",
       "       [0.1, 0.1, 0.1, ..., 0.9, 0.1, 0.1],\n",
       "       [0.1, 0.1, 0.1, ..., 0.1, 0.9, 0.1]])"
      ]
     },
     "execution_count": 1501,
     "metadata": {},
     "output_type": "execute_result"
    }
   ],
   "source": [
    "# Store predictions on test set images\n",
    "predictions = set_target(modelhalf.predict(X_test))\n",
    "\n",
    "# Verify shape and output of predictions\n",
    "print(predictions.shape)\n",
    "predictions"
   ]
  },
  {
   "cell_type": "code",
   "execution_count": 1502,
   "metadata": {},
   "outputs": [
    {
     "name": "stdout",
     "output_type": "stream",
     "text": [
      "(797,)\n"
     ]
    },
    {
     "data": {
      "text/plain": [
       "array([0, 2, 0, 5, 9, 0, 9, 3, 0, 9, 7, 6, 2, 0, 5, 6, 7, 1, 4, 0, 0, 2,\n",
       "       5, 2, 0, 7, 2, 2, 6, 6, 2, 6, 2, 5, 0, 6, 2, 0, 9, 1, 0, 0, 2, 3,\n",
       "       5, 0, 8, 8, 0, 1, 2, 7, 7, 4, 8, 4, 5, 1, 8, 5, 0, 8, 3, 9, 6, 9,\n",
       "       6, 4, 5, 4, 7, 3, 4, 0, 0, 8, 8, 9, 3, 6, 6, 4, 4, 3, 9, 5, 1, 4,\n",
       "       5, 9, 9, 1, 4, 4, 8, 6, 2, 7, 3, 0, 0, 7, 5, 2, 0, 8, 4, 4, 9, 1,\n",
       "       6, 8, 1, 6, 8, 7, 9, 8, 0, 3, 3, 5, 0, 9, 3, 4, 2, 6, 2, 7, 0, 6,\n",
       "       0, 9, 9, 5, 6, 7, 2, 6, 5, 6, 2, 9, 4, 0, 9, 1, 1, 1, 5, 0, 4, 3,\n",
       "       1, 3, 7, 4, 1, 9, 4, 9, 3, 6, 2, 6, 5, 6, 5, 8, 5, 4, 3, 4, 5, 1,\n",
       "       5, 0, 7, 4, 9, 8, 5, 4, 9, 5, 2, 1, 6, 4, 4, 1, 5, 7, 6, 4, 2, 6,\n",
       "       5, 9, 1, 0, 8, 1, 3, 2, 9, 7, 4, 4, 2, 3, 2, 5, 4, 7, 7, 0, 3, 8,\n",
       "       2, 0, 0, 7, 1, 1, 6, 5, 0, 3, 0, 0, 9, 0, 2, 8, 2, 3, 2, 8, 4, 1,\n",
       "       8, 0, 1, 9, 1, 8, 6, 3, 4, 6, 6, 4, 1, 7, 2, 7, 9, 6, 1, 2, 3, 3,\n",
       "       9, 3, 4, 3, 1, 1, 5, 3, 9, 2, 5, 6, 6, 7, 0, 2, 7, 3, 6, 2, 1, 8,\n",
       "       1, 1, 3, 4, 8, 5, 7, 9, 0, 7, 4, 1, 2, 4, 8, 4, 9, 6, 5, 8, 7, 9,\n",
       "       4, 0, 1, 8, 8, 3, 1, 0, 9, 9, 7, 1, 9, 9, 4, 6, 1, 4, 9, 2, 8, 7,\n",
       "       7, 8, 9, 9, 2, 3, 3, 0, 0, 9, 3, 8, 3, 9, 8, 9, 3, 3, 4, 5, 8, 5,\n",
       "       7, 1, 3, 5, 5, 7, 1, 2, 2, 1, 3, 7, 6, 2, 5, 0, 3, 2, 3, 2, 3, 4,\n",
       "       4, 5, 8, 3, 2, 3, 5, 7, 7, 7, 1, 5, 3, 0, 4, 0, 1, 2, 3, 3, 5, 3,\n",
       "       6, 1, 6, 6, 2, 9, 7, 7, 7, 2, 7, 9, 1, 6, 2, 6, 5, 9, 6, 2, 8, 3,\n",
       "       1, 2, 4, 9, 7, 8, 6, 3, 2, 2, 5, 0, 5, 4, 1, 6, 2, 7, 4, 4, 1, 6,\n",
       "       1, 7, 1, 7, 9, 9, 7, 3, 7, 2, 3, 3, 5, 7, 3, 9, 9, 4, 8, 5, 4, 3,\n",
       "       2, 5, 6, 0, 0, 9, 6, 4, 9, 4, 1, 1, 5, 8, 2, 5, 0, 0, 6, 0, 4, 6,\n",
       "       5, 5, 6, 9, 8, 7, 5, 8, 1, 3, 0, 2, 8, 3, 8, 1, 1, 0, 2, 8, 8, 9,\n",
       "       4, 4, 5, 2, 7, 8, 1, 2, 1, 5, 7, 5, 6, 6, 5, 8, 5, 6, 7, 4, 1, 6,\n",
       "       5, 5, 9, 1, 1, 5, 4, 6, 0, 1, 3, 0, 1, 6, 6, 7, 9, 4, 7, 1, 9, 1,\n",
       "       5, 5, 8, 0, 8, 2, 4, 9, 8, 8, 9, 6, 5, 0, 7, 7, 1, 0, 4, 5, 1, 4,\n",
       "       3, 9, 9, 2, 7, 0, 3, 7, 3, 6, 7, 9, 4, 5, 3, 8, 3, 1, 3, 7, 0, 4,\n",
       "       4, 6, 0, 5, 0, 9, 9, 4, 8, 8, 7, 7, 0, 4, 8, 8, 4, 6, 8, 9, 6, 9,\n",
       "       9, 3, 0, 6, 7, 2, 7, 9, 4, 2, 1, 9, 6, 2, 7, 0, 3, 7, 0, 3, 8, 6,\n",
       "       2, 1, 6, 1, 5, 2, 1, 5, 4, 0, 9, 8, 2, 5, 8, 8, 4, 9, 0, 6, 7, 0,\n",
       "       8, 8, 4, 1, 6, 5, 1, 9, 6, 3, 5, 2, 7, 9, 5, 1, 1, 2, 1, 1, 1, 6,\n",
       "       9, 3, 4, 5, 5, 5, 9, 9, 2, 1, 3, 0, 2, 8, 4, 2, 5, 5, 0, 1, 6, 7,\n",
       "       3, 1, 5, 6, 9, 2, 6, 4, 1, 8, 6, 6, 0, 5, 9, 8, 4, 9, 4, 6, 4, 7,\n",
       "       0, 2, 2, 1, 9, 2, 0, 1, 8, 9, 1, 4, 7, 2, 8, 2, 3, 0, 4, 3, 3, 3,\n",
       "       2, 1, 7, 6, 6, 7, 1, 8, 2, 7, 0, 7, 2, 7, 9, 9, 3, 3, 1, 6, 6, 0,\n",
       "       5, 0, 8, 2, 7, 2, 7, 1, 3, 1, 3, 6, 9, 9, 1, 2, 0, 5, 3, 0, 8, 0,\n",
       "       3, 7, 9, 7, 8], dtype=int64)"
      ]
     },
     "execution_count": 1502,
     "metadata": {},
     "output_type": "execute_result"
    }
   ],
   "source": [
    "# Convert predictions to actual digit value\n",
    "\n",
    "predicted = np.argmax(predictions, axis = 1)\n",
    "print(predicted.shape)\n",
    "predicted"
   ]
  },
  {
   "cell_type": "code",
   "execution_count": 1503,
   "metadata": {},
   "outputs": [
    {
     "name": "stdout",
     "output_type": "stream",
     "text": [
      "(797,)\n"
     ]
    },
    {
     "data": {
      "text/plain": [
       "array([0, 4, 0, 5, 8, 0, 9, 3, 0, 9, 7, 6, 2, 0, 5, 6, 7, 9, 4, 0, 0, 2,\n",
       "       5, 2, 0, 7, 2, 2, 6, 6, 2, 6, 2, 5, 0, 6, 2, 0, 9, 1, 0, 0, 2, 3,\n",
       "       5, 0, 8, 8, 0, 1, 2, 7, 7, 4, 8, 4, 5, 7, 8, 5, 0, 7, 3, 9, 6, 9,\n",
       "       6, 4, 5, 4, 7, 3, 4, 0, 0, 8, 8, 9, 3, 6, 6, 4, 4, 3, 9, 5, 1, 4,\n",
       "       5, 9, 9, 1, 4, 4, 8, 6, 2, 7, 3, 0, 0, 7, 5, 2, 8, 8, 4, 4, 9, 1,\n",
       "       6, 8, 1, 6, 8, 7, 9, 8, 0, 3, 3, 5, 0, 9, 3, 4, 2, 6, 2, 7, 0, 6,\n",
       "       0, 9, 9, 5, 6, 7, 2, 6, 5, 5, 2, 9, 4, 0, 9, 1, 1, 1, 5, 0, 4, 3,\n",
       "       1, 3, 7, 4, 4, 9, 4, 9, 3, 6, 2, 6, 5, 6, 5, 8, 5, 6, 3, 4, 5, 5,\n",
       "       5, 0, 7, 4, 9, 8, 5, 4, 9, 5, 2, 1, 6, 4, 4, 1, 5, 7, 6, 4, 1, 6,\n",
       "       0, 9, 2, 0, 8, 1, 3, 2, 9, 7, 4, 4, 2, 3, 2, 5, 4, 7, 7, 0, 3, 8,\n",
       "       2, 0, 0, 7, 1, 1, 6, 5, 0, 3, 0, 0, 9, 0, 2, 8, 2, 3, 8, 8, 4, 1,\n",
       "       9, 0, 7, 9, 1, 8, 6, 3, 2, 6, 6, 4, 1, 7, 2, 7, 7, 6, 1, 2, 3, 3,\n",
       "       9, 3, 4, 3, 1, 1, 5, 3, 9, 2, 5, 6, 6, 9, 0, 2, 7, 3, 6, 2, 1, 8,\n",
       "       1, 1, 3, 4, 8, 5, 7, 8, 0, 7, 4, 3, 2, 1, 8, 4, 3, 6, 5, 8, 7, 9,\n",
       "       4, 6, 1, 8, 8, 3, 1, 0, 9, 3, 7, 1, 9, 9, 9, 6, 1, 4, 9, 2, 8, 7,\n",
       "       7, 8, 9, 9, 2, 3, 3, 0, 0, 9, 3, 8, 3, 9, 8, 9, 3, 3, 4, 5, 8, 5,\n",
       "       7, 1, 3, 5, 5, 7, 8, 2, 2, 1, 3, 7, 6, 2, 5, 0, 3, 2, 3, 2, 3, 4,\n",
       "       4, 5, 8, 3, 2, 3, 5, 7, 7, 7, 1, 5, 3, 0, 4, 0, 1, 2, 3, 3, 5, 3,\n",
       "       6, 1, 6, 6, 2, 9, 7, 7, 7, 2, 8, 9, 1, 6, 1, 6, 5, 9, 6, 8, 8, 3,\n",
       "       1, 2, 4, 9, 7, 8, 6, 3, 2, 2, 5, 0, 5, 4, 1, 6, 2, 7, 4, 4, 1, 6,\n",
       "       1, 7, 1, 7, 9, 9, 7, 3, 7, 2, 3, 3, 5, 7, 3, 8, 9, 4, 8, 5, 6, 3,\n",
       "       2, 5, 6, 0, 0, 9, 6, 4, 9, 4, 1, 1, 5, 8, 2, 5, 0, 0, 6, 0, 4, 6,\n",
       "       5, 5, 6, 9, 8, 7, 5, 8, 1, 3, 0, 2, 8, 3, 8, 1, 1, 0, 2, 8, 8, 3,\n",
       "       4, 4, 8, 2, 4, 2, 1, 8, 1, 7, 7, 5, 6, 6, 5, 8, 5, 6, 7, 4, 1, 6,\n",
       "       5, 5, 9, 1, 1, 5, 4, 6, 0, 1, 3, 0, 1, 6, 6, 7, 9, 4, 7, 1, 9, 4,\n",
       "       5, 5, 8, 0, 8, 2, 4, 5, 8, 8, 9, 6, 5, 0, 7, 7, 1, 0, 4, 5, 1, 9,\n",
       "       3, 9, 9, 2, 7, 0, 3, 4, 3, 6, 7, 9, 4, 5, 5, 2, 3, 1, 3, 7, 0, 4,\n",
       "       4, 6, 0, 3, 0, 8, 9, 4, 8, 8, 7, 7, 0, 4, 2, 8, 4, 6, 8, 9, 6, 9,\n",
       "       8, 3, 0, 6, 4, 2, 7, 9, 4, 2, 1, 9, 6, 2, 7, 0, 3, 7, 0, 3, 8, 6,\n",
       "       2, 1, 6, 1, 5, 2, 7, 5, 4, 0, 9, 8, 2, 5, 8, 8, 4, 9, 0, 6, 7, 0,\n",
       "       1, 8, 4, 1, 6, 5, 1, 9, 6, 3, 5, 2, 7, 9, 5, 1, 1, 2, 1, 1, 1, 6,\n",
       "       9, 3, 4, 5, 5, 5, 9, 9, 2, 6, 3, 0, 2, 8, 4, 2, 5, 5, 0, 1, 4, 7,\n",
       "       3, 1, 5, 6, 9, 2, 6, 4, 1, 8, 7, 6, 0, 5, 9, 8, 4, 4, 4, 6, 4, 7,\n",
       "       0, 2, 2, 1, 9, 2, 0, 1, 8, 9, 1, 4, 7, 2, 8, 8, 3, 0, 0, 3, 3, 3,\n",
       "       2, 1, 7, 6, 6, 7, 4, 8, 8, 7, 0, 7, 2, 7, 9, 9, 3, 7, 1, 6, 6, 0,\n",
       "       5, 0, 8, 2, 4, 2, 7, 1, 9, 1, 3, 6, 1, 9, 1, 2, 0, 5, 3, 0, 8, 0,\n",
       "       3, 7, 9, 7, 8], dtype=int64)"
      ]
     },
     "execution_count": 1503,
     "metadata": {},
     "output_type": "execute_result"
    }
   ],
   "source": [
    "# Convert labels to actual digit value\n",
    "actual = np.argmax(y_test, axis = 1)\n",
    "print(actual.shape)\n",
    "actual"
   ]
  },
  {
   "cell_type": "code",
   "execution_count": 1504,
   "metadata": {},
   "outputs": [
    {
     "name": "stdout",
     "output_type": "stream",
     "text": [
      "Accuracy:\n",
      "0.921\n",
      "Precision:\n",
      "[0.97530864 0.86363636 0.90243902 0.96153846 0.91025641 0.94936709\n",
      " 0.9625     0.92207792 0.91304348 0.85882353]\n",
      "Recall:\n",
      "[0.97530864 0.9382716  0.93670886 0.9375     0.87654321 0.94936709\n",
      " 0.95061728 0.89873418 0.81818182 0.92405063]\n"
     ]
    }
   ],
   "source": [
    "# Calculate accuracy, precision and recall using metrics package\n",
    "print(f\"Accuracy:\\n{round(metrics.accuracy_score(actual,predicted),4)}\")\n",
    "print(f\"Precision:\\n{metrics.precision_score(actual,predicted,average=None)}\")\n",
    "print(f\"Recall:\\n{metrics.recall_score(actual,predicted,average=None)}\")"
   ]
  },
  {
   "cell_type": "code",
   "execution_count": 1505,
   "metadata": {},
   "outputs": [
    {
     "data": {
      "image/png": "[encoded data removed]",
      "text/plain": [
       "<Figure size 360x360 with 2 Axes>"
      ]
     },
     "metadata": {
      "needs_background": "light"
     },
     "output_type": "display_data"
    }
   ],
   "source": [
    "# Heatmapped Confusion Matrix\n",
    "plt.rcParams['figure.figsize'] = (5,5)\n",
    "mat=confusion_matrix(actual,predicted)\n",
    "sns.heatmap(mat.T,square=True,annot=True, fmt='d')\n",
    "plt.xlabel('True Class')\n",
    "plt.ylabel('Predicted Class')\n",
    "plt.show()"
   ]
  },
  {
   "cell_type": "code",
   "execution_count": 1506,
   "metadata": {},
   "outputs": [
    {
     "data": {
      "image/png": "[encoded data removed]",
      "text/plain": [
       "<Figure size 576x360 with 1 Axes>"
      ]
     },
     "metadata": {
      "needs_background": "light"
     },
     "output_type": "display_data"
    }
   ],
   "source": [
    "plot_accgraph(evaluation,100)"
   ]
  },
  {
   "cell_type": "markdown",
   "metadata": {},
   "source": [
    "<h1> Effect of Training Data size on Convergence </h1>"
   ]
  },
  {
   "cell_type": "markdown",
   "metadata": {},
   "source": [
    "<h2> 25% training data (100 hidden units) </h2>"
   ]
  },
  {
   "cell_type": "code",
   "execution_count": 1507,
   "metadata": {},
   "outputs": [
    {
     "name": "stdout",
     "output_type": "stream",
     "text": [
      "Train on 278 samples, validate on 120 samples\n",
      "Epoch 1/500\n",
      "278/278 [==============================] - 0s 2ms/sample - loss: 2.2783 - accuracy: 0.1295 - val_loss: 2.2246 - val_accuracy: 0.2500\n",
      "Epoch 2/500\n",
      "278/278 [==============================] - 0s 175us/sample - loss: 2.1741 - accuracy: 0.3417 - val_loss: 2.1351 - val_accuracy: 0.4667\n",
      "Epoch 3/500\n",
      "278/278 [==============================] - 0s 173us/sample - loss: 2.0566 - accuracy: 0.5863 - val_loss: 2.0250 - val_accuracy: 0.5333\n",
      "Epoch 4/500\n",
      "278/278 [==============================] - 0s 178us/sample - loss: 1.9202 - accuracy: 0.7194 - val_loss: 1.8921 - val_accuracy: 0.6500\n",
      "Epoch 5/500\n",
      "278/278 [==============================] - 0s 177us/sample - loss: 1.7806 - accuracy: 0.7806 - val_loss: 1.7627 - val_accuracy: 0.7667\n",
      "Epoch 6/500\n",
      "278/278 [==============================] - 0s 187us/sample - loss: 1.6450 - accuracy: 0.8741 - val_loss: 1.6576 - val_accuracy: 0.7750\n",
      "Epoch 7/500\n",
      "278/278 [==============================] - 0s 193us/sample - loss: 1.5295 - accuracy: 0.8561 - val_loss: 1.5493 - val_accuracy: 0.8083\n",
      "Epoch 8/500\n",
      "278/278 [==============================] - 0s 191us/sample - loss: 1.4125 - accuracy: 0.9065 - val_loss: 1.4666 - val_accuracy: 0.8167\n",
      "Epoch 9/500\n",
      "278/278 [==============================] - 0s 190us/sample - loss: 1.3096 - accuracy: 0.8849 - val_loss: 1.3655 - val_accuracy: 0.8333\n",
      "Epoch 10/500\n",
      "278/278 [==============================] - 0s 190us/sample - loss: 1.2101 - accuracy: 0.8993 - val_loss: 1.2813 - val_accuracy: 0.8500\n",
      "Epoch 11/500\n",
      "278/278 [==============================] - 0s 187us/sample - loss: 1.1177 - accuracy: 0.9101 - val_loss: 1.2034 - val_accuracy: 0.8500\n",
      "Epoch 12/500\n",
      "278/278 [==============================] - 0s 190us/sample - loss: 1.0352 - accuracy: 0.9245 - val_loss: 1.1266 - val_accuracy: 0.8500\n",
      "Epoch 13/500\n",
      "278/278 [==============================] - 0s 191us/sample - loss: 0.9540 - accuracy: 0.9281 - val_loss: 1.0756 - val_accuracy: 0.8500\n",
      "Epoch 14/500\n",
      "278/278 [==============================] - 0s 195us/sample - loss: 0.8837 - accuracy: 0.9317 - val_loss: 1.0091 - val_accuracy: 0.8667\n",
      "Epoch 15/500\n",
      "278/278 [==============================] - 0s 187us/sample - loss: 0.8191 - accuracy: 0.9424 - val_loss: 0.9558 - val_accuracy: 0.8667\n",
      "Epoch 16/500\n",
      "278/278 [==============================] - 0s 186us/sample - loss: 0.7553 - accuracy: 0.9388 - val_loss: 0.9083 - val_accuracy: 0.8917\n",
      "Epoch 17/500\n",
      "278/278 [==============================] - 0s 182us/sample - loss: 0.6994 - accuracy: 0.9568 - val_loss: 0.8565 - val_accuracy: 0.8750\n",
      "Epoch 18/500\n",
      "278/278 [==============================] - 0s 193us/sample - loss: 0.6452 - accuracy: 0.9496 - val_loss: 0.8168 - val_accuracy: 0.8583\n",
      "Epoch 19/500\n",
      "278/278 [==============================] - 0s 195us/sample - loss: 0.5987 - accuracy: 0.9604 - val_loss: 0.7750 - val_accuracy: 0.8917\n",
      "Epoch 20/500\n",
      "278/278 [==============================] - 0s 190us/sample - loss: 0.5509 - accuracy: 0.9604 - val_loss: 0.7385 - val_accuracy: 0.9000\n",
      "Epoch 21/500\n",
      "278/278 [==============================] - 0s 181us/sample - loss: 0.5108 - accuracy: 0.9640 - val_loss: 0.7071 - val_accuracy: 0.8917\n",
      "Epoch 22/500\n",
      "278/278 [==============================] - 0s 179us/sample - loss: 0.4727 - accuracy: 0.9604 - val_loss: 0.6807 - val_accuracy: 0.8917\n",
      "Epoch 23/500\n",
      "278/278 [==============================] - 0s 187us/sample - loss: 0.4370 - accuracy: 0.9604 - val_loss: 0.6559 - val_accuracy: 0.9083\n",
      "Epoch 24/500\n",
      "278/278 [==============================] - 0s 193us/sample - loss: 0.4045 - accuracy: 0.9712 - val_loss: 0.6322 - val_accuracy: 0.9083\n",
      "Epoch 25/500\n",
      "278/278 [==============================] - 0s 186us/sample - loss: 0.3771 - accuracy: 0.9712 - val_loss: 0.6077 - val_accuracy: 0.9167\n",
      "Epoch 26/500\n",
      "278/278 [==============================] - 0s 192us/sample - loss: 0.3486 - accuracy: 0.9784 - val_loss: 0.5951 - val_accuracy: 0.9083\n",
      "Epoch 27/500\n",
      "278/278 [==============================] - 0s 189us/sample - loss: 0.3215 - accuracy: 0.9820 - val_loss: 0.5742 - val_accuracy: 0.8917\n",
      "Epoch 28/500\n",
      "278/278 [==============================] - 0s 189us/sample - loss: 0.2962 - accuracy: 0.9892 - val_loss: 0.5603 - val_accuracy: 0.9000\n",
      "Epoch 29/500\n",
      "278/278 [==============================] - 0s 186us/sample - loss: 0.2764 - accuracy: 0.9820 - val_loss: 0.5402 - val_accuracy: 0.9167\n",
      "Epoch 30/500\n",
      "278/278 [==============================] - 0s 195us/sample - loss: 0.2549 - accuracy: 0.9856 - val_loss: 0.5313 - val_accuracy: 0.9083\n",
      "Epoch 31/500\n",
      "278/278 [==============================] - 0s 189us/sample - loss: 0.2367 - accuracy: 0.9892 - val_loss: 0.5134 - val_accuracy: 0.9083\n",
      "Epoch 32/500\n",
      "278/278 [==============================] - 0s 186us/sample - loss: 0.2192 - accuracy: 0.9928 - val_loss: 0.4948 - val_accuracy: 0.9083\n",
      "Epoch 33/500\n",
      "278/278 [==============================] - 0s 185us/sample - loss: 0.2024 - accuracy: 0.9928 - val_loss: 0.4854 - val_accuracy: 0.9000\n",
      "Epoch 34/500\n",
      "278/278 [==============================] - 0s 189us/sample - loss: 0.1856 - accuracy: 0.9964 - val_loss: 0.4800 - val_accuracy: 0.9083\n",
      "Epoch 35/500\n",
      "278/278 [==============================] - 0s 191us/sample - loss: 0.1744 - accuracy: 0.9964 - val_loss: 0.4703 - val_accuracy: 0.9083\n",
      "Epoch 36/500\n",
      "278/278 [==============================] - 0s 190us/sample - loss: 0.1608 - accuracy: 0.9964 - val_loss: 0.4556 - val_accuracy: 0.9167\n",
      "Epoch 37/500\n",
      "278/278 [==============================] - 0s 191us/sample - loss: 0.1479 - accuracy: 1.0000 - val_loss: 0.4525 - val_accuracy: 0.9083\n",
      "Epoch 38/500\n",
      "278/278 [==============================] - 0s 193us/sample - loss: 0.1370 - accuracy: 1.0000 - val_loss: 0.4413 - val_accuracy: 0.9083\n",
      "Epoch 39/500\n",
      "278/278 [==============================] - 0s 183us/sample - loss: 0.1253 - accuracy: 1.0000 - val_loss: 0.4383 - val_accuracy: 0.9167\n",
      "Epoch 40/500\n",
      "278/278 [==============================] - 0s 189us/sample - loss: 0.1152 - accuracy: 1.0000 - val_loss: 0.4306 - val_accuracy: 0.9250\n",
      "Epoch 41/500\n",
      "278/278 [==============================] - 0s 186us/sample - loss: 0.1064 - accuracy: 1.0000 - val_loss: 0.4215 - val_accuracy: 0.9167\n",
      "Epoch 42/500\n",
      "278/278 [==============================] - 0s 184us/sample - loss: 0.0971 - accuracy: 1.0000 - val_loss: 0.4159 - val_accuracy: 0.9083\n",
      "Epoch 43/500\n",
      "278/278 [==============================] - 0s 180us/sample - loss: 0.0890 - accuracy: 1.0000 - val_loss: 0.4148 - val_accuracy: 0.9167\n",
      "Epoch 44/500\n",
      "278/278 [==============================] - 0s 183us/sample - loss: 0.0814 - accuracy: 1.0000 - val_loss: 0.4090 - val_accuracy: 0.9083\n",
      "Epoch 45/500\n",
      "278/278 [==============================] - 0s 195us/sample - loss: 0.0749 - accuracy: 1.0000 - val_loss: 0.3996 - val_accuracy: 0.9167\n",
      "Epoch 46/500\n",
      "278/278 [==============================] - 0s 187us/sample - loss: 0.0691 - accuracy: 1.0000 - val_loss: 0.4063 - val_accuracy: 0.9167\n",
      "Epoch 47/500\n",
      "278/278 [==============================] - 0s 185us/sample - loss: 0.0624 - accuracy: 1.0000 - val_loss: 0.4006 - val_accuracy: 0.9167\n",
      "Epoch 48/500\n",
      "278/278 [==============================] - 0s 183us/sample - loss: 0.0574 - accuracy: 1.0000 - val_loss: 0.3889 - val_accuracy: 0.9167\n",
      "Epoch 49/500\n",
      "278/278 [==============================] - 0s 185us/sample - loss: 0.0525 - accuracy: 1.0000 - val_loss: 0.3948 - val_accuracy: 0.9167\n",
      "Epoch 50/500\n",
      "278/278 [==============================] - 0s 180us/sample - loss: 0.0481 - accuracy: 1.0000 - val_loss: 0.3859 - val_accuracy: 0.9167\n",
      "Epoch 51/500\n",
      "278/278 [==============================] - 0s 184us/sample - loss: 0.0439 - accuracy: 1.0000 - val_loss: 0.3828 - val_accuracy: 0.9167\n",
      "Epoch 52/500\n",
      "278/278 [==============================] - 0s 183us/sample - loss: 0.0397 - accuracy: 1.0000 - val_loss: 0.3915 - val_accuracy: 0.9083\n",
      "Epoch 53/500\n",
      "278/278 [==============================] - 0s 186us/sample - loss: 0.0364 - accuracy: 1.0000 - val_loss: 0.3850 - val_accuracy: 0.9167\n",
      "Epoch 54/500\n",
      "278/278 [==============================] - 0s 190us/sample - loss: 0.0335 - accuracy: 1.0000 - val_loss: 0.3840 - val_accuracy: 0.9167\n",
      "Epoch 00054: early stopping\n"
     ]
    }
   ],
   "source": [
    "# Split into training and test sets, but with training data consisting of 25% and stratified wrt class\n",
    "X_train, X_test, y_train, y_test = train_test_split(X, y, stratify = y, train_size = 0.25, random_state = 10)\n",
    "\n",
    "# Clear previous session\n",
    "keras.backend.clear_session()\n",
    "\n",
    "# Initiate neural net\n",
    "# Hidden layer contains x number of neurons and both hidden and output layer \n",
    "# utilize sigmoid activation function with bias unit of 1\n",
    "\n",
    "modelqtrconv = keras.Sequential([\n",
    "    keras.layers.Dense(100, activation='sigmoid', input_shape = (X_train.shape[1],), use_bias=True, bias_initializer='ones'),\n",
    "    keras.layers.Dense(10, activation='sigmoid', use_bias=True, bias_initializer='ones'),\n",
    "])\n",
    "\n",
    "from tensorflow.python.keras import optimizers\n",
    "\n",
    "# Specify learning rate of 0.1\n",
    "\n",
    "sgd = optimizers.SGD(lr=0.1, momentum=0.0, nesterov=False)\n",
    "\n",
    "# Compile step required before training, set loss function with accuracy metrics\n",
    "modelqtrconv.compile(loss='categorical_crossentropy', metrics=['accuracy'])\n",
    "\n",
    "# Stop iterating when model converges \n",
    "es = EarlyStopping(monitor='val_loss', mode='min', verbose=1, patience=3)\n",
    "\n",
    "# Train model using 25% training data (100 hidden units) and stop at convergence\n",
    "\n",
    "evaluation = modelqtrconv.fit(X_train, y_train, validation_split=0.3, epochs=500, callbacks=[es])"
   ]
  },
  {
   "cell_type": "markdown",
   "metadata": {},
   "source": [
    "<h2> 50% training data (100 hidden units) </h2>"
   ]
  },
  {
   "cell_type": "code",
   "execution_count": 1508,
   "metadata": {},
   "outputs": [
    {
     "name": "stdout",
     "output_type": "stream",
     "text": [
      "Train on 557 samples, validate on 239 samples\n",
      "Epoch 1/500\n",
      "557/557 [==============================] - 1s 1ms/sample - loss: 2.2463 - accuracy: 0.1275 - val_loss: 2.1679 - val_accuracy: 0.1925\n",
      "Epoch 2/500\n",
      "557/557 [==============================] - 0s 176us/sample - loss: 2.0519 - accuracy: 0.4650 - val_loss: 1.9448 - val_accuracy: 0.6569\n",
      "Epoch 3/500\n",
      "557/557 [==============================] - 0s 172us/sample - loss: 1.8034 - accuracy: 0.7522 - val_loss: 1.7128 - val_accuracy: 0.7866\n",
      "Epoch 4/500\n",
      "557/557 [==============================] - 0s 174us/sample - loss: 1.5705 - accuracy: 0.8510 - val_loss: 1.5244 - val_accuracy: 0.7531\n",
      "Epoch 5/500\n",
      "557/557 [==============================] - 0s 176us/sample - loss: 1.3694 - accuracy: 0.8402 - val_loss: 1.3432 - val_accuracy: 0.7992\n",
      "Epoch 6/500\n",
      "557/557 [==============================] - 0s 173us/sample - loss: 1.1984 - accuracy: 0.8600 - val_loss: 1.2154 - val_accuracy: 0.7741\n",
      "Epoch 7/500\n",
      "557/557 [==============================] - 0s 177us/sample - loss: 1.0569 - accuracy: 0.8815 - val_loss: 1.0724 - val_accuracy: 0.8368\n",
      "Epoch 8/500\n",
      "557/557 [==============================] - 0s 169us/sample - loss: 0.9235 - accuracy: 0.9084 - val_loss: 0.9738 - val_accuracy: 0.8326\n",
      "Epoch 9/500\n",
      "557/557 [==============================] - 0s 174us/sample - loss: 0.8133 - accuracy: 0.9138 - val_loss: 0.8729 - val_accuracy: 0.8703\n",
      "Epoch 10/500\n",
      "557/557 [==============================] - 0s 175us/sample - loss: 0.7209 - accuracy: 0.9156 - val_loss: 0.7911 - val_accuracy: 0.8661\n",
      "Epoch 11/500\n",
      "557/557 [==============================] - 0s 175us/sample - loss: 0.6424 - accuracy: 0.9210 - val_loss: 0.7601 - val_accuracy: 0.8368\n",
      "Epoch 12/500\n",
      "557/557 [==============================] - 0s 172us/sample - loss: 0.5832 - accuracy: 0.9300 - val_loss: 0.6835 - val_accuracy: 0.8787\n",
      "Epoch 13/500\n",
      "557/557 [==============================] - 0s 171us/sample - loss: 0.5221 - accuracy: 0.9354 - val_loss: 0.6252 - val_accuracy: 0.8870\n",
      "Epoch 14/500\n",
      "557/557 [==============================] - 0s 170us/sample - loss: 0.4700 - accuracy: 0.9479 - val_loss: 0.5815 - val_accuracy: 0.8828\n",
      "Epoch 15/500\n",
      "557/557 [==============================] - 0s 173us/sample - loss: 0.4278 - accuracy: 0.9479 - val_loss: 0.5399 - val_accuracy: 0.9079\n",
      "Epoch 16/500\n",
      "557/557 [==============================] - ETA: 0s - loss: 0.4018 - accuracy: 0.95 - 0s 176us/sample - loss: 0.3864 - accuracy: 0.9587 - val_loss: 0.5158 - val_accuracy: 0.9038\n",
      "Epoch 17/500\n",
      "557/557 [==============================] - 0s 177us/sample - loss: 0.3543 - accuracy: 0.9623 - val_loss: 0.4882 - val_accuracy: 0.8996\n",
      "Epoch 18/500\n",
      "557/557 [==============================] - 0s 174us/sample - loss: 0.3192 - accuracy: 0.9659 - val_loss: 0.4738 - val_accuracy: 0.8996\n",
      "Epoch 19/500\n",
      "557/557 [==============================] - 0s 169us/sample - loss: 0.2916 - accuracy: 0.9695 - val_loss: 0.4353 - val_accuracy: 0.9038\n",
      "Epoch 20/500\n",
      "557/557 [==============================] - 0s 175us/sample - loss: 0.2667 - accuracy: 0.9731 - val_loss: 0.4445 - val_accuracy: 0.8870\n",
      "Epoch 21/500\n",
      "557/557 [==============================] - 0s 174us/sample - loss: 0.2441 - accuracy: 0.9785 - val_loss: 0.3989 - val_accuracy: 0.9079\n",
      "Epoch 22/500\n",
      "557/557 [==============================] - 0s 174us/sample - loss: 0.2225 - accuracy: 0.9785 - val_loss: 0.3883 - val_accuracy: 0.9079\n",
      "Epoch 23/500\n",
      "557/557 [==============================] - 0s 175us/sample - loss: 0.2034 - accuracy: 0.9820 - val_loss: 0.3759 - val_accuracy: 0.9079\n",
      "Epoch 24/500\n",
      "557/557 [==============================] - 0s 172us/sample - loss: 0.1843 - accuracy: 0.9874 - val_loss: 0.3796 - val_accuracy: 0.9038\n",
      "Epoch 25/500\n",
      "557/557 [==============================] - 0s 173us/sample - loss: 0.1695 - accuracy: 0.9856 - val_loss: 0.3522 - val_accuracy: 0.8996\n",
      "Epoch 26/500\n",
      "557/557 [==============================] - 0s 174us/sample - loss: 0.1538 - accuracy: 0.9874 - val_loss: 0.3625 - val_accuracy: 0.8996\n",
      "Epoch 27/500\n",
      "557/557 [==============================] - 0s 171us/sample - loss: 0.1413 - accuracy: 0.9874 - val_loss: 0.3302 - val_accuracy: 0.9038\n",
      "Epoch 28/500\n",
      "557/557 [==============================] - 0s 173us/sample - loss: 0.1284 - accuracy: 0.9910 - val_loss: 0.3319 - val_accuracy: 0.9121\n",
      "Epoch 29/500\n",
      "557/557 [==============================] - 0s 176us/sample - loss: 0.1173 - accuracy: 0.9946 - val_loss: 0.3241 - val_accuracy: 0.8996\n",
      "Epoch 30/500\n",
      "557/557 [==============================] - 0s 173us/sample - loss: 0.1069 - accuracy: 0.9928 - val_loss: 0.3193 - val_accuracy: 0.8954\n",
      "Epoch 31/500\n",
      "557/557 [==============================] - 0s 173us/sample - loss: 0.0971 - accuracy: 0.9946 - val_loss: 0.3084 - val_accuracy: 0.9079\n",
      "Epoch 32/500\n",
      "557/557 [==============================] - ETA: 0s - loss: 0.0860 - accuracy: 0.99 - 0s 173us/sample - loss: 0.0881 - accuracy: 0.9946 - val_loss: 0.3167 - val_accuracy: 0.9038\n",
      "Epoch 33/500\n",
      "557/557 [==============================] - 0s 172us/sample - loss: 0.0785 - accuracy: 0.9982 - val_loss: 0.3159 - val_accuracy: 0.8996\n",
      "Epoch 34/500\n",
      "557/557 [==============================] - 0s 173us/sample - loss: 0.0713 - accuracy: 0.9982 - val_loss: 0.3039 - val_accuracy: 0.9079\n",
      "Epoch 35/500\n",
      "557/557 [==============================] - 0s 176us/sample - loss: 0.0649 - accuracy: 0.9982 - val_loss: 0.3010 - val_accuracy: 0.9079\n",
      "Epoch 36/500\n",
      "557/557 [==============================] - 0s 172us/sample - loss: 0.0576 - accuracy: 0.9982 - val_loss: 0.2847 - val_accuracy: 0.8996\n",
      "Epoch 37/500\n",
      "557/557 [==============================] - ETA: 0s - loss: 0.0434 - accuracy: 1.00 - ETA: 0s - loss: 0.0494 - accuracy: 1.00 - 0s 169us/sample - loss: 0.0527 - accuracy: 0.9982 - val_loss: 0.2848 - val_accuracy: 0.9121\n",
      "Epoch 38/500\n",
      "557/557 [==============================] - 0s 170us/sample - loss: 0.0468 - accuracy: 1.0000 - val_loss: 0.2883 - val_accuracy: 0.8996\n",
      "Epoch 39/500\n",
      "557/557 [==============================] - 0s 171us/sample - loss: 0.0426 - accuracy: 1.0000 - val_loss: 0.3013 - val_accuracy: 0.8954\n",
      "Epoch 00039: early stopping\n"
     ]
    }
   ],
   "source": [
    "# Split into training and test sets, but with training data consisting of 50% and stratified wrt class\n",
    "X_train, X_test, y_train, y_test = train_test_split(X, y, stratify = y, train_size = 0.50, random_state = 10)\n",
    "\n",
    "# Clear previous session\n",
    "keras.backend.clear_session()\n",
    "\n",
    "# Initiate neural net\n",
    "# Hidden layer contains x number of neurons and both hidden and output layer \n",
    "# utilize sigmoid activation function with bias unit of 1\n",
    "\n",
    "modelhalfconv = keras.Sequential([\n",
    "    keras.layers.Dense(100, activation='sigmoid', input_shape = (X_train.shape[1],), use_bias=True, bias_initializer='ones'),\n",
    "    keras.layers.Dense(10, activation='sigmoid', use_bias=True, bias_initializer='ones'),\n",
    "])\n",
    "\n",
    "from tensorflow.python.keras import optimizers\n",
    "\n",
    "# Specify learning rate of 0.1\n",
    "\n",
    "sgd = optimizers.SGD(lr=0.1, momentum=0.0, nesterov=False)\n",
    "\n",
    "# Compile step required before training, set loss function with accuracy metrics\n",
    "modelhalfconv.compile(loss='categorical_crossentropy', metrics=['accuracy'])\n",
    "\n",
    "# Stop iterating when model converges \n",
    "es = EarlyStopping(monitor='val_loss', mode='min', verbose=1, patience=3)\n",
    "\n",
    "# Train model using 50% training data (100 hidden units) and stop at convergence\n",
    "\n",
    "evaluation = modelhalfconv.fit(X_train, y_train, validation_split=0.3, epochs=500, callbacks=[es])"
   ]
  },
  {
   "cell_type": "markdown",
   "metadata": {},
   "source": [
    "<h3> Discuss your results. How does size of training data affect the final accuracy on the test data? </h3>\n",
    "    \n",
    "<p1>The more training data we have, the better the model and thus the higher the final accuracy on the test data (unseen data). This means that our neural network generalizes to unseen data better the more training data it has to work with (also taking care to limit overfitting). Here, we got an increase of roughly 3%. </p1>"
   ]
  },
  {
   "cell_type": "markdown",
   "metadata": {},
   "source": [
    "<h3> Discuss your results. How does size of training data affect number of epochs needed for training to converge? </h3>\n",
    "<p1> In general, the more data we have for training, the less epochs are needed for training to converge. This was observed in the above convergence tests.</p1> "
   ]
  },
  {
   "cell_type": "markdown",
   "metadata": {},
   "source": [
    "<h3> Is there any evidence that any of your networks overfit to the training data? If so, what is the evidence? </h3>\n",
    "\n",
    "<p1> Yes - all networks are overfit. This can be seen from the accuracy vs epochs plots -- our final training accuracy is higher than final test accuracy. </p1>"
   ]
  },
  {
   "cell_type": "markdown",
   "metadata": {},
   "source": [
    "<h1> Extra Credit - increasing accuracy of best model </h1>"
   ]
  },
  {
   "cell_type": "code",
   "execution_count": 1509,
   "metadata": {},
   "outputs": [],
   "source": [
    "# Split into train and test sets\n",
    "X_train, X_test, y_train, y_test = train_test_split(X, y, test_size = 0.20, random_state = 10)"
   ]
  },
  {
   "cell_type": "code",
   "execution_count": 1510,
   "metadata": {},
   "outputs": [
    {
     "name": "stdout",
     "output_type": "stream",
     "text": [
      "Model: \"sequential\"\n",
      "_________________________________________________________________\n",
      "Layer (type)                 Output Shape              Param #   \n",
      "=================================================================\n",
      "dense (Dense)                (None, 181)               46517     \n",
      "_________________________________________________________________\n",
      "dense_1 (Dense)              (None, 10)                1820      \n",
      "=================================================================\n",
      "Total params: 48,337\n",
      "Trainable params: 48,337\n",
      "Non-trainable params: 0\n",
      "_________________________________________________________________\n"
     ]
    }
   ],
   "source": [
    "# Clear previous session\n",
    "keras.backend.clear_session()\n",
    "\n",
    "# Initiate neural net\n",
    "# Hidden layer contains x number of neurons and both hidden and output layer \n",
    "# utilize sigmoid activation function with bias unit of 1\n",
    "\n",
    "modeltuned = keras.Sequential([\n",
    "    keras.layers.Dense(181, activation='sigmoid', input_shape = (X_train.shape[1],)),\n",
    "    keras.layers.Dense(10, activation='sigmoid')\n",
    "])\n",
    "\n",
    "from tensorflow.python.keras import optimizers\n",
    "\n",
    "# Use Adam optimizer with learning rate of 0.01\n",
    "\n",
    "adam = optimizers.Adam(lr=0.01, beta_1=0.9, beta_2=0.999, epsilon=1e-07, amsgrad=False)\n",
    "\n",
    "# Compile step required before training, set loss function with accuracy metrics\n",
    "modeltuned.compile(loss='binary_crossentropy', metrics=['accuracy'])\n",
    "\n",
    "#Output summary\n",
    "modeltuned.summary()"
   ]
  },
  {
   "cell_type": "code",
   "execution_count": 1511,
   "metadata": {},
   "outputs": [
    {
     "name": "stdout",
     "output_type": "stream",
     "text": [
      "Train on 1274 samples, validate on 319 samples\n",
      "Epoch 1/50\n",
      "1274/1274 [==============================] - 1s 459us/sample - loss: 0.3213 - accuracy: 0.8841 - val_loss: 0.2531 - val_accuracy: 0.9000\n",
      "Epoch 2/50\n",
      "1274/1274 [==============================] - 0s 123us/sample - loss: 0.2137 - accuracy: 0.9092 - val_loss: 0.1928 - val_accuracy: 0.9163\n",
      "Epoch 3/50\n",
      "1274/1274 [==============================] - 0s 122us/sample - loss: 0.1616 - accuracy: 0.9372 - val_loss: 0.1561 - val_accuracy: 0.9420\n",
      "Epoch 4/50\n",
      "1274/1274 [==============================] - 0s 135us/sample - loss: 0.1295 - accuracy: 0.9569 - val_loss: 0.1324 - val_accuracy: 0.9558\n",
      "Epoch 5/50\n",
      "1274/1274 [==============================] - 0s 138us/sample - loss: 0.1069 - accuracy: 0.9668 - val_loss: 0.1162 - val_accuracy: 0.9633\n",
      "Epoch 6/50\n",
      "1274/1274 [==============================] - 0s 137us/sample - loss: 0.0902 - accuracy: 0.9743 - val_loss: 0.1025 - val_accuracy: 0.9680\n",
      "Epoch 7/50\n",
      "1274/1274 [==============================] - 0s 137us/sample - loss: 0.0783 - accuracy: 0.9789 - val_loss: 0.0925 - val_accuracy: 0.9746\n",
      "Epoch 8/50\n",
      "1274/1274 [==============================] - 0s 135us/sample - loss: 0.0686 - accuracy: 0.9819 - val_loss: 0.0866 - val_accuracy: 0.9743\n",
      "Epoch 9/50\n",
      "1274/1274 [==============================] - 0s 137us/sample - loss: 0.0609 - accuracy: 0.9837 - val_loss: 0.0793 - val_accuracy: 0.9768\n",
      "Epoch 10/50\n",
      "1274/1274 [==============================] - 0s 138us/sample - loss: 0.0546 - accuracy: 0.9857 - val_loss: 0.0770 - val_accuracy: 0.9752\n",
      "Epoch 11/50\n",
      "1274/1274 [==============================] - 0s 136us/sample - loss: 0.0490 - accuracy: 0.9864 - val_loss: 0.0719 - val_accuracy: 0.9784\n",
      "Epoch 12/50\n",
      "1274/1274 [==============================] - 0s 136us/sample - loss: 0.0446 - accuracy: 0.9884 - val_loss: 0.0699 - val_accuracy: 0.9784\n",
      "Epoch 13/50\n",
      "1274/1274 [==============================] - 0s 136us/sample - loss: 0.0405 - accuracy: 0.9894 - val_loss: 0.0664 - val_accuracy: 0.9815\n",
      "Epoch 14/50\n",
      "1274/1274 [==============================] - 0s 136us/sample - loss: 0.0368 - accuracy: 0.9907 - val_loss: 0.0649 - val_accuracy: 0.9809\n",
      "Epoch 15/50\n",
      "1274/1274 [==============================] - 0s 137us/sample - loss: 0.0337 - accuracy: 0.9920 - val_loss: 0.0637 - val_accuracy: 0.9818\n",
      "Epoch 16/50\n",
      "1274/1274 [==============================] - 0s 136us/sample - loss: 0.0307 - accuracy: 0.9924 - val_loss: 0.0600 - val_accuracy: 0.9834\n",
      "Epoch 17/50\n",
      "1274/1274 [==============================] - 0s 136us/sample - loss: 0.0282 - accuracy: 0.9935 - val_loss: 0.0591 - val_accuracy: 0.9840\n",
      "Epoch 18/50\n",
      "1274/1274 [==============================] - 0s 136us/sample - loss: 0.0260 - accuracy: 0.9943 - val_loss: 0.0578 - val_accuracy: 0.9828\n",
      "Epoch 19/50\n",
      "1274/1274 [==============================] - 0s 138us/sample - loss: 0.0239 - accuracy: 0.9953 - val_loss: 0.0581 - val_accuracy: 0.9837\n",
      "Epoch 20/50\n",
      "1274/1274 [==============================] - 0s 137us/sample - loss: 0.0218 - accuracy: 0.9961 - val_loss: 0.0581 - val_accuracy: 0.9831\n",
      "Epoch 21/50\n",
      "1274/1274 [==============================] - 0s 145us/sample - loss: 0.0201 - accuracy: 0.9965 - val_loss: 0.0571 - val_accuracy: 0.9837\n",
      "Epoch 22/50\n",
      "1274/1274 [==============================] - 0s 141us/sample - loss: 0.0185 - accuracy: 0.9976 - val_loss: 0.0564 - val_accuracy: 0.9831\n",
      "Epoch 23/50\n",
      "1274/1274 [==============================] - 0s 138us/sample - loss: 0.0169 - accuracy: 0.9976 - val_loss: 0.0548 - val_accuracy: 0.9846\n",
      "Epoch 24/50\n",
      "1274/1274 [==============================] - 0s 137us/sample - loss: 0.0155 - accuracy: 0.9982 - val_loss: 0.0556 - val_accuracy: 0.9834\n",
      "Epoch 25/50\n",
      "1274/1274 [==============================] - 0s 138us/sample - loss: 0.0141 - accuracy: 0.9984 - val_loss: 0.0576 - val_accuracy: 0.9831\n",
      "Epoch 26/50\n",
      "1274/1274 [==============================] - 0s 136us/sample - loss: 0.0130 - accuracy: 0.9984 - val_loss: 0.0551 - val_accuracy: 0.9856\n",
      "Epoch 27/50\n",
      "1274/1274 [==============================] - 0s 137us/sample - loss: 0.0119 - accuracy: 0.9990 - val_loss: 0.0562 - val_accuracy: 0.9846\n",
      "Epoch 28/50\n",
      "1274/1274 [==============================] - 0s 138us/sample - loss: 0.0109 - accuracy: 0.9990 - val_loss: 0.0563 - val_accuracy: 0.9840\n",
      "Epoch 29/50\n",
      "1274/1274 [==============================] - 0s 140us/sample - loss: 0.0098 - accuracy: 0.9991 - val_loss: 0.0561 - val_accuracy: 0.9837\n",
      "Epoch 30/50\n",
      "1274/1274 [==============================] - 0s 138us/sample - loss: 0.0090 - accuracy: 0.9993 - val_loss: 0.0569 - val_accuracy: 0.9853\n",
      "Epoch 31/50\n",
      "1274/1274 [==============================] - 0s 138us/sample - loss: 0.0081 - accuracy: 0.9995 - val_loss: 0.0588 - val_accuracy: 0.9843\n",
      "Epoch 32/50\n",
      "1274/1274 [==============================] - 0s 137us/sample - loss: 0.0074 - accuracy: 0.9995 - val_loss: 0.0560 - val_accuracy: 0.9850\n",
      "Epoch 33/50\n",
      "1274/1274 [==============================] - 0s 138us/sample - loss: 0.0067 - accuracy: 0.9998 - val_loss: 0.0570 - val_accuracy: 0.9834\n",
      "Epoch 34/50\n",
      "1274/1274 [==============================] - 0s 135us/sample - loss: 0.0061 - accuracy: 0.9998 - val_loss: 0.0556 - val_accuracy: 0.9853\n",
      "Epoch 35/50\n",
      "1274/1274 [==============================] - 0s 136us/sample - loss: 0.0054 - accuracy: 0.9999 - val_loss: 0.0571 - val_accuracy: 0.9840\n",
      "Epoch 36/50\n",
      "1274/1274 [==============================] - 0s 136us/sample - loss: 0.0049 - accuracy: 0.9999 - val_loss: 0.0565 - val_accuracy: 0.9846\n",
      "Epoch 37/50\n",
      "1274/1274 [==============================] - 0s 136us/sample - loss: 0.0044 - accuracy: 0.9999 - val_loss: 0.0570 - val_accuracy: 0.9846\n",
      "Epoch 38/50\n",
      "1274/1274 [==============================] - 0s 135us/sample - loss: 0.0040 - accuracy: 0.9999 - val_loss: 0.0585 - val_accuracy: 0.9840\n",
      "Epoch 39/50\n",
      "1274/1274 [==============================] - 0s 136us/sample - loss: 0.0035 - accuracy: 1.0000 - val_loss: 0.0586 - val_accuracy: 0.9837\n",
      "Epoch 40/50\n",
      "1274/1274 [==============================] - ETA: 0s - loss: 0.0030 - accuracy: 1.00 - 0s 135us/sample - loss: 0.0032 - accuracy: 1.0000 - val_loss: 0.0605 - val_accuracy: 0.9850\n",
      "Epoch 41/50\n",
      "1274/1274 [==============================] - 0s 135us/sample - loss: 0.0028 - accuracy: 1.0000 - val_loss: 0.0611 - val_accuracy: 0.9850\n",
      "Epoch 42/50\n",
      "1274/1274 [==============================] - 0s 137us/sample - loss: 0.0025 - accuracy: 1.0000 - val_loss: 0.0628 - val_accuracy: 0.9840\n",
      "Epoch 43/50\n",
      "1274/1274 [==============================] - 0s 136us/sample - loss: 0.0022 - accuracy: 1.0000 - val_loss: 0.0616 - val_accuracy: 0.9846\n",
      "Epoch 44/50\n",
      "1274/1274 [==============================] - 0s 138us/sample - loss: 0.0020 - accuracy: 1.0000 - val_loss: 0.0624 - val_accuracy: 0.9840\n",
      "Epoch 45/50\n",
      "1274/1274 [==============================] - 0s 136us/sample - loss: 0.0018 - accuracy: 1.0000 - val_loss: 0.0656 - val_accuracy: 0.9831\n",
      "Epoch 46/50\n",
      "1274/1274 [==============================] - 0s 135us/sample - loss: 0.0016 - accuracy: 1.0000 - val_loss: 0.0632 - val_accuracy: 0.9843\n",
      "Epoch 47/50\n",
      "1274/1274 [==============================] - 0s 136us/sample - loss: 0.0014 - accuracy: 1.0000 - val_loss: 0.0624 - val_accuracy: 0.9843\n",
      "Epoch 48/50\n",
      "1274/1274 [==============================] - 0s 137us/sample - loss: 0.0012 - accuracy: 1.0000 - val_loss: 0.0624 - val_accuracy: 0.9843\n",
      "Epoch 49/50\n",
      "1274/1274 [==============================] - 0s 137us/sample - loss: 0.0011 - accuracy: 1.0000 - val_loss: 0.0669 - val_accuracy: 0.9843\n",
      "Epoch 50/50\n",
      "1274/1274 [==============================] - 0s 149us/sample - loss: 9.5608e-04 - accuracy: 1.0000 - val_loss: 0.0648 - val_accuracy: 0.9846\n"
     ]
    }
   ],
   "source": [
    "evaluation = modeltuned.fit(X_train, y_train, validation_data=(X_test, y_test), epochs=50)"
   ]
  },
  {
   "cell_type": "code",
   "execution_count": 1512,
   "metadata": {},
   "outputs": [
    {
     "name": "stdout",
     "output_type": "stream",
     "text": [
      "Training accuracy: 1.0\n",
      "\n",
      "Test accuracy: 0.9846394\n"
     ]
    }
   ],
   "source": [
    "test_loss, test_acc = modeltuned.evaluate(X_test,  y_test, verbose=0)\n",
    "print('Training accuracy:',max(evaluation.history['accuracy']))\n",
    "print('\\nTest accuracy:', test_acc)"
   ]
  },
  {
   "cell_type": "markdown",
   "metadata": {},
   "source": [
    "<h3> Document what changes you needed to make to achieve these results. </h3>\n",
    "<p> I used rule of thumb of 2/3 input layer + output layer to compute number of hidden units and reverted back to default bias units. I used 'Adam' optimizer rather than SGD, with default settings found here:\n",
    "\n",
    "https://www.tensorflow.org/api_docs/python/tf/keras/optimizers/Adam\n",
    "\n",
    "However, rather than learning rate of .01, I set it to 0.1 instead. My compile step uses binary cross-entropy loss function instead of categorical.  \n",
    "\n",
    "Final Accuracy achieved is 98.5%, compared with previous highest accuracy on test set of around 92%.\n",
    "</p>"
   ]
  },
  {
   "cell_type": "code",
   "execution_count": null,
   "metadata": {},
   "outputs": [],
   "source": []
  }
 ],
 "metadata": {
  "kernelspec": {
   "display_name": "TensorFlow-GPU-2.00",
   "language": "python",
   "name": "tf-gpu"
  },
  "language_info": {
   "codemirror_mode": {
    "name": "ipython",
    "version": 3
   },
   "file_extension": ".py",
   "mimetype": "text/x-python",
   "name": "python",
   "nbconvert_exporter": "python",
   "pygments_lexer": "ipython3",
   "version": "3.7.6"
  }
 },
 "nbformat": 4,
 "nbformat_minor": 2
}
